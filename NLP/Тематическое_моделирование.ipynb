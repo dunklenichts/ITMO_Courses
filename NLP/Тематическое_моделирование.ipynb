{
  "nbformat": 4,
  "nbformat_minor": 0,
  "metadata": {
    "colab": {
      "provenance": []
    },
    "kernelspec": {
      "name": "python3",
      "display_name": "Python 3"
    },
    "language_info": {
      "name": "python"
    }
  },
  "cells": [
    {
      "cell_type": "markdown",
      "source": [
        "## Лабораторная № 3. Тематическое моделирование"
      ],
      "metadata": {
        "id": "sy1Y2b6W1Hx6"
      }
    },
    {
      "cell_type": "code",
      "execution_count": null,
      "metadata": {
        "id": "V2_5m9IV1BiG"
      },
      "outputs": [],
      "source": [
        "import re\n",
        "import numpy as np\n",
        "import pandas as pd\n",
        "from pprint import pprint\n",
        "\n",
        "import warnings\n",
        "warnings.filterwarnings(\"ignore\")\n",
        "warnings.filterwarnings(\"ignore\", category=DeprecationWarning)"
      ]
    },
    {
      "cell_type": "markdown",
      "source": [
        "### Выполните тематическое моделирование отзывов о банковских услугах помощью LDA (используйте библиотеку gensim) для одного из топ-5 банков по количеству отзывов. Для уменьшение времени вычисления можно взять выборку отзывов.\n"
      ],
      "metadata": {
        "id": "3KxUa34n1W0v"
      }
    },
    {
      "cell_type": "code",
      "source": [
        "!pip install pyLDAvis\n",
        "!pip install pymorphy2"
      ],
      "metadata": {
        "id": "WGEcWN2P6PM6"
      },
      "execution_count": null,
      "outputs": []
    },
    {
      "cell_type": "code",
      "source": [
        "import gensim\n",
        "import gensim.corpora as corpora\n",
        "from gensim.utils import simple_preprocess\n",
        "from gensim.models import CoherenceModel\n",
        "\n",
        "import pyLDAvis\n",
        "import pyLDAvis.gensim_models\n",
        "import matplotlib.pyplot as plt\n",
        "%matplotlib inline\n",
        "\n",
        "import pymorphy2\n",
        "import nltk\n",
        "from nltk.tokenize import word_tokenize\n",
        "nltk.download('punkt')\n",
        "from nltk.corpus import stopwords"
      ],
      "metadata": {
        "id": "aJyr-Qvq6Eu-",
        "colab": {
          "base_uri": "https://localhost:8080/"
        },
        "outputId": "761efe8c-0d00-4fee-80b3-3f8efbaf4dc9"
      },
      "execution_count": null,
      "outputs": [
        {
          "output_type": "stream",
          "name": "stderr",
          "text": [
            "[nltk_data] Downloading package punkt to /root/nltk_data...\n",
            "[nltk_data]   Package punkt is already up-to-date!\n"
          ]
        }
      ]
    },
    {
      "cell_type": "code",
      "source": [
        "def preprcesss(text):\n",
        "  text = re.sub(r'[^\\w\\s]', '', text)\n",
        "  text = gensim.utils.simple_preprocess(text, deacc=True)\n",
        "\n",
        "  return text"
      ],
      "metadata": {
        "id": "sAqQ9VjD9FGs"
      },
      "execution_count": null,
      "outputs": []
    },
    {
      "cell_type": "code",
      "source": [
        "data = pd.read_csv('/content/financial_review.csv')\n",
        "# оставляю только тиньк\n",
        "bank_name = data['bank_name'].value_counts().head(5).to_dict()\n",
        "data_bank = data.loc[data['bank_name'] == list(bank_name.items())[2][0]]\n",
        "\n",
        "data_bank_lemma = data_bank.copy()\n",
        "\n",
        "data = data_bank['review'].values.tolist()\n",
        "data = [re.sub('\\S*@\\S*\\s?', '', sent) for sent in data]\n",
        "data = [re.sub('\\s+', ' ', sent) for sent in data]\n",
        "data = [re.sub(\"\\'\", \"\", sent) for sent in data]"
      ],
      "metadata": {
        "id": "W_Cc7Rwg9fVb"
      },
      "execution_count": null,
      "outputs": []
    },
    {
      "cell_type": "code",
      "source": [
        "data_words = [preprcesss(text) for text in data]\n",
        "\n",
        "bigram = gensim.models.Phrases(data_words, min_count=3, threshold=100)\n",
        "bigram_mod = gensim.models.phrases.Phraser(bigram)"
      ],
      "metadata": {
        "colab": {
          "base_uri": "https://localhost:8080/"
        },
        "id": "o8D5xu-48qqg",
        "outputId": "0c2b10a7-6090-4009-9e16-c8f288c1995a"
      },
      "execution_count": null,
      "outputs": [
        {
          "output_type": "stream",
          "name": "stderr",
          "text": [
            "/usr/local/lib/python3.10/dist-packages/ipykernel/ipkernel.py:283: DeprecationWarning: `should_run_async` will not call `transform_cell` automatically in the future. Please pass the result to `transformed_cell` argument and any exception that happen during thetransform in `preprocessing_exc_tuple` in IPython 7.17 and above.\n",
            "  and should_run_async(code)\n"
          ]
        }
      ]
    },
    {
      "cell_type": "code",
      "source": [
        "morph = pymorphy2.MorphAnalyzer()\n",
        "\n",
        "nltk.download('stopwords')\n",
        "stop_words = set(stopwords.words('russian'))"
      ],
      "metadata": {
        "colab": {
          "base_uri": "https://localhost:8080/"
        },
        "id": "DNaBrlINQxek",
        "outputId": "74782762-d5a9-4da7-ea5d-d9176a8ddea3"
      },
      "execution_count": null,
      "outputs": [
        {
          "output_type": "stream",
          "name": "stderr",
          "text": [
            "/usr/local/lib/python3.10/dist-packages/ipykernel/ipkernel.py:283: DeprecationWarning: `should_run_async` will not call `transform_cell` automatically in the future. Please pass the result to `transformed_cell` argument and any exception that happen during thetransform in `preprocessing_exc_tuple` in IPython 7.17 and above.\n",
            "  and should_run_async(code)\n",
            "/usr/local/lib/python3.10/dist-packages/pymorphy2/units/base.py:70: DeprecationWarning: inspect.getargspec() is deprecated since Python 3.0, use inspect.signature() or inspect.getfullargspec()\n",
            "  args, varargs, kw, default = inspect.getargspec(cls.__init__)\n",
            "/usr/local/lib/python3.10/dist-packages/pymorphy2/units/base.py:70: DeprecationWarning: inspect.getargspec() is deprecated since Python 3.0, use inspect.signature() or inspect.getfullargspec()\n",
            "  args, varargs, kw, default = inspect.getargspec(cls.__init__)\n",
            "/usr/local/lib/python3.10/dist-packages/pymorphy2/units/base.py:70: DeprecationWarning: inspect.getargspec() is deprecated since Python 3.0, use inspect.signature() or inspect.getfullargspec()\n",
            "  args, varargs, kw, default = inspect.getargspec(cls.__init__)\n",
            "/usr/local/lib/python3.10/dist-packages/pymorphy2/units/base.py:70: DeprecationWarning: inspect.getargspec() is deprecated since Python 3.0, use inspect.signature() or inspect.getfullargspec()\n",
            "  args, varargs, kw, default = inspect.getargspec(cls.__init__)\n",
            "/usr/local/lib/python3.10/dist-packages/pymorphy2/units/base.py:70: DeprecationWarning: inspect.getargspec() is deprecated since Python 3.0, use inspect.signature() or inspect.getfullargspec()\n",
            "  args, varargs, kw, default = inspect.getargspec(cls.__init__)\n",
            "/usr/local/lib/python3.10/dist-packages/pymorphy2/units/base.py:70: DeprecationWarning: inspect.getargspec() is deprecated since Python 3.0, use inspect.signature() or inspect.getfullargspec()\n",
            "  args, varargs, kw, default = inspect.getargspec(cls.__init__)\n",
            "/usr/local/lib/python3.10/dist-packages/pymorphy2/units/base.py:70: DeprecationWarning: inspect.getargspec() is deprecated since Python 3.0, use inspect.signature() or inspect.getfullargspec()\n",
            "  args, varargs, kw, default = inspect.getargspec(cls.__init__)\n",
            "/usr/local/lib/python3.10/dist-packages/pymorphy2/units/base.py:70: DeprecationWarning: inspect.getargspec() is deprecated since Python 3.0, use inspect.signature() or inspect.getfullargspec()\n",
            "  args, varargs, kw, default = inspect.getargspec(cls.__init__)\n",
            "/usr/local/lib/python3.10/dist-packages/pymorphy2/units/base.py:70: DeprecationWarning: inspect.getargspec() is deprecated since Python 3.0, use inspect.signature() or inspect.getfullargspec()\n",
            "  args, varargs, kw, default = inspect.getargspec(cls.__init__)\n",
            "/usr/local/lib/python3.10/dist-packages/pymorphy2/units/base.py:70: DeprecationWarning: inspect.getargspec() is deprecated since Python 3.0, use inspect.signature() or inspect.getfullargspec()\n",
            "  args, varargs, kw, default = inspect.getargspec(cls.__init__)\n",
            "/usr/local/lib/python3.10/dist-packages/pymorphy2/units/base.py:70: DeprecationWarning: inspect.getargspec() is deprecated since Python 3.0, use inspect.signature() or inspect.getfullargspec()\n",
            "  args, varargs, kw, default = inspect.getargspec(cls.__init__)\n",
            "/usr/local/lib/python3.10/dist-packages/pymorphy2/units/base.py:70: DeprecationWarning: inspect.getargspec() is deprecated since Python 3.0, use inspect.signature() or inspect.getfullargspec()\n",
            "  args, varargs, kw, default = inspect.getargspec(cls.__init__)\n",
            "[nltk_data] Downloading package stopwords to /root/nltk_data...\n",
            "[nltk_data]   Package stopwords is already up-to-date!\n"
          ]
        }
      ]
    },
    {
      "cell_type": "code",
      "source": [
        "def remove_stopwords(texts):\n",
        "    return [[word for word in simple_preprocess(str(doc)) if word not in stop_words] for doc in texts]\n",
        "\n",
        "def make_bigrams(texts):\n",
        "    return [bigram_mod[doc] for doc in texts]"
      ],
      "metadata": {
        "colab": {
          "base_uri": "https://localhost:8080/"
        },
        "id": "PAkhIgn_PQIn",
        "outputId": "eb8ea477-5087-4c3c-c292-29067016b40d"
      },
      "execution_count": null,
      "outputs": [
        {
          "output_type": "stream",
          "name": "stderr",
          "text": [
            "/usr/local/lib/python3.10/dist-packages/ipykernel/ipkernel.py:283: DeprecationWarning: `should_run_async` will not call `transform_cell` automatically in the future. Please pass the result to `transformed_cell` argument and any exception that happen during thetransform in `preprocessing_exc_tuple` in IPython 7.17 and above.\n",
            "  and should_run_async(code)\n"
          ]
        }
      ]
    },
    {
      "cell_type": "code",
      "source": [
        "data_words_nostops = remove_stopwords(data_words)\n",
        "data_words_bigrams = make_bigrams(data_words_nostops)"
      ],
      "metadata": {
        "colab": {
          "base_uri": "https://localhost:8080/"
        },
        "id": "w3Hlij0wPQKn",
        "outputId": "d17e88e4-29cc-49d7-b84c-fef2d9b7bec1"
      },
      "execution_count": null,
      "outputs": [
        {
          "output_type": "stream",
          "name": "stderr",
          "text": [
            "/usr/local/lib/python3.10/dist-packages/ipykernel/ipkernel.py:283: DeprecationWarning: `should_run_async` will not call `transform_cell` automatically in the future. Please pass the result to `transformed_cell` argument and any exception that happen during thetransform in `preprocessing_exc_tuple` in IPython 7.17 and above.\n",
            "  and should_run_async(code)\n"
          ]
        }
      ]
    },
    {
      "cell_type": "code",
      "source": [
        "import spacy\n",
        "! python -m spacy download ru_core_news_sm"
      ],
      "metadata": {
        "colab": {
          "base_uri": "https://localhost:8080/"
        },
        "id": "H5MTnvKdI2RI",
        "outputId": "02490e74-81fa-4794-e130-9d19ed207025"
      },
      "execution_count": null,
      "outputs": [
        {
          "output_type": "stream",
          "name": "stdout",
          "text": [
            "\u001b[38;5;2m✔ Download and installation successful\u001b[0m\n",
            "You can now load the package via spacy.load('ru_core_news_sm')\n",
            "\u001b[38;5;3m⚠ Restart to reload dependencies\u001b[0m\n",
            "If you are in a Jupyter or Colab notebook, you may need to restart Python in\n",
            "order to load all the package's dependencies. You can do this by selecting the\n",
            "'Restart kernel' or 'Restart runtime' option.\n"
          ]
        }
      ]
    },
    {
      "cell_type": "code",
      "source": [
        "nlp = spacy.load('ru_core_news_sm')"
      ],
      "metadata": {
        "colab": {
          "base_uri": "https://localhost:8080/"
        },
        "id": "P4ZSyZvPWmh6",
        "outputId": "c53ae4b4-3639-4acb-cc76-8cc0f0accd98"
      },
      "execution_count": null,
      "outputs": [
        {
          "output_type": "stream",
          "name": "stderr",
          "text": [
            "/usr/local/lib/python3.10/dist-packages/ipykernel/ipkernel.py:283: DeprecationWarning: `should_run_async` will not call `transform_cell` automatically in the future. Please pass the result to `transformed_cell` argument and any exception that happen during thetransform in `preprocessing_exc_tuple` in IPython 7.17 and above.\n",
            "  and should_run_async(code)\n"
          ]
        }
      ]
    },
    {
      "cell_type": "code",
      "source": [
        "def lemma(text):\n",
        "  texts_out = []\n",
        "  for sent in text:\n",
        "        doc = nlp(\" \".join(sent))\n",
        "        texts_out.append([token.lemma_ for token in doc if token.is_alpha])\n",
        "  return texts_out"
      ],
      "metadata": {
        "colab": {
          "base_uri": "https://localhost:8080/"
        },
        "id": "1TqDkbNrDbYD",
        "outputId": "63ca13a0-8d68-494a-c45f-dbb91d9f43f9"
      },
      "execution_count": null,
      "outputs": [
        {
          "output_type": "stream",
          "name": "stderr",
          "text": [
            "/usr/local/lib/python3.10/dist-packages/ipykernel/ipkernel.py:283: DeprecationWarning: `should_run_async` will not call `transform_cell` automatically in the future. Please pass the result to `transformed_cell` argument and any exception that happen during thetransform in `preprocessing_exc_tuple` in IPython 7.17 and above.\n",
            "  and should_run_async(code)\n"
          ]
        }
      ]
    },
    {
      "cell_type": "code",
      "source": [
        "data_lemmatized = lemma(data_words_bigrams)"
      ],
      "metadata": {
        "colab": {
          "base_uri": "https://localhost:8080/"
        },
        "id": "vRBUUU6kRFl_",
        "outputId": "bde34226-cc7d-4520-cb1c-a49bba57d063"
      },
      "execution_count": null,
      "outputs": [
        {
          "output_type": "stream",
          "name": "stderr",
          "text": [
            "/usr/local/lib/python3.10/dist-packages/ipykernel/ipkernel.py:283: DeprecationWarning: `should_run_async` will not call `transform_cell` automatically in the future. Please pass the result to `transformed_cell` argument and any exception that happen during thetransform in `preprocessing_exc_tuple` in IPython 7.17 and above.\n",
            "  and should_run_async(code)\n"
          ]
        }
      ]
    },
    {
      "cell_type": "code",
      "source": [
        "# словарь слово-индекс\n",
        "id2word = corpora.Dictionary(data_lemmatized)\n",
        "corpus = [id2word.doc2bow(review) for review in data_lemmatized]\n",
        "\n",
        "print(id2word, '\\n', corpus[101])"
      ],
      "metadata": {
        "colab": {
          "base_uri": "https://localhost:8080/"
        },
        "id": "dFkLlOcw-SRK",
        "outputId": "7ae3c141-3b1c-435c-b575-4ef6aa374ced"
      },
      "execution_count": null,
      "outputs": [
        {
          "output_type": "stream",
          "name": "stderr",
          "text": [
            "/usr/local/lib/python3.10/dist-packages/ipykernel/ipkernel.py:283: DeprecationWarning: `should_run_async` will not call `transform_cell` automatically in the future. Please pass the result to `transformed_cell` argument and any exception that happen during thetransform in `preprocessing_exc_tuple` in IPython 7.17 and above.\n",
            "  and should_run_async(code)\n"
          ]
        },
        {
          "output_type": "stream",
          "name": "stdout",
          "text": [
            "Dictionary<16101 unique tokens: ['ps', 'адрес', 'банк', 'банкеоплатила', 'беременный']...> \n",
            " [(0, 3), (2, 26), (15, 12), (17, 3), (18, 6), (22, 3), (27, 3), (63, 3), (100, 1), (108, 3), (109, 6), (159, 6), (165, 9), (180, 6), (195, 3), (222, 3), (249, 3), (293, 3), (325, 6), (376, 3), (389, 3), (398, 3), (448, 6), (579, 3), (611, 12), (642, 3), (710, 6), (757, 3), (781, 3), (878, 3), (921, 3), (945, 3), (961, 3), (998, 3), (1219, 3), (1341, 3), (1395, 3), (1484, 3), (1568, 3), (1829, 3), (1870, 3), (1906, 3), (2205, 3), (2874, 6), (2906, 3), (3454, 6), (3455, 3), (3456, 3), (3457, 3), (3458, 3), (3459, 3), (3460, 9), (3461, 3), (3462, 3), (3463, 3), (3464, 3), (3465, 3)]\n"
          ]
        }
      ]
    },
    {
      "cell_type": "code",
      "source": [
        "id2word[2] # просто интересно, что за слово встречается 26 раз :)"
      ],
      "metadata": {
        "colab": {
          "base_uri": "https://localhost:8080/",
          "height": 90
        },
        "id": "nvL5XPrvXqHa",
        "outputId": "6a384da2-fb6a-46a3-868f-5a3bed9583ef"
      },
      "execution_count": null,
      "outputs": [
        {
          "output_type": "stream",
          "name": "stderr",
          "text": [
            "/usr/local/lib/python3.10/dist-packages/ipykernel/ipkernel.py:283: DeprecationWarning: `should_run_async` will not call `transform_cell` automatically in the future. Please pass the result to `transformed_cell` argument and any exception that happen during thetransform in `preprocessing_exc_tuple` in IPython 7.17 and above.\n",
            "  and should_run_async(code)\n"
          ]
        },
        {
          "output_type": "execute_result",
          "data": {
            "text/plain": [
              "'банк'"
            ],
            "application/vnd.google.colaboratory.intrinsic+json": {
              "type": "string"
            }
          },
          "metadata": {},
          "execution_count": 17
        }
      ]
    },
    {
      "cell_type": "code",
      "source": [
        "lda_model = gensim.models.ldamodel.LdaModel(corpus=corpus,\n",
        "                                            id2word=id2word,\n",
        "                                            num_topics=15,\n",
        "                                            random_state=100,\n",
        "                                            update_every=1,\n",
        "                                            chunksize=100,\n",
        "                                            passes=10,\n",
        "                                            alpha='auto',\n",
        "                                            per_word_topics=True)"
      ],
      "metadata": {
        "id": "vPuYbbCQ-fna",
        "colab": {
          "base_uri": "https://localhost:8080/"
        },
        "outputId": "975b4e65-b009-484a-e9cd-7402fb3d9199"
      },
      "execution_count": null,
      "outputs": [
        {
          "output_type": "stream",
          "name": "stderr",
          "text": [
            "/usr/local/lib/python3.10/dist-packages/ipykernel/ipkernel.py:283: DeprecationWarning: `should_run_async` will not call `transform_cell` automatically in the future. Please pass the result to `transformed_cell` argument and any exception that happen during thetransform in `preprocessing_exc_tuple` in IPython 7.17 and above.\n",
            "  and should_run_async(code)\n"
          ]
        }
      ]
    },
    {
      "cell_type": "code",
      "source": [
        "pprint(lda_model.print_topics())"
      ],
      "metadata": {
        "colab": {
          "base_uri": "https://localhost:8080/"
        },
        "id": "_l0KEQ4MYhq_",
        "outputId": "2d09d9ce-45a1-4759-aa76-6dfac3a54254"
      },
      "execution_count": null,
      "outputs": [
        {
          "output_type": "stream",
          "name": "stdout",
          "text": [
            "[(0,\n",
            "  '0.021*\"захотеть\" + 0.019*\"ооо\" + 0.017*\"разочаровать\" + 0.016*\"самым\" + '\n",
            "  '0.015*\"названивать\" + 0.015*\"меньше\" + 0.014*\"постоянный\" + '\n",
            "  '0.012*\"навязывать\" + 0.012*\"скрыть\" + 0.011*\"пристав\"'),\n",
            " (1,\n",
            "  '0.000*\"объективность\" + 0.000*\"международныи\" + 0.000*\"побег\" + '\n",
            "  '0.000*\"перечеркнулось\" + 0.000*\"переводчик\" + 0.000*\"огорчить\" + '\n",
            "  '0.000*\"получательница\" + 0.000*\"мучаетсяпалка\" + 0.000*\"кириллицеи\" + '\n",
            "  '0.000*\"комсы\"'),\n",
            " (2,\n",
            "  '0.032*\"валютный\" + 0.011*\"приятныи\" + 0.003*\"пустой\" + 0.003*\"дно\" + '\n",
            "  '0.002*\"следствие\" + 0.001*\"бесплатнои\" + 0.000*\"терпеливо\" + '\n",
            "  '0.000*\"собственный\" + 0.000*\"десяток\" + 0.000*\"подбор\"'),\n",
            " (3,\n",
            "  '0.027*\"закон\" + 0.015*\"ответственность\" + 0.015*\"бки\" + 0.015*\"продать\" + '\n",
            "  '0.013*\"право\" + 0.013*\"однажды\" + 0.013*\"семья\" + 0.012*\"автоматически\" + '\n",
            "  '0.012*\"здоровье\" + 0.012*\"оно\"'),\n",
            " (4,\n",
            "  '0.020*\"предприятие\" + 0.009*\"беседа\" + 0.003*\"тц\" + 0.003*\"значительный\" + '\n",
            "  '0.002*\"оплате\" + 0.001*\"переплатить\" + 0.000*\"вымогательство\" + '\n",
            "  '0.000*\"различный\" + 0.000*\"управление\" + 0.000*\"основном\"'),\n",
            " (5,\n",
            "  '0.034*\"акция\" + 0.022*\"уважаемые\" + 0.017*\"равно\" + 0.014*\"нашеи\" + '\n",
            "  '0.013*\"подход\" + 0.011*\"производить\" + 0.010*\"скриншот\" + 0.009*\"каждои\" + '\n",
            "  '0.008*\"твой\" + 0.006*\"производиться\"'),\n",
            " (6,\n",
            "  '0.005*\"путешествие\" + 0.000*\"заполучить\" + 0.000*\"авиа\" + '\n",
            "  '0.000*\"приобретение\" + 0.000*\"нервов\" + 0.000*\"определённый\" + '\n",
            "  '0.000*\"дальнеишими\" + 0.000*\"заведомо\" + 0.000*\"клиентаклиентом\" + '\n",
            "  '0.000*\"ценои\"'),\n",
            " (7,\n",
            "  '0.031*\"уйти\" + 0.021*\"погашение\" + 0.016*\"сто\" + 0.015*\"олег\" + 0.011*\"тон\" '\n",
            "  '+ 0.010*\"нога\" + 0.007*\"интерфеис\" + 0.006*\"бросить\" + 0.005*\"сформировать\" '\n",
            "  '+ 0.005*\"бежать\"'),\n",
            " (8,\n",
            "  '0.079*\"банк\" + 0.034*\"карта\" + 0.023*\"тинькофф\" + 0.023*\"это\" + '\n",
            "  '0.014*\"клиент\" + 0.012*\"счёт\" + 0.012*\"мой\" + 0.011*\"сотрудник\" + '\n",
            "  '0.011*\"свой\" + 0.010*\"такой\"'),\n",
            " (9,\n",
            "  '0.023*\"терминал\" + 0.022*\"третий\" + 0.021*\"кэшбэк\" + 0.020*\"консультант\" + '\n",
            "  '0.019*\"плачу\" + 0.016*\"откуда\" + 0.014*\"расторгнуть\" + 0.012*\"передавать\" + '\n",
            "  '0.012*\"обмануть\" + 0.011*\"вновь\"'),\n",
            " (10,\n",
            "  '0.068*\"очень\" + 0.031*\"спасибо\" + 0.026*\"банк\" + 0.026*\"работа\" + '\n",
            "  '0.018*\"вопрос\" + 0.018*\"быстро\" + 0.017*\"тинькофф\" + 0.016*\"удобный\" + '\n",
            "  '0.016*\"довольный\" + 0.016*\"менеджер\"'),\n",
            " (11,\n",
            "  '0.015*\"кредит\" + 0.014*\"банк\" + 0.013*\"день\" + 0.013*\"сказать\" + '\n",
            "  '0.011*\"сумма\" + 0.010*\"деньга\" + 0.010*\"документ\" + 0.010*\"ответ\" + '\n",
            "  '0.009*\"мой\" + 0.009*\"позвонить\"'),\n",
            " (12,\n",
            "  '0.012*\"чудо\" + 0.003*\"кэш\" + 0.002*\"бэк\" + 0.000*\"мелко\" + 0.000*\"евро\" + '\n",
            "  '0.000*\"поучиться\" + 0.000*\"перезванвают\" + 0.000*\"закупка\" + '\n",
            "  '0.000*\"обещанныи\" + 0.000*\"многим\"'),\n",
            " (13,\n",
            "  '0.040*\"активировать\" + 0.030*\"удобно\" + 0.017*\"внимательно\" + '\n",
            "  '0.016*\"молодец\" + 0.015*\"личныи\" + 0.014*\"вывести\" + 0.012*\"рамка\" + '\n",
            "  '0.012*\"уходить\" + 0.011*\"вместе\" + 0.011*\"всетаки\"'),\n",
            " (14,\n",
            "  '0.000*\"объективность\" + 0.000*\"международныи\" + 0.000*\"побег\" + '\n",
            "  '0.000*\"перечеркнулось\" + 0.000*\"переводчик\" + 0.000*\"огорчить\" + '\n",
            "  '0.000*\"получательница\" + 0.000*\"мучаетсяпалка\" + 0.000*\"кириллицеи\" + '\n",
            "  '0.000*\"комсы\"')]\n"
          ]
        },
        {
          "output_type": "stream",
          "name": "stderr",
          "text": [
            "/usr/local/lib/python3.10/dist-packages/ipykernel/ipkernel.py:283: DeprecationWarning: `should_run_async` will not call `transform_cell` automatically in the future. Please pass the result to `transformed_cell` argument and any exception that happen during thetransform in `preprocessing_exc_tuple` in IPython 7.17 and above.\n",
            "  and should_run_async(code)\n"
          ]
        }
      ]
    },
    {
      "cell_type": "code",
      "source": [
        "print('\\nPerplexity: ', round(lda_model.log_perplexity(corpus), 3))\n",
        "\n",
        "coherence_model_lda = CoherenceModel(model=lda_model, texts=data_lemmatized, dictionary=id2word, coherence='c_v')\n",
        "coherence_lda = coherence_model_lda.get_coherence()\n",
        "print('\\nCoherence Score: ', round(coherence_lda, 3))"
      ],
      "metadata": {
        "id": "Kp5SBKzO1a7t",
        "colab": {
          "base_uri": "https://localhost:8080/"
        },
        "outputId": "c640860e-d644-439c-cc1d-ea15ae7ac97b"
      },
      "execution_count": null,
      "outputs": [
        {
          "output_type": "stream",
          "name": "stderr",
          "text": [
            "/usr/local/lib/python3.10/dist-packages/ipykernel/ipkernel.py:283: DeprecationWarning: `should_run_async` will not call `transform_cell` automatically in the future. Please pass the result to `transformed_cell` argument and any exception that happen during thetransform in `preprocessing_exc_tuple` in IPython 7.17 and above.\n",
            "  and should_run_async(code)\n"
          ]
        },
        {
          "output_type": "stream",
          "name": "stdout",
          "text": [
            "\n",
            "Perplexity:  -11.365\n",
            "\n",
            "Coherence Score:  0.51\n"
          ]
        }
      ]
    },
    {
      "cell_type": "markdown",
      "source": [
        "### Найдите оптимальное количество тем в соответствии с метриками: 1) Perplexity score 2) Coherence score. Есть ли различия?\n"
      ],
      "metadata": {
        "id": "O0yDu1Z21ZPb"
      }
    },
    {
      "cell_type": "code",
      "source": [
        "global coherence_list, model_list\n",
        "coherence_list = []\n",
        "model_list = []"
      ],
      "metadata": {
        "colab": {
          "base_uri": "https://localhost:8080/"
        },
        "id": "PCZiV45adCu0",
        "outputId": "1a34d873-aca4-4f66-bca1-b9734d2bf6dd"
      },
      "execution_count": null,
      "outputs": [
        {
          "output_type": "stream",
          "name": "stderr",
          "text": [
            "/usr/local/lib/python3.10/dist-packages/ipykernel/ipkernel.py:283: DeprecationWarning: `should_run_async` will not call `transform_cell` automatically in the future. Please pass the result to `transformed_cell` argument and any exception that happen during thetransform in `preprocessing_exc_tuple` in IPython 7.17 and above.\n",
            "  and should_run_async(code)\n"
          ]
        }
      ]
    },
    {
      "cell_type": "code",
      "source": [
        "def find_model(start, finish):\n",
        "  perplexity_min = 0\n",
        "  coherence_min = 0.5\n",
        "  theme_amount_p = 0\n",
        "  theme_amount_c = 0\n",
        "\n",
        "  for elem in range(start, finish):\n",
        "    lda_model = gensim.models.ldamodel.LdaModel(corpus=corpus,\n",
        "                                                id2word=id2word,\n",
        "                                                num_topics=elem,\n",
        "                                                random_state=100,\n",
        "                                                update_every=1,\n",
        "                                                chunksize=100,\n",
        "                                                passes=10,\n",
        "                                                alpha='auto',\n",
        "                                                per_word_topics=True)\n",
        "\n",
        "    coherence_model_lda = CoherenceModel(model=lda_model, texts=data_lemmatized,\n",
        "                                        dictionary=id2word, coherence='c_v')\n",
        "    coherence_lda = coherence_model_lda.get_coherence()\n",
        "\n",
        "    if lda_model.log_perplexity(corpus) < perplexity_min:\n",
        "      perplexity_min = lda_model.log_perplexity(corpus)\n",
        "      theme_amount_p = elem\n",
        "    if coherence_lda < coherence_min:\n",
        "      coherence_min = coherence_lda\n",
        "      theme_amount_c = elem\n",
        "\n",
        "    coherence_list.append(coherence_lda)\n",
        "    model_list.append(lda_model)\n",
        "\n",
        "    print(f'{elem}: Perplexity = {round(lda_model.log_perplexity(corpus), 3)}. Coherence Score = {round(coherence_lda, 3)}')\n",
        "\n",
        "  print(f'\\n\\nPerplexity of {theme_amount_p} themes: {round(perplexity_min, 3)}' + '\\n' +\n",
        "        f'Coherence Score of {theme_amount_c} themes: {round(coherence_min, 3)}\\n')"
      ],
      "metadata": {
        "colab": {
          "base_uri": "https://localhost:8080/"
        },
        "id": "2FwUqfjIZPde",
        "outputId": "18bfa182-baa7-4555-d098-845c095a22fa"
      },
      "execution_count": null,
      "outputs": [
        {
          "output_type": "stream",
          "name": "stderr",
          "text": [
            "/usr/local/lib/python3.10/dist-packages/ipykernel/ipkernel.py:283: DeprecationWarning: `should_run_async` will not call `transform_cell` automatically in the future. Please pass the result to `transformed_cell` argument and any exception that happen during thetransform in `preprocessing_exc_tuple` in IPython 7.17 and above.\n",
            "  and should_run_async(code)\n"
          ]
        }
      ]
    },
    {
      "cell_type": "code",
      "source": [
        "%time find_model(1, 15)"
      ],
      "metadata": {
        "colab": {
          "base_uri": "https://localhost:8080/"
        },
        "id": "YBrMdw2shKlh",
        "outputId": "d2ab8887-d210-4522-b2bc-c5ca02a800b9"
      },
      "execution_count": null,
      "outputs": [
        {
          "output_type": "stream",
          "name": "stderr",
          "text": [
            "/usr/local/lib/python3.10/dist-packages/ipykernel/ipkernel.py:283: DeprecationWarning: `should_run_async` will not call `transform_cell` automatically in the future. Please pass the result to `transformed_cell` argument and any exception that happen during thetransform in `preprocessing_exc_tuple` in IPython 7.17 and above.\n",
            "  and should_run_async(code)\n"
          ]
        },
        {
          "output_type": "stream",
          "name": "stdout",
          "text": [
            "1: Perplexity = -8.075. Coherence Score = 0.253\n",
            "2: Perplexity = -8.086. Coherence Score = 0.301\n",
            "3: Perplexity = -8.1. Coherence Score = 0.318\n",
            "4: Perplexity = -8.138. Coherence Score = 0.387\n",
            "5: Perplexity = -8.173. Coherence Score = 0.377\n",
            "6: Perplexity = -8.213. Coherence Score = 0.407\n",
            "7: Perplexity = -8.303. Coherence Score = 0.44\n",
            "8: Perplexity = -8.513. Coherence Score = 0.4\n",
            "9: Perplexity = -8.716. Coherence Score = 0.444\n",
            "10: Perplexity = -9.048. Coherence Score = 0.438\n",
            "11: Perplexity = -9.445. Coherence Score = 0.467\n",
            "12: Perplexity = -9.942. Coherence Score = 0.538\n",
            "13: Perplexity = -10.507. Coherence Score = 0.529\n",
            "14: Perplexity = -11.019. Coherence Score = 0.511\n",
            "\n",
            "\n",
            "Perplexity of 14 themes: -11.019\n",
            "Coherence Score of 1 themes: 0.253\n",
            "\n",
            "CPU times: user 2min 28s, sys: 716 ms, total: 2min 29s\n",
            "Wall time: 2min 31s\n"
          ]
        }
      ]
    },
    {
      "cell_type": "code",
      "source": [
        "%time find_model(15, 25)"
      ],
      "metadata": {
        "colab": {
          "base_uri": "https://localhost:8080/"
        },
        "id": "c2jktEdKhXSp",
        "outputId": "53457877-b397-4def-f601-d1e782108e3d"
      },
      "execution_count": null,
      "outputs": [
        {
          "output_type": "stream",
          "name": "stdout",
          "text": [
            "15: Perplexity = -11.365. Coherence Score = 0.51\n",
            "16: Perplexity = -11.619. Coherence Score = 0.505\n",
            "17: Perplexity = -11.868. Coherence Score = 0.483\n",
            "18: Perplexity = -12.111. Coherence Score = 0.541\n",
            "19: Perplexity = -12.366. Coherence Score = 0.476\n",
            "20: Perplexity = -12.614. Coherence Score = 0.452\n",
            "21: Perplexity = -12.86. Coherence Score = 0.482\n",
            "22: Perplexity = -13.088. Coherence Score = 0.457\n",
            "23: Perplexity = -13.326. Coherence Score = 0.438\n",
            "24: Perplexity = -13.548. Coherence Score = 0.431\n",
            "\n",
            "\n",
            "Perplexity of 24 themes: -13.548\n",
            "Coherence Score of 24 themes: 0.431\n",
            "\n",
            "CPU times: user 2min 51s, sys: 741 ms, total: 2min 52s\n",
            "Wall time: 2min 53s\n"
          ]
        }
      ]
    },
    {
      "cell_type": "markdown",
      "source": [
        "Оптимальное количество тем для метрики Perplexity score оказалось 14, а для метрики Coherence Score 1\n",
        "\n",
        "Однако при увличении диапазона поиска, то есть от 15 до 25, оптимальным количеством оказалось 24 в обоих случаях"
      ],
      "metadata": {
        "id": "TGwzavo-nv2D"
      }
    },
    {
      "cell_type": "code",
      "source": [
        "# посмотрим, какие слова соответствуют каждой теме в лучшей модели\n",
        "lda_model = gensim.models.ldamodel.LdaModel(corpus=corpus,\n",
        "                                                id2word=id2word,\n",
        "                                                num_topics=14,\n",
        "                                                random_state=100,\n",
        "                                                update_every=1,\n",
        "                                                chunksize=100,\n",
        "                                                passes=10,\n",
        "                                                alpha='auto',\n",
        "                                                per_word_topics=True)\n",
        "\n",
        "print('\\nPerplexity: ', round(lda_model.log_perplexity(corpus), 3))\n",
        "\n",
        "coherence_model_lda = CoherenceModel(model=lda_model, texts=data_lemmatized, dictionary=id2word, coherence='c_v')\n",
        "coherence_lda = coherence_model_lda.get_coherence()\n",
        "print('\\nCoherence Score: ', round(coherence_lda, 3), '\\n')\n",
        "\n",
        "pprint(lda_model.print_topics())"
      ],
      "metadata": {
        "colab": {
          "base_uri": "https://localhost:8080/"
        },
        "id": "-z1quhjNq0Ia",
        "outputId": "586eeead-258f-4c1a-aeed-f4f573dc51d3"
      },
      "execution_count": null,
      "outputs": [
        {
          "output_type": "stream",
          "name": "stderr",
          "text": [
            "/usr/local/lib/python3.10/dist-packages/ipykernel/ipkernel.py:283: DeprecationWarning: `should_run_async` will not call `transform_cell` automatically in the future. Please pass the result to `transformed_cell` argument and any exception that happen during thetransform in `preprocessing_exc_tuple` in IPython 7.17 and above.\n",
            "  and should_run_async(code)\n"
          ]
        },
        {
          "output_type": "stream",
          "name": "stdout",
          "text": [
            "\n",
            "Perplexity:  -11.019\n",
            "\n",
            "Coherence Score:  0.511 \n",
            "\n",
            "[(0,\n",
            "  '0.036*\"страхование\" + 0.022*\"захотеть\" + 0.016*\"самым\" + 0.015*\"меньше\" + '\n",
            "  '0.014*\"предприятие\" + 0.011*\"пристав\" + 0.011*\"угрожать\" + '\n",
            "  '0.009*\"указывать\" + 0.009*\"судебный\" + 0.007*\"sms\"'),\n",
            " (1,\n",
            "  '0.000*\"объективность\" + 0.000*\"международныи\" + 0.000*\"побег\" + '\n",
            "  '0.000*\"перечеркнулось\" + 0.000*\"переводчик\" + 0.000*\"огорчить\" + '\n",
            "  '0.000*\"получательница\" + 0.000*\"мучаетсяпалка\" + 0.000*\"кириллицеи\" + '\n",
            "  '0.000*\"комсы\"'),\n",
            " (2,\n",
            "  '0.030*\"валютный\" + 0.011*\"приятныи\" + 0.003*\"пустой\" + 0.003*\"дно\" + '\n",
            "  '0.000*\"шестой\" + 0.000*\"терпеливо\" + 0.000*\"собственный\" + 0.000*\"десяток\" '\n",
            "  '+ 0.000*\"подбор\" + 0.000*\"ежечастно\"'),\n",
            " (3,\n",
            "  '0.025*\"закон\" + 0.015*\"александр\" + 0.014*\"ответственность\" + 0.014*\"бки\" + '\n",
            "  '0.012*\"семья\" + 0.011*\"нарушение\" + 0.011*\"автоматически\" + '\n",
            "  '0.011*\"здоровье\" + 0.010*\"данную\" + 0.010*\"группа\"'),\n",
            " (4,\n",
            "  '0.020*\"взнос\" + 0.019*\"добрый\" + 0.012*\"рассчитывать\" + 0.008*\"беседа\" + '\n",
            "  '0.007*\"данному\" + 0.007*\"доставать\" + 0.005*\"автокредит\" + 0.003*\"тц\" + '\n",
            "  '0.003*\"значительный\" + 0.002*\"исправление\"'),\n",
            " (5,\n",
            "  '0.059*\"пополнение\" + 0.024*\"положительный\" + 0.024*\"акция\" + '\n",
            "  '0.023*\"удобныи\" + 0.016*\"уважаемые\" + 0.015*\"погашение\" + 0.015*\"продать\" + '\n",
            "  '0.012*\"пол\" + 0.012*\"равно\" + 0.012*\"несмотря\"'),\n",
            " (6,\n",
            "  '0.012*\"счастие\" + 0.007*\"шлют\" + 0.001*\"смсок\" + 0.000*\"угол\" + '\n",
            "  '0.000*\"неплохой\" + 0.000*\"полугода\" + 0.000*\"различный\" + 0.000*\"прстую\" + '\n",
            "  '0.000*\"какогото\" + 0.000*\"понимаите\"'),\n",
            " (7,\n",
            "  '0.034*\"неи\" + 0.024*\"уйти\" + 0.021*\"лучшии\" + 0.014*\"скидка\" + '\n",
            "  '0.013*\"постоянный\" + 0.013*\"сто\" + 0.012*\"отсутствие\" + 0.010*\"подход\" + '\n",
            "  '0.010*\"обычно\" + 0.010*\"порадовать\"'),\n",
            " (8,\n",
            "  '0.089*\"банк\" + 0.026*\"тинькофф\" + 0.018*\"очень\" + 0.018*\"это\" + '\n",
            "  '0.016*\"сотрудник\" + 0.016*\"мой\" + 0.014*\"вопрос\" + 0.014*\"клиент\" + '\n",
            "  '0.012*\"год\" + 0.011*\"свой\"'),\n",
            " (9,\n",
            "  '0.022*\"другие\" + 0.021*\"категория\" + 0.021*\"терминал\" + 0.019*\"третий\" + '\n",
            "  '0.018*\"кэшбэк\" + 0.017*\"консультант\" + 0.017*\"плачу\" + 0.016*\"курс\" + '\n",
            "  '0.016*\"порядок\" + 0.014*\"откуда\"'),\n",
            " (10,\n",
            "  '0.021*\"оценка\" + 0.016*\"начинать\" + 0.015*\"мама\" + 0.015*\"проводить\" + '\n",
            "  '0.014*\"супруг\" + 0.012*\"разбираться\" + 0.011*\"передавать\" + 0.011*\"заёмщик\" '\n",
            "  '+ 0.010*\"посоветовать\" + 0.009*\"информировать\"'),\n",
            " (11,\n",
            "  '0.021*\"деньга\" + 0.015*\"кредит\" + 0.015*\"сумма\" + 0.013*\"месяц\" + '\n",
            "  '0.012*\"счёт\" + 0.012*\"комиссия\" + 0.012*\"договор\" + 0.012*\"процент\" + '\n",
            "  '0.010*\"платёж\" + 0.010*\"лимит\"'),\n",
            " (12,\n",
            "  '0.009*\"наглый\" + 0.002*\"завысить\" + 0.001*\"ведомо\" + 0.000*\"ногои\" + '\n",
            "  '0.000*\"корпоративныи\" + 0.000*\"фамилия\" + 0.000*\"критика\" + '\n",
            "  '0.000*\"акциибезобразно\" + 0.000*\"заторможеннои\" + 0.000*\"заявленнои\"'),\n",
            " (13,\n",
            "  '0.091*\"карта\" + 0.018*\"день\" + 0.016*\"позвонить\" + 0.015*\"сказать\" + '\n",
            "  '0.015*\"звонить\" + 0.013*\"заявка\" + 0.012*\"это\" + 0.011*\"говорить\" + '\n",
            "  '0.010*\"представитель\" + 0.010*\"нужный\"')]\n"
          ]
        }
      ]
    },
    {
      "cell_type": "markdown",
      "source": [
        "### Как бы вы назвали каждую тему? Обоснуйте.\n"
      ],
      "metadata": {
        "id": "y-KbZ2-b1css"
      }
    },
    {
      "cell_type": "markdown",
      "source": [
        "Прежде всего, выберем ту модель, где соблюдается золотая середина, а именно кол-во тем = 8"
      ],
      "metadata": {
        "id": "v1q17jd3xF8k"
      }
    },
    {
      "cell_type": "code",
      "source": [
        "lda_model = gensim.models.ldamodel.LdaModel(corpus=corpus,\n",
        "                                                id2word=id2word,\n",
        "                                                num_topics=8,\n",
        "                                                random_state=100,\n",
        "                                                update_every=1,\n",
        "                                                chunksize=100,\n",
        "                                                passes=10,\n",
        "                                                alpha='auto',\n",
        "                                                per_word_topics=True)\n",
        "\n",
        "print('\\nPerplexity: ', round(lda_model.log_perplexity(corpus), 3))\n",
        "\n",
        "coherence_model_lda = CoherenceModel(model=lda_model, texts=data_lemmatized, dictionary=id2word, coherence='c_v')\n",
        "coherence_lda = coherence_model_lda.get_coherence()\n",
        "print('\\nCoherence Score: ', round(coherence_lda, 3), '\\n')\n",
        "\n",
        "pprint(lda_model.print_topics())"
      ],
      "metadata": {
        "id": "c0-GCx151eID",
        "colab": {
          "base_uri": "https://localhost:8080/"
        },
        "outputId": "0f9483ee-3723-468d-a11d-e194ea808348"
      },
      "execution_count": null,
      "outputs": [
        {
          "output_type": "stream",
          "name": "stderr",
          "text": [
            "/usr/local/lib/python3.10/dist-packages/ipykernel/ipkernel.py:283: DeprecationWarning: `should_run_async` will not call `transform_cell` automatically in the future. Please pass the result to `transformed_cell` argument and any exception that happen during thetransform in `preprocessing_exc_tuple` in IPython 7.17 and above.\n",
            "  and should_run_async(code)\n"
          ]
        },
        {
          "output_type": "stream",
          "name": "stdout",
          "text": [
            "\n",
            "Perplexity:  -8.513\n",
            "\n",
            "Coherence Score:  0.4 \n",
            "\n",
            "[(0,\n",
            "  '0.037*\"кредит\" + 0.027*\"сумма\" + 0.027*\"долг\" + 0.016*\"платить\" + '\n",
            "  '0.014*\"рублеи\" + 0.013*\"помочь\" + 0.012*\"руб\" + 0.010*\"платёж\" + '\n",
            "  '0.010*\"штраф\" + 0.008*\"процент\"'),\n",
            " (1,\n",
            "  '0.000*\"объективность\" + 0.000*\"международныи\" + 0.000*\"побег\" + '\n",
            "  '0.000*\"перечеркнулось\" + 0.000*\"переводчик\" + 0.000*\"огорчить\" + '\n",
            "  '0.000*\"получательница\" + 0.000*\"мучаетсяпалка\" + 0.000*\"кириллицеи\" + '\n",
            "  '0.000*\"комсы\"'),\n",
            " (2,\n",
            "  '0.028*\"встреча\" + 0.023*\"представитель\" + 0.010*\"наличный\" + '\n",
            "  '0.010*\"подписать\" + 0.008*\"залог\" + 0.007*\"регистрация\" + 0.006*\"приехать\" '\n",
            "  '+ 0.006*\"сидеть\" + 0.006*\"профессионал\" + 0.006*\"прям\"'),\n",
            " (3,\n",
            "  '0.063*\"банк\" + 0.016*\"тинькофф\" + 0.014*\"мой\" + 0.013*\"сотрудник\" + '\n",
            "  '0.011*\"счёт\" + 0.011*\"вопрос\" + 0.010*\"клиент\" + 0.008*\"это\" + 0.007*\"год\" '\n",
            "  '+ 0.007*\"ваш\"'),\n",
            " (4,\n",
            "  '0.010*\"предприятие\" + 0.007*\"забывать\" + 0.006*\"удерживать\" + '\n",
            "  '0.006*\"списаться\" + 0.006*\"случиться\" + 0.005*\"говориться\" + 0.005*\"беседа\" '\n",
            "  '+ 0.005*\"наглый\" + 0.004*\"лицензия\" + 0.004*\"запрашивать\"'),\n",
            " (5,\n",
            "  '0.019*\"очень\" + 0.018*\"это\" + 0.014*\"комиссия\" + 0.013*\"банк\" + '\n",
            "  '0.011*\"процент\" + 0.008*\"удобный\" + 0.008*\"тинькофф\" + 0.008*\"покупка\" + '\n",
            "  '0.008*\"пользоваться\" + 0.008*\"перевод\"'),\n",
            " (6,\n",
            "  '0.005*\"отпуск\" + 0.004*\"шлют\" + 0.001*\"концерт\" + 0.000*\"выравнять\" + '\n",
            "  '0.000*\"выкупить\" + 0.000*\"вкладамочень\" + 0.000*\"вытеснить\" + '\n",
            "  '0.000*\"лимитах\" + 0.000*\"lines\" + 0.000*\"эксперимент\"'),\n",
            " (7,\n",
            "  '0.065*\"карта\" + 0.019*\"деньга\" + 0.014*\"это\" + 0.012*\"сказать\" + '\n",
            "  '0.010*\"говорить\" + 0.009*\"банк\" + 0.009*\"такой\" + 0.009*\"мочь\" + '\n",
            "  '0.008*\"позвонить\" + 0.007*\"пользоваться\"')]\n"
          ]
        }
      ]
    },
    {
      "cell_type": "markdown",
      "source": [
        "Тут сразу можно определить название дял темы 6 - \"право\", так как большинство слов относятся к этой категории.\n",
        "\n",
        "Теме 1, возможно, подходит просто \"банк\", так как там большинство слов связано с деятельностью банка: карта, кредит, деньги, счет\n",
        "\n",
        "Тема 2 связана с авто, из-за таких слов, как \"подвести\", \"заправка\", \"предупреждать\"\n",
        "\n",
        "Тема 3 - \"конфиденциальность\" из-за синонимов (тайна, секретный) и связанных слов (записка, исполнительб комитет)\n",
        "\n",
        "Тема 4 - \"покупки\", так как всеми содержащимися там словами можно охарактеризовать покупки в магазине (покупка может быть ужасной, что-то может пропасть (то есть украли) в магазине, продавец мог оказаться адекватным и не предлагать пакет)\n",
        "\n",
        "Тема 5 - \"отзыв тинька\", так как все относится к определенному банку и показывает чье-то отношение к нему (усилительное наречие \"очень\", слово \"пользоваться\", слова благодарности)\n",
        "\n",
        "Темы 0 и 7 сложно определить, так как там есть слова с опечатками, как, например, \"тысруб\" или просто числа в виде строки"
      ],
      "metadata": {
        "id": "L-trMrUExxfZ"
      }
    },
    {
      "cell_type": "markdown",
      "source": [
        "### Визуализируйте темы с помощью пакета pyLDAvis.\n"
      ],
      "metadata": {
        "id": "VqPUzh9V1eq0"
      }
    },
    {
      "cell_type": "code",
      "source": [
        "pyLDAvis.enable_notebook()\n",
        "vis = pyLDAvis.gensim_models.prepare(lda_model, corpus, id2word)\n",
        "vis"
      ],
      "metadata": {
        "id": "zsxPl2At1g8G",
        "colab": {
          "base_uri": "https://localhost:8080/",
          "height": 916
        },
        "outputId": "a4cf5fa1-605d-40dc-a2f0-f8454d8c76e3"
      },
      "execution_count": null,
      "outputs": [
        {
          "output_type": "stream",
          "name": "stderr",
          "text": [
            "/usr/local/lib/python3.10/dist-packages/ipykernel/ipkernel.py:283: DeprecationWarning: `should_run_async` will not call `transform_cell` automatically in the future. Please pass the result to `transformed_cell` argument and any exception that happen during thetransform in `preprocessing_exc_tuple` in IPython 7.17 and above.\n",
            "  and should_run_async(code)\n"
          ]
        },
        {
          "output_type": "execute_result",
          "data": {
            "text/plain": [
              "PreparedData(topic_coordinates=              x         y  topics  cluster       Freq\n",
              "topic                                                \n",
              "3     -0.276534 -0.053354       1        1  52.305205\n",
              "7     -0.216781 -0.155011       2        1  20.673656\n",
              "5     -0.161274  0.268467       3        1  18.460238\n",
              "0      0.100517 -0.079535       4        1   5.991246\n",
              "2      0.175424  0.009743       5        1   2.320390\n",
              "4      0.130641  0.003419       6        1   0.202453\n",
              "6      0.124514  0.003161       7        1   0.035040\n",
              "1      0.123494  0.003111       8        1   0.011773, topic_info=           Term         Freq        Total Category  logprob  loglift\n",
              "123       карта  1704.000000  1704.000000  Default  30.0000  30.0000\n",
              "174      кредит   461.000000   461.000000  Default  29.0000  29.0000\n",
              "84        сумма   339.000000   339.000000  Default  28.0000  28.0000\n",
              "58        очень   819.000000   819.000000  Default  27.0000  27.0000\n",
              "2          банк  4417.000000  4417.000000  Default  26.0000  26.0000\n",
              "..          ...          ...          ...      ...      ...      ...\n",
              "25     дядиньки     0.000871     0.665884   Topic8  -9.6866   2.4078\n",
              "26     заведует     0.000871     0.665886   Topic8  -9.6866   2.4078\n",
              "27      звонить     0.000871   315.745081   Topic8  -9.6866  -3.7538\n",
              "28       звонок     0.000871   269.638715   Topic8  -9.6866  -3.5959\n",
              "29   измениться     0.000871    18.530157   Topic8  -9.6866  -0.9183\n",
              "\n",
              "[465 rows x 6 columns], token_table=      Topic      Freq          Term\n",
              "term                               \n",
              "0         1  0.625199            ps\n",
              "0         4  0.312600            ps\n",
              "1         1  0.989714         адрес\n",
              "1374      2  0.992186     активация\n",
              "2291      2  0.985674  активировать\n",
              "...     ...       ...           ...\n",
              "165       1  0.403163           это\n",
              "165       2  0.276455           это\n",
              "165       3  0.320062           это\n",
              "205       1  0.999804      являться\n",
              "2573      1  0.993037        январь\n",
              "\n",
              "[442 rows x 3 columns], R=30, lambda_step=0.01, plot_opts={'xlab': 'PC1', 'ylab': 'PC2'}, topic_order=[4, 8, 6, 1, 3, 5, 7, 2])"
            ],
            "text/html": [
              "\n",
              "<link rel=\"stylesheet\" type=\"text/css\" href=\"https://cdn.jsdelivr.net/gh/bmabey/pyLDAvis@3.4.0/pyLDAvis/js/ldavis.v1.0.0.css\">\n",
              "\n",
              "\n",
              "<div id=\"ldavis_el120161350324539703207252854531\" style=\"background-color:white;\"></div>\n",
              "<script type=\"text/javascript\">\n",
              "\n",
              "var ldavis_el120161350324539703207252854531_data = {\"mdsDat\": {\"x\": [-0.2765341359097584, -0.21678124768111678, -0.1612737582660785, 0.10051694701984933, 0.1754235297716066, 0.1306405211306616, 0.12451374732846443, 0.12349439660637157], \"y\": [-0.05335439097179584, -0.155011268890301, 0.2684673690812281, -0.07953526215791824, 0.009742994424993394, 0.0034192862860918305, 0.0031606809631691407, 0.0031105912645325723], \"topics\": [1, 2, 3, 4, 5, 6, 7, 8], \"cluster\": [1, 1, 1, 1, 1, 1, 1, 1], \"Freq\": [52.30520474980537, 20.673656243704507, 18.460237706351073, 5.9912461505303005, 2.3203896716946706, 0.20245313227172934, 0.03503977454888634, 0.011772571093469665]}, \"tinfo\": {\"Term\": [\"\\u043a\\u0430\\u0440\\u0442\\u0430\", \"\\u043a\\u0440\\u0435\\u0434\\u0438\\u0442\", \"\\u0441\\u0443\\u043c\\u043c\\u0430\", \"\\u043e\\u0447\\u0435\\u043d\\u044c\", \"\\u0431\\u0430\\u043d\\u043a\", \"\\u0434\\u0435\\u043d\\u044c\\u0433\\u0430\", \"\\u0434\\u043e\\u043b\\u0433\", \"\\u043a\\u043e\\u043c\\u0438\\u0441\\u0441\\u0438\\u044f\", \"\\u043f\\u0440\\u0435\\u0434\\u0441\\u0442\\u0430\\u0432\\u0438\\u0442\\u0435\\u043b\\u044c\", \"\\u0441\\u043e\\u0442\\u0440\\u0443\\u0434\\u043d\\u0438\\u043a\", \"\\u044d\\u0442\\u043e\", \"\\u043f\\u0440\\u043e\\u0446\\u0435\\u043d\\u0442\", \"\\u0440\\u0443\\u0431\\u043b\\u0435\\u0438\", \"\\u0432\\u043e\\u043f\\u0440\\u043e\\u0441\", \"\\u0441\\u043a\\u0430\\u0437\\u0430\\u0442\\u044c\", \"\\u043f\\u043b\\u0430\\u0442\\u0451\\u0436\", \"\\u043c\\u043e\\u0439\", \"\\u043f\\u043b\\u0430\\u0442\\u0438\\u0442\\u044c\", \"\\u0433\\u043e\\u0432\\u043e\\u0440\\u0438\\u0442\\u044c\", \"\\u0432\\u0441\\u0442\\u0440\\u0435\\u0447\\u0430\", \"\\u0434\\u043e\\u0433\\u043e\\u0432\\u043e\\u0440\", \"\\u0440\\u0443\\u0431\", \"\\u0443\\u0434\\u043e\\u0431\\u043d\\u044b\\u0439\", \"\\u043c\\u043e\\u0447\\u044c\", \"\\u043f\\u043e\\u043b\\u044c\\u0437\\u043e\\u0432\\u0430\\u0442\\u044c\\u0441\\u044f\", \"\\u043f\\u0435\\u0440\\u0435\\u0432\\u043e\\u0434\", \"\\u0441\\u0447\\u0451\\u0442\", \"\\u0434\\u043e\\u043b\\u0436\\u043d\\u044b\\u0439\", \"\\u0434\\u043d\\u0435\\u0438\", \"\\u043f\\u043e\\u043c\\u043e\\u0447\\u044c\", \"\\u0441\\u043e\\u0442\\u0440\\u0443\\u0434\\u043d\\u0438\\u043a\", \"\\u0434\\u043e\\u043a\\u0443\\u043c\\u0435\\u043d\\u0442\", \"\\u0441\\u043f\\u0430\\u0441\\u0438\\u0431\\u043e\", \"\\u0441\\u043f\\u0435\\u0446\\u0438\\u0430\\u043b\\u0438\\u0441\\u0442\", \"\\u043e\\u0431\\u0440\\u0430\\u0442\\u0438\\u0442\\u044c\\u0441\\u044f\", \"\\u0438\\u043d\\u0444\\u043e\\u0440\\u043c\\u0430\\u0446\\u0438\\u044f\", \"\\u043c\\u0435\\u043d\\u0435\\u0434\\u0436\\u0435\\u0440\", \"\\u043e\\u0442\\u043f\\u0440\\u0430\\u0432\\u0438\\u0442\\u044c\", \"\\u0441\\u0440\\u043e\\u043a\", \"\\u0438\\u043c\\u0435\\u0442\\u044c\", \"\\u043c\\u043d\\u043e\\u0438\", \"\\u043c\\u043e\\u0435\\u0438\", \"\\u044f\\u0432\\u043b\\u044f\\u0442\\u044c\\u0441\\u044f\", \"\\u043f\\u043e\\u043c\\u043e\\u0449\\u044c\", \"\\u043f\\u0440\\u0435\\u0434\\u043e\\u0441\\u0442\\u0430\\u0432\\u0438\\u0442\\u044c\", \"\\u0441\\u0432\\u044f\\u0437\\u044c\", \"\\u0438\\u043f\", \"\\u043e\\u0431\\u0449\\u0435\\u043d\\u0438\\u0435\", \"\\u043e\\u0431\\u0440\\u0430\\u0449\\u0435\\u043d\\u0438\\u0435\", \"\\u043f\\u0438\\u0441\\u044c\\u043c\\u043e\", \"\\u043e\\u0431\\u044a\\u044f\\u0441\\u043d\\u0438\\u0442\\u044c\", \"\\u044f\\u043d\\u0432\\u0430\\u0440\\u044c\", \"\\u043d\\u0430\\u0448\", \"\\u0441\\u043f\\u0440\\u0430\\u0432\\u043a\\u0430\", \"\\u0434\\u0435\\u043b\\u043e\", \"\\u043b\\u0438\\u0446\\u043e\", \"\\u0437\\u0430\\u043f\\u0440\\u043e\\u0441\", \"\\u0441\\u0442\\u043e\\u0440\\u043e\\u043d\\u0430\", \"\\u043d\\u0435\\u043e\\u0431\\u0445\\u043e\\u0434\\u0438\\u043c\\u044b\\u0439\", \"\\u0431\\u0438\\u0437\\u043d\\u0435\\u0441\", \"\\u0432\\u043e\\u043f\\u0440\\u043e\\u0441\", \"\\u0441\\u043c\\u043e\\u0447\\u044c\", \"\\u0440\\u0430\\u0431\\u043e\\u0442\\u0430\", \"\\u0432\\u0430\\u0448\", \"\\u043c\\u043e\\u0439\", \"\\u0437\\u0430\\u044f\\u0432\\u043a\\u0430\", \"\\u043e\\u0442\\u0432\\u0435\\u0442\", \"\\u0431\\u0430\\u043d\\u043a\", \"\\u043a\\u043b\\u0438\\u0435\\u043d\\u0442\", \"\\u0440\\u0435\\u0448\\u0435\\u043d\\u0438\\u0435\", \"\\u0441\\u0447\\u0451\\u0442\", \"\\u043f\\u0440\\u043e\\u0441\\u0438\\u0442\\u044c\", \"\\u0442\\u0438\\u043d\\u044c\\u043a\\u043e\\u0444\\u0444\", \"\\u0432\\u0440\\u0435\\u043c\\u044f\", \"\\u043d\\u043e\\u043c\\u0435\\u0440\", \"\\u0431\\u0430\\u043d\\u043a\\u0430\", \"\\u0441\\u0438\\u0442\\u0443\\u0430\\u0446\\u0438\\u044f\", \"\\u0434\\u043e\\u0433\\u043e\\u0432\\u043e\\u0440\", \"\\u0447\\u0435\\u043b\\u043e\\u0432\\u0435\\u043a\", \"\\u0441\\u0432\\u043e\\u0439\", \"\\u0440\\u0430\\u0431\\u043e\\u0442\\u0430\\u0442\\u044c\", \"\\u0433\\u043e\\u0434\", \"\\u043f\\u043e\\u043b\\u0443\\u0447\\u0438\\u0442\\u044c\", \"\\u0437\\u0432\\u043e\\u043d\\u043e\\u043a\", \"\\u0434\\u0435\\u043d\\u044c\", \"\\u0443\\u0441\\u043b\\u0443\\u0433\\u0430\", \"\\u043e\\u0447\\u0435\\u043d\\u044c\", \"\\u0440\\u0435\\u0448\\u0438\\u0442\\u044c\", \"\\u044d\\u0442\\u043e\", \"\\u043f\\u0440\\u043e\\u0431\\u043b\\u0435\\u043c\\u0430\", \"\\u043c\\u043e\\u0447\\u044c\", \"\\u0437\\u0432\\u043e\\u043d\\u0438\\u0442\\u044c\", \"\\u0442\\u0435\\u043b\\u0435\\u0444\\u043e\\u043d\", \"\\u0442\\u0430\\u043a\\u043e\\u0439\", \"\\u0447\\u0442\\u043e\\u0442\\u043e\", \"\\u043a\\u0443\\u0440\\u044c\\u0435\\u0440\", \"\\u043b\\u0430\\u0434\\u043d\\u043e\", \"\\u0441\\u043d\\u0430\\u0447\\u0430\\u043b\\u0430\", \"\\u0437\\u0430\\u043a\\u0430\\u0437\\u0430\\u0442\\u044c\", \"\\u043f\\u0440\\u0438\\u0432\\u0435\\u0437\\u0442\\u0438\", \"\\u0442\\u0431\", \"\\u0430\\u043a\\u0442\\u0438\\u0432\\u0438\\u0440\\u043e\\u0432\\u0430\\u0442\\u044c\", \"\\u0447\\u0438\\u0442\\u0430\\u0442\\u044c\", \"\\u0434\\u0432\\u0430\", \"\\u0434\\u0435\\u0431\\u0435\\u0442\\u043e\\u0432\\u044b\\u0439\", \"\\u0432\\u0442\\u0431\", \"\\u043f\\u043e\\u043b\\u043e\\u0436\\u0438\\u0442\\u044c\", \"\\u043a\\u0430\\u0442\\u0435\\u0433\\u043e\\u0440\\u0438\\u044f\", \"\\u043e\\u0442\\u043b\\u0438\\u0447\\u043d\\u044b\\u0439\", \"\\u043d\\u043e\\u044f\\u0431\\u0440\\u044c\", \"\\u0443\\u0439\\u0442\\u0438\", \"\\u0440\\u0430\\u0437\\u0443\", \"\\u043c\\u0438\\u043b\\u044f\", \"\\u043e\\u0442\\u043c\\u0435\\u043d\\u0438\\u0442\\u044c\", \"\\u043b\\u0438\\u043d\\u0438\\u044f\", \"\\u043d\\u0430\\u0437\\u0432\\u0430\\u0442\\u044c\", \"\\u0445\\u043e\\u0440\\u043e\\u0448\\u0438\\u0438\", \"\\u043f\\u043e\\u043a\\u0430\\u0437\\u0430\\u0442\\u044c\", \"\\u0432\\u0438\\u0434\\u0438\\u043c\\u043e\", \"\\u0430\\u043a\\u0442\\u0438\\u0432\\u0430\\u0446\\u0438\\u044f\", \"\\u043f\\u043e\\u0441\\u043c\\u043e\\u0442\\u0440\\u0435\\u0442\\u044c\", \"\\u0436\\u0438\\u0442\\u044c\", \"\\u043a\\u043e\\u043d\\u0441\\u0443\\u043b\\u044c\\u0442\\u0430\\u043d\\u0442\", \"\\u0440\\u0435\\u043a\\u043b\\u0430\\u043c\\u0430\", \"\\u043d\\u043e\\u0440\\u043c\\u0430\\u043b\\u044c\\u043d\\u043e\", \"\\u043a\\u0430\\u0440\\u0442\\u0430\", \"\\u0434\\u0440\\u0443\\u0433\", \"\\u0441\\u043f\\u0440\\u043e\\u0441\\u0438\\u0442\\u044c\", \"\\u0433\\u043e\\u0432\\u043e\\u0440\\u0438\\u0442\\u044c\", \"\\u0441\\u043f\\u0440\\u0430\\u0448\\u0438\\u0432\\u0430\\u0442\\u044c\", \"\\u0441\\u043c\\u0441\", \"\\u0434\\u0443\\u043c\\u0430\\u0442\\u044c\", \"\\u0434\\u0435\\u043d\\u044c\\u0433\\u0430\", \"\\u043f\\u043e\\u0447\\u0435\\u043c\\u0443\", \"\\u0441\\u043a\\u0430\\u0437\\u0430\\u0442\\u044c\", \"\\u043a\\u0440\\u0435\\u0434\\u0438\\u0442\\u043d\\u043e\\u0438\", \"\\u043a\\u0430\\u0440\\u0442\\u043e\\u0438\", \"\\u0437\\u043d\\u0430\\u0442\\u044c\", \"\\u043f\\u043e\\u0437\\u0432\\u043e\\u043d\\u0438\\u0442\\u044c\", \"\\u0434\\u0435\\u0431\\u0435\\u0442\\u043e\\u0432\\u043e\\u0438\", \"\\u043a\\u0440\\u0435\\u0434\\u0438\\u0442\\u043a\\u0430\", \"\\u0436\\u0434\\u0430\\u0442\\u044c\", \"\\u0432\\u043e\\u043e\\u0431\\u0449\\u0435\", \"\\u0442\\u0430\\u043a\\u043e\\u0439\", \"\\u0437\\u0430\\u043a\\u0440\\u044b\\u0442\\u044c\", \"\\u043c\\u043e\\u0447\\u044c\", \"\\u0441\\u0435\\u0438\\u0447\\u0430\\u0441\", \"\\u043f\\u043e\\u043b\\u044c\\u0437\\u043e\\u0432\\u0430\\u0442\\u044c\\u0441\\u044f\", \"\\u044d\\u0442\\u043e\", \"\\u043d\\u0438\\u043a\\u0442\\u043e\", \"\\u0438\\u0442\\u043e\\u0433\", \"\\u0441\\u043f\\u0438\\u0441\\u0430\\u0442\\u044c\", \"\\u043b\\u0438\\u043c\\u0438\\u0442\", \"\\u0432\\u0435\\u0440\\u043d\\u0443\\u0442\\u044c\", \"\\u0431\\u044b\\u0442\\u044c\", \"\\u0434\\u0435\\u043d\\u044c\", \"\\u0440\\u0443\\u0431\\u043b\\u0435\\u0438\", \"\\u043c\\u0435\\u0441\\u044f\\u0446\", \"\\u0431\\u0430\\u043d\\u043a\", \"\\u043d\\u0443\\u0436\\u043d\\u044b\\u0439\", \"\\u043f\\u0440\\u043e\\u0441\\u0442\\u043e\", \"\\u0441\\u0432\\u043e\\u0439\", \"\\u0434\\u043d\\u0435\\u0438\", \"\\u043a\\u043e\\u043c\\u0438\\u0441\\u0441\\u0438\\u044f\", \"\\u0443\\u0434\\u043e\\u0431\\u043d\\u044b\\u0439\", \"\\u0431\\u0430\\u043d\\u043a\\u043e\\u043c\\u0430\\u0442\", \"\\u043f\\u043e\\u043f\\u043e\\u043b\\u043d\\u0435\\u043d\\u0438\\u0435\", \"\\u0441\\u043d\\u0438\\u043c\\u0430\\u0442\\u044c\", \"\\u043e\\u043d\\u043b\\u0430\\u0438\\u043d\", \"\\u043f\\u043b\\u044e\\u0441\", \"\\u043f\\u0440\\u0438\\u043b\\u043e\\u0436\\u0435\\u043d\\u0438\\u0435\", \"\\u0441\\u043d\\u044f\\u0442\\u0438\\u0435\", \"\\u043c\\u0438\\u043d\\u0443\\u0441\", \"\\u0434\\u043e\\u043b\\u043b\\u0430\\u0440\", \"\\u0442\\u0440\", \"\\u0443\\u0434\\u043e\\u0431\\u043d\\u043e\", \"\\u0442\\u0438\\u043d\\u044c\\u043a\\u043e\\u0432\\u0430\", \"\\u043d\\u0440\\u0430\\u0432\\u0438\\u0442\\u044c\\u0441\\u044f\", \"\\u0431\\u0438\\u043b\\u0435\\u0442\", \"\\u043e\\u0442\\u043b\\u0438\\u0447\\u043d\\u044b\\u0438\", \"\\u043a\\u0441\\u0442\\u0430\\u0442\\u0438\", \"\\u043f\\u043e\\u043b\\u043e\\u0436\\u0438\\u0442\\u0435\\u043b\\u044c\\u043d\\u044b\\u0439\", \"\\u0430\\u043a\\u0446\\u0438\\u044f\", \"\\u0443\\u0434\\u043e\\u0431\\u043d\\u044b\\u0438\", \"\\u0431\\u0430\\u043b\\u043b\", \"\\u043f\\u0440\\u0430\\u0432\\u0434\\u0430\", \"\\u043d\\u0430\\u0447\\u0438\\u0441\\u043b\\u0435\\u043d\\u0438\\u0435\", \"\\u0446\\u0435\\u043b\\u043e\\u043c\", \"\\u0440\\u0430\\u0441\\u0447\\u0451\\u0442\", \"\\u043a\\u044d\\u0448\\u0431\\u044d\\u043a\", \"\\u0442\\u0438\\u043d\\u044c\\u043a\\u043e\\u0444\\u0444\\u0430\", \"\\u0431\\u0435\\u0441\\u043f\\u043b\\u0430\\u0442\\u043d\\u044b\\u0439\", \"\\u043b\\u0435\\u0433\\u043a\\u043e\", \"\\u043b\\u044e\\u0431\\u043e\\u0438\", \"\\u0442\\u0430\\u0440\\u0438\\u0444\", \"\\u0431\\u043e\\u043d\\u0443\\u0441\", \"\\u043f\\u043e\\u0434\\u0434\\u0435\\u0440\\u0436\\u043a\\u0430\", \"\\u043e\\u0441\\u0442\\u0430\\u0442\\u043e\\u043a\", \"\\u043f\\u043e\\u043a\\u0443\\u043f\\u043a\\u0430\", \"\\u0432\\u043a\\u043b\\u0430\\u0434\", \"\\u0445\\u043e\\u0440\\u043e\\u0448\\u0438\\u0439\", \"\\u0438\\u043d\\u0442\\u0435\\u0440\\u043d\\u0435\\u0442\", \"\\u043f\\u0440\\u043e\\u0446\\u0435\\u043d\\u0442\", \"\\u043f\\u0435\\u0440\\u0435\\u0432\\u043e\\u0434\", \"\\u043b\\u044e\\u0431\\u043e\\u0439\", \"\\u043e\\u0447\\u0435\\u043d\\u044c\", \"\\u0434\\u043e\\u0432\\u043e\\u043b\\u044c\\u043d\\u044b\\u0439\", \"\\u043e\\u0431\\u0441\\u043b\\u0443\\u0436\\u0438\\u0432\\u0430\\u043d\\u0438\\u0435\", \"\\u044d\\u0442\\u043e\", \"\\u0441\\u0435\\u0440\\u0432\\u0438\\u0441\", \"\\u043b\\u0438\\u043c\\u0438\\u0442\", \"\\u043f\\u043e\\u043b\\u044c\\u0437\\u043e\\u0432\\u0430\\u0442\\u044c\\u0441\\u044f\", \"\\u0443\\u0441\\u043b\\u043e\\u0432\\u0438\\u0435\", \"\\u043f\\u0440\\u043e\\u0431\\u043b\\u0435\\u043c\\u0430\", \"\\u043d\\u0443\\u0436\\u043d\\u044b\\u0439\", \"\\u0431\\u0430\\u043d\\u043a\", \"\\u0442\\u0438\\u043d\\u044c\\u043a\\u043e\\u0444\\u0444\", \"\\u0433\\u043e\\u0434\", \"\\u0441\\u0443\\u043c\\u043c\\u0430\", \"\\u043a\\u0430\\u0440\\u0442\\u0430\", \"\\u0434\\u043e\\u043b\\u0433\", \"\\u043f\\u043e\\u043c\\u043e\\u0447\\u044c\", \"\\u0448\\u0442\\u0440\\u0430\\u0444\", \"\\u043f\\u0440\\u043e\\u0441\\u0440\\u043e\\u0447\\u043a\\u0430\", \"\\u043f\\u043e\\u0433\\u0430\\u0441\\u0438\\u0442\\u044c\", \"\\u0437\\u0430\\u0434\\u043e\\u043b\\u0436\\u0435\\u043d\\u043d\\u043e\\u0441\\u0442\\u044c\", \"\\u0442\\u044b\\u0441\", \"\\u0441\\u0442\\u0440\\u0430\\u0445\\u043e\\u0432\\u0430\\u043d\\u0438\\u0435\", \"\\u0430\\u043d\\u043a\\u0435\\u0442\\u0430\", \"\\u0442\\u0435\\u0440\\u043c\\u0438\\u043d\\u0430\\u043b\", \"\\u043a\\u0440\\u0435\\u0434\\u0438\\u0442\\u0443\", \"\\u0443\\u0433\\u0440\\u043e\\u0437\\u0430\", \"\\u0437\\u0430\\u0445\\u043e\\u0442\\u0435\\u0442\\u044c\", \"\\u0432\\u0435\\u0440\\u043d\\u0443\\u0442\\u044c\\u0441\\u044f\", \"\\u043f\\u043e\\u0433\\u0430\\u0448\\u0435\\u043d\\u0438\\u0435\", \"\\u0440\\u0430\\u0437\\u043e\\u0447\\u0430\\u0440\\u043e\\u0432\\u0430\\u0442\\u044c\", \"\\u0433\\u043e\", \"\\u0432\\u044b\\u043f\\u043b\\u0430\\u0447\\u0438\\u0432\\u0430\\u0442\\u044c\", \"\\u0441\\u0430\\u043c\\u044b\\u043c\", \"\\u043d\\u0430\\u0447\\u0438\\u0441\\u043b\\u044f\\u0442\\u044c\", \"\\u0440\\u0430\\u0441\\u0441\\u0440\\u043e\\u0447\\u043a\\u0430\", \"\\u0438\\u0442\\u043e\\u0433\\u0435\", \"\\u043d\\u0430\\u0432\\u0435\\u0440\\u043d\\u043e\", \"\\u043d\\u0430\\u0437\\u044b\\u0432\\u0430\\u0442\\u044c\", \"\\u043f\\u043e\\u043a\\u0443\\u043f\\u0430\\u0442\\u0435\\u043b\\u044c\", \"\\u0435\\u0436\\u0435\\u043c\\u0435\\u0441\\u044f\\u0447\\u043d\\u044b\\u0439\", \"\\u0437\\u0430\\u0451\\u043c\\u0449\\u0438\\u043a\", \"\\u0443\\u0432\\u0435\\u043b\\u0438\\u0447\\u0438\\u0442\\u044c\", \"\\u043f\\u0435\\u0440\\u0435\\u043f\\u043b\\u0430\\u0442\\u0430\", \"\\u043d\\u0430\\u0432\\u044f\\u0437\\u044b\\u0432\\u0430\\u0442\\u044c\", \"\\u043a\\u0440\\u0435\\u0434\\u0438\\u0442\", \"\\u043f\\u043b\\u0430\\u0442\\u0438\\u0442\\u044c\", \"\\u0441\\u0443\\u043c\\u043c\\u0430\", \"\\u0440\\u0443\\u0431\\u043b\\u0435\\u0438\", \"\\u0440\\u0443\\u0431\", \"\\u0441\\u0442\\u0440\\u0430\\u0445\\u043e\\u0432\\u043a\\u0430\", \"\\u0432\\u044b\\u043f\\u0438\\u0441\\u043a\\u0430\", \"\\u043f\\u043b\\u0430\\u0442\\u0451\\u0436\", \"\\u0432\\u043d\\u0435\\u0441\\u0442\\u0438\", \"\\u043e\\u0434\\u043e\\u0431\\u0440\\u0438\\u0442\\u044c\", \"\\u043e\\u043f\\u043b\\u0430\\u0442\\u0438\\u0442\\u044c\", \"\\u043f\\u0440\\u043e\\u0446\\u0435\\u043d\\u0442\", \"\\u0434\\u043d\\u0435\\u0438\", \"\\u0434\\u043e\\u043b\\u0436\\u043d\\u044b\\u0439\", \"\\u0432\\u0437\\u044f\\u0442\\u044c\", \"\\u0437\\u0430\\u043f\\u043b\\u0430\\u0442\\u0438\\u0442\\u044c\", \"\\u0434\\u043e\\u0433\\u043e\\u0432\\u043e\\u0440\", \"\\u043c\\u0435\\u0441\\u044f\\u0446\", \"\\u043d\\u0430\\u043b\\u0438\\u0447\\u043d\\u044b\\u0439\", \"\\u0437\\u0430\\u043b\\u043e\\u0433\", \"\\u0440\\u0435\\u0433\\u0438\\u0441\\u0442\\u0440\\u0430\\u0446\\u0438\\u044f\", \"\\u0441\\u0438\\u0434\\u0435\\u0442\\u044c\", \"\\u043f\\u0440\\u043e\\u0444\\u0435\\u0441\\u0441\\u0438\\u043e\\u043d\\u0430\\u043b\", \"\\u043f\\u0440\\u044f\\u043c\", \"\\u0432\\u0441\\u0442\\u0440\\u0435\\u0442\\u0438\\u0442\\u044c\\u0441\\u044f\", \"\\u043d\\u0430\\u0432\\u0441\\u0442\\u0440\\u0435\\u0447\\u0443\", \"\\u043e\\u0437\\u0432\\u0443\\u0447\\u0438\\u0442\\u044c\", \"\\u0437\\u0430\\u0434\\u0430\\u0442\\u044c\", \"\\u0443\\u0432\\u0435\\u0440\\u0435\\u043d\\u043d\\u043e\\u0441\\u0442\\u044c\", \"\\u0441\\u0440\\u0430\\u0432\\u043d\\u0438\\u0432\\u0430\\u0442\\u044c\", \"\\u0432\\u044b\\u0441\\u043e\\u0442\\u0430\", \"\\u0447\\u0438\\u0442\\u0430\\u0438\\u0442\\u0435\", \"\\u043c\\u0430\\u043a\\u0441\\u0438\\u043c\\u0430\\u043b\\u044c\\u043d\\u043e\", \"\\u043a\\u043e\\u043d\\u0432\\u0435\\u0440\\u0442\", \"\\u043c\\u043e\\u0431\\u0430\\u0438\\u043b\", \"\\u0432\\u0435\\u0436\\u043b\\u0438\\u0432\\u043e\\u0441\\u0442\\u044c\", \"\\u0431\\u0430\\u043d\\u043a\\u044f\", \"\\u043f\\u043e\\u0431\\u043b\\u0430\\u0433\\u043e\\u0434\\u0430\\u0440\\u0438\\u0442\\u044c\", \"\\u0430\\u043d\\u0434\\u0440\\u0435\\u0438\", \"\\u043e\\u0434\\u043d\\u043e\\u0437\\u043d\\u0430\\u0447\\u043d\\u043e\", \"\\u0432\\u0435\\u0436\\u043b\\u0438\\u0432\\u044b\\u0438\", \"\\u0440\\u0430\\u0438\\u043e\\u043d\\u0435\", \"\\u043f\\u043e\\u0437\\u0434\\u0440\\u0430\\u0432\\u043b\\u044f\\u0442\\u044c\", \"\\u0431\\u0435\\u0441\\u043a\\u043e\\u043d\\u0435\\u0447\\u043d\\u043e\", \"\\u043a\\u043e\\u043b\\u043b\\u0435\\u043a\\u0442\\u0438\\u0432\", \"\\u043d\\u0430\\u043f\\u043e\\u043c\\u0438\\u043d\\u0430\\u0442\\u044c\", \"\\u0432\\u0447\\u0435\\u0440\\u0430\\u0448\\u043d\\u0438\\u0439\", \"\\u0442\\u0435\\u0440\\u043f\\u0435\\u043b\\u0438\\u0432\\u044b\\u0439\", \"\\u0432\\u0441\\u0442\\u0440\\u0435\\u0447\\u0430\", \"\\u043f\\u0440\\u0435\\u0434\\u0441\\u0442\\u0430\\u0432\\u0438\\u0442\\u0435\\u043b\\u044c\", \"\\u043f\\u043e\\u0434\\u043f\\u0438\\u0441\\u0430\\u0442\\u044c\", \"\\u043d\\u0430\\u0437\\u043d\\u0430\\u0447\\u0438\\u0442\\u044c\", \"\\u043f\\u0440\\u0438\\u0435\\u0445\\u0430\\u0442\\u044c\", \"\\u043f\\u0440\\u0435\\u0434\\u043f\\u0440\\u0438\\u044f\\u0442\\u0438\\u0435\", \"\\u0437\\u0430\\u0431\\u044b\\u0432\\u0430\\u0442\\u044c\", \"\\u0443\\u0434\\u0435\\u0440\\u0436\\u0438\\u0432\\u0430\\u0442\\u044c\", \"\\u0441\\u043f\\u0438\\u0441\\u0430\\u0442\\u044c\\u0441\\u044f\", \"\\u0441\\u043b\\u0443\\u0447\\u0438\\u0442\\u044c\\u0441\\u044f\", \"\\u0433\\u043e\\u0432\\u043e\\u0440\\u0438\\u0442\\u044c\\u0441\\u044f\", \"\\u0431\\u0435\\u0441\\u0435\\u0434\\u0430\", \"\\u043d\\u0430\\u0433\\u043b\\u044b\\u0439\", \"\\u043b\\u0438\\u0446\\u0435\\u043d\\u0437\\u0438\\u044f\", \"\\u0437\\u0430\\u043f\\u0440\\u0430\\u0448\\u0438\\u0432\\u0430\\u0442\\u044c\", \"\\u0430\\u043b\\u0438\\u044d\\u043a\\u0441\\u043f\\u0440\\u0435\\u0441\\u0441\", \"\\u043e\\u0442\\u0440\\u0430\\u0431\\u043e\\u0442\\u0430\\u0442\\u044c\", \"\\u043f\\u0435\\u0440\\u0435\\u0440\\u0430\\u0441\\u0447\\u0451\\u0442\", \"\\u0443\\u0447\\u0430\\u0441\\u0442\\u043e\\u043a\", \"\\u0441\\u0442\\u0430\\u0440\\u044b\\u0438\", \"\\u0432\\u0437\\u043b\\u043e\\u043c\\u0430\\u0442\\u044c\", \"\\u0432\\u043e\\u0437\\u043c\\u0443\\u0442\\u0438\\u0442\\u044c\\u0441\\u044f\", \"\\u043f\\u0435\\u0440\\u0435\\u043f\\u043b\\u0430\\u0442\\u0438\\u0442\\u044c\", \"\\u043e\\u0442\\u0432\\u044f\\u0437\\u0430\\u0442\\u044c\\u0441\\u044f\", \"\\u0437\\u0430\\u043c\\u043e\\u0440\\u043e\\u0447\\u043a\\u0430\", \"\\u0437\\u0430\\u0432\\u0430\\u043b\\u0438\\u0442\\u044c\", \"\\u043c\\u0430\\u0441\\u0441\\u043e\\u0432\\u043e\", \"\\u0437\\u0430\\u0434\\u0443\\u0448\\u0438\\u0442\\u044c\", \"\\u043f\\u043e\\u043c\\u043e\\u0433\\u0438\\u0442\\u0435\", \"\\u0441\\u0443\\u043c\\u043c\\u044b\\u0447\\u0435\\u0440\\u0435\\u0437\", \"\\u0430\\u0433\\u0435\\u043d\\u0441\\u0442\\u0432\\u043e\\u043c\", \"\\u0430\\u043b\\u0442\\u0430\\u0438\", \"\\u0431\\u0442\", \"\\u043a\\u043e\\u043b\\u043b\\u0435\\u043a\\u0442\\u043e\\u0440\\u043d\\u044b\\u0439\", \"\\u043e\\u0433\\u0440\\u043d\", \"\\u043e\\u043c\\u0441\\u043a\", \"\\u043f\\u0440\\u0435\\u0434\\u0443\\u0441\\u043c\\u0430\\u0442\\u0440\\u0438\\u0432\\u0430\\u0442\\u044c\", \"\\u043f\\u0441\\u0438\\u0445\\u043e\\u043b\\u043e\\u0433\\u0438\\u0447\\u0435\\u0441\\u043a\\u0438\\u0439\", \"\\u043e\\u0442\\u043f\\u0443\\u0441\\u043a\", \"\\u0448\\u043b\\u044e\\u0442\", \"\\u043a\\u043e\\u043d\\u0446\\u0435\\u0440\\u0442\", \"\\u0431\\u0430\\u043d\\u043a\\u0443\\u0434\\u0435\\u043b\\u043e\", \"\\u043a\\u0435\\u0448\\u0431\\u0435\\u043a\\u0430\\u044f\", \"\\u043f\\u043e\\u043f\\u044b\\u0442\\u0430\\u0442\\u044c\", \"\\u043f\\u0440\\u0438\\u0432\\u0435\\u0442\\u0445\\u043e\\u0447\\u0443\", \"\\u0440\\u043e\\u043a\\u0433\\u0440\\u0443\\u043f\\u043f\", \"\\u0442\\u0435\\u0445\\u043f\\u043e\\u0434\\u0434\\u0435\\u0440\\u043a\\u0435\", \"\\u043e\\u0431\\u044f\\u0437\\u0430\\u043d\\u043d\\u043e\\u0441\\u0442\\u0435\\u0438\\u0442\\u0430\\u043a\", \"\\u043e\\u0442\\u043d\\u043d\\u0435\\u0441\\u0441\\u044f\", \"\\u043f\\u0435\\u0440\\u0438\\u043e\\u0434\\u0438\\u0447\\u043d\\u043e\\u0441\\u0442\\u044c\", \"\\u0440\\u0435\\u0433\\u0443\\u043b\\u044f\\u0440\\u043d\\u043e\\u0438\", \"\\u0431\\u0430\\u043d\\u043a\\u0440\\u043e\\u0442\\u0441\\u0442\\u0432\\u043e\", \"\\u043d\\u0430\\u0442\\u0430\\u043b\\u0438\", \"\\u043d\\u0435\\u0438\\u0441\\u043f\\u043e\\u043b\\u043d\\u0435\\u043d\\u0438\\u0438\", \"\\u0442\\u0443\\u0440\\u0438\\u0441\\u0442\\u0438\\u0447\\u0435\\u0441\\u043a\\u043e\\u0438\", \"\\u0431\\u0430\\u043d\\u043a\\u0443\\u043d\\u043e\", \"\\u0432\\u0443\\u0430\\u043b\\u044f\\u043d\\u0430\", \"\\u043c\\u0438\\u043d\\u0438\\u043c\\u0430\\u043b\", \"\\u043f\\u043e\\u0434\\u0441\\u0435\\u0441\\u0442\\u044c\", \"\\u043f\\u0440\\u0435\\u043b\", \"\\u0442\\u0438\\u043d\\u044c\\u043a\\u043e\\u0444\\u0444\\u043d\\u0443\\u0436\\u043d\\u044b\", \"\\u0448\\u0442\\u043e\\u043f\\u0430\\u043d\\u043d\\u044b\\u0435\", \"\\u0433\\u0435\\u043e\\u043b\\u043e\\u043a\\u0430\\u0446\\u0438\\u0438\", \"\\u0434\\u0435\\u043a\\u0440\\u0435\\u0442\\u043d\\u044b\\u0439\", \"\\u043d\\u0430\\u0441\\u043b\\u0435\\u0434\\u043d\\u0438\\u043a\", \"\\u043f\\u043e\\u0441\\u043e\\u0431\\u0438\\u0438\", \"\\u0442\\u0435\\u0440\\u0440\\u043e\\u0440\", \"\\u0442\\u0443\\u0433\\u043e\", \"\\u0432\\u043d\\u0438\\u043a\\u043d\\u0443\\u0442\\u044c\\u0432\\u0430\", \"lines\", \"\\u0431\\u043e\\u043d\\u0443\\u0441\\u043e\\u0432\", \"\\u0432\\u043a\\u043b\\u0430\\u0434\\u0430\\u043c\\u043e\\u0447\\u0435\\u043d\\u044c\", \"\\u0432\\u044b\\u0442\\u0435\\u0441\\u043d\\u0438\\u0442\\u044c\", \"\\u043b\\u0438\\u043c\\u0438\\u0442\\u0430\\u0445\", \"\\u043d\\u0435\\u043c\\u0430\\u043b\\u043e\\u0432\", \"\\u043d\\u0435\\u0443\\u0434\\u043e\\u0441\\u0442\\u0432\\u0430\", \"\\u043e\\u043f\\u0440\\u0430\\u0432\\u0434\\u044b\\u0432\\u0430\\u0442\\u044c\", \"\\u044d\\u043a\\u0441\\u043f\\u0435\\u0440\\u0438\\u043c\\u0435\\u043d\\u0442\", \"\\u0432\\u044b\\u0441\\u043a\\u0430\\u043a\\u0438\\u0432\\u0430\\u0442\\u044c\", \"\\u043f\\u043e\\u043b\\u0443\\u0447\\u0438\\u043b\\u0438\\u0442\\u043e\\u0433\", \"\\u0440\\u0430\\u0437\\u0432\\u043b\\u0435\\u0447\\u0435\\u043d\\u0438\\u0435\", \"\\u0441\\u0442\\u0438\\u0440\\u0430\\u043b\\u044c\\u043d\\u043e\\u0438\", \"\\u0444\\u0438\\u0440\\u043c\\u0435\\u043d\\u043d\\u044b\\u0438\", \"\\u0444\\u0438\\u0440\\u043c\\u0435\\u043d\\u043d\\u044b\\u0439\", \"evo\", \"\\u0432\\u044b\\u043a\\u0443\\u043f\\u0438\\u0442\\u044c\", \"\\u0432\\u044b\\u0440\\u0430\\u0432\\u043d\\u044f\\u0442\\u044c\", \"gb\", \"mailru\\u043c\\u043d\\u0435\", \"microsdxc\", \"pandao\", \"\\u0431\\u0435\\u0440\\u0435\\u0442\\u0435\", \"\\u0433\\u0440\\u043e\\u043c\\u043a\\u043e\", \"\\u0434\\u0432\\u0443\\u0444\\u0430\\u043a\\u0442\\u043e\\u0440\\u043d\\u0430\\u044f\", \"\\u0437\\u0430\\u043a\\u0443\\u043f\\u0430\\u043b\\u0441\\u044f\", \"\\u0438\\u0434\\u0435\\u0442\\u0435\", \"\\u043b\\u044c\\u0432\\u0438\\u043d\\u044b\\u0439\", \"\\u043d\\u0435\\u043a\\u043e\\u0440\\u0440\\u0435\\u043a\\u043d\\u044b\\u0435\", \"\\u043d\\u044b\\u0442\\u044c\", \"\\u043e\\u0433\\u0440\\u0435\\u0445\", \"\\u043e\\u0442\\u043a\\u0430\\u0442\\u0438\\u0442\\u044c\", \"\\u043f\\u0440\\u043e\\u0434\\u0443\\u043c\\u0430\\u043d\\u044b\\u0438\", \"\\u043f\\u0440\\u0441\\u0442\\u0443\\u044e\", \"\\u0440\\u0430\\u0437\\u0432\\u0438\\u0442\\u044c\", \"\\u0441\\u043e\\u0431\\u0438\\u0440\\u0430\\u0438\\u0442\\u0435\", \"\\u0441\\u0442\\u0443\\u0430\\u0446\\u0438\\u044f\", \"\\u0442\\u0438\\u0445\\u043e\", \"\\u043e\\u0442\\u0432\\u0435\\u0442\\u0430\", \"\\u0440\\u0435\\u0437\\u0435\\u0440\\u0432\\u043d\\u044b\\u0438\", \"\\u043d\\u0430\\u043f\\u0440\\u0430\\u0432\\u0438\\u043b\\u0430\\u0438\", \"\\u0431\\u044b\\u0434\\u043b\\u043e\\u043c\", \"\\u0432\\u0437\\u0430\\u0438\\u043c\\u044b\", \"\\u043f\\u0440\\u0435\\u0432\\u0440\\u0430\\u0449\\u0430\\u0435\\u0442\\u0435\\u0441\\u044c\", \"\\u043d\\u0435\\u043e\\u0434\\u043d\\u0430\\u043a\\u0440\\u0430\\u0442\\u043d\\u043e\", \"\\u0438\\u0433\\u043d\\u0430\\u0442\\u044c\\u0435\\u0432\\u043a\\u043e\\u0442\\u043e\\u0440\\u044b\\u0438\", \"\\u043b\\u0430\\u0432\\u0440\\u0438\\u043d\\u043e\\u0432\\u0430\", \"\\u043b\\u0438\\u043d\\u043a\\u0443\\u044e\\u0442\", \"\\u0440\\u0430\\u0441\\u043f\\u043b\\u044b\\u0447\\u0430\\u0442\\u044b\\u0435\", \"\\u043a\\u043e\\u0441\\u0435\\u043d\\u043a\\u043e\\u0432\\u0430\", \"\\u043f\\u0430\\u0442\\u0440\\u0438\\u043a\\u0435\\u0435\\u0432\", \"\\u0430\\u0445\\u0438\\u043d\\u0435\\u044f\", \"\\u0431\\u044b\\u0442\\u044c\\u043e\\u043d\\u0438\", \"\\u0433\\u0430\\u0434\\u0430\\u0442\\u044c\", \"\\u0434\\u0435\\u043f\\u043e\\u0437\\u0438\\u0442\\u0430\\u044d\\u0442\\u043e\", \"\\u0437\\u0434\\u0430\\u0440\\u043e\\u0432\\u0430\", \"\\u0438\\u043d\\u0438\\u0446\\u0438\\u0438\\u0440\\u043e\\u0432\\u0430\\u0442\\u044c\\u0441\\u044f\", \"\\u043b\\u0438\\u043a\\u0431\\u0435\\u0437\", \"\\u043d\\u0430\\u0434\\u0435\\u0436\\u043d\\u043e\", \"\\u043d\\u0435\\u043e\\u0442\\u044a\\u0435\\u043c\\u043b\\u0435\\u043c\\u044b\\u0439\", \"\\u043e\\u043f\\u0440\\u0430\\u0446\\u0438\\u0438\", \"\\u043e\\u0441\\u043d\\u043e\\u0432\\u0430\\u043d\\u0438\\u0438\\u0432\\u044b\", \"\\u043e\\u0441\\u043d\\u043e\\u0432\\u044b\\u0432\\u0430\\u0442\\u044c\\u0441\\u044f\", \"\\u043e\\u0442\\u0432\\u0435\\u0442\\u0430\\u043c\\u044b\", \"\\u043e\\u0442\\u0432\\u0435\\u0442\\u0430\\u0443\", \"\\u043e\\u0442\\u043f\\u0438\\u0441\\u043a\\u0430\\u0445\", \"\\u043e\\u0444\", \"\\u043f\\u043b\\u0430\\u0442\\u0435\\u0436\\u0430\\u0447\\u0430\\u0440\\u0434\\u0436\\u0431\\u0435\\u043a\", \"ps\", \"\\u0430\\u0434\\u0440\\u0435\\u0441\", \"\\u0431\\u0430\\u043d\\u043a\", \"\\u0431\\u0430\\u043d\\u043a\\u0435\\u043e\\u043f\\u043b\\u0430\\u0442\\u0438\\u043b\\u0430\", \"\\u0431\\u0435\\u0440\\u0435\\u043c\\u0435\\u043d\\u043d\\u044b\\u0439\", \"\\u0431\\u043e\\u043b\\u044c\\u0448\\u043e\\u0438\", \"\\u0431\\u0440\\u0430\\u0442\\u044c\", \"\\u0431\\u044b\\u0442\\u044c\", \"\\u0432\\u0435\\u0440\\u043d\\u0443\", \"\\u0432\\u0435\\u0440\\u043d\\u0443\\u0442\\u044c\", \"\\u0432\\u0438\\u043d\\u043e\\u0432\\u0430\\u0442\\u044b\\u0439\", \"\\u0432\\u043e\\u0437\\u043c\\u043e\\u0436\\u043d\\u043e\\u0441\\u0442\\u044c\", \"\\u0432\\u043e\\u043e\\u0431\\u0449\\u0435\", \"\\u0432\\u0440\\u043e\\u0434\\u0435\", \"\\u0432\\u044b\\u0431\\u0438\\u0432\\u0430\\u0442\\u044c\", \"\\u0433\\u043e\\u0434\", \"\\u0433\\u043e\\u043b\\u043e\\u0434\", \"\\u0434\\u0430\\u043b\\u0451\\u043a\\u0438\\u0439\", \"\\u0434\\u0435\\u043d\\u044c\\u0433\\u0430\", \"\\u0434\\u0435\\u043d\\u044c\\u043a\\u043e\\u0433\\u0434\\u0430\", \"\\u0434\\u0435\\u0442\\u0435\\u0438\", \"\\u0434\\u043d\\u0435\\u0438\", \"\\u0434\\u043e\\u0433\\u043e\\u0432\\u043e\\u0440\\u0438\\u0442\\u044c\\u0441\\u044f\", \"\\u0434\\u043e\\u043b\\u0433\", \"\\u0434\\u043e\\u0445\\u043e\\u0434\", \"\\u0434\\u044f\\u0434\\u0438\\u043d\\u044c\\u043a\\u0438\", \"\\u0437\\u0430\\u0432\\u0435\\u0434\\u0443\\u0435\\u0442\", \"\\u0437\\u0432\\u043e\\u043d\\u0438\\u0442\\u044c\", \"\\u0437\\u0432\\u043e\\u043d\\u043e\\u043a\", \"\\u0438\\u0437\\u043c\\u0435\\u043d\\u0438\\u0442\\u044c\\u0441\\u044f\"], \"Freq\": [1704.0, 461.0, 339.0, 819.0, 4417.0, 689.0, 194.0, 319.0, 160.0, 782.0, 1215.0, 332.0, 211.0, 687.0, 453.0, 251.0, 891.0, 168.0, 290.0, 94.0, 332.0, 157.0, 186.0, 490.0, 383.0, 224.0, 787.0, 239.0, 223.0, 95.0, 782.294202775609, 381.3646517879349, 343.53152708277213, 200.93522113815027, 191.66842974613488, 195.4242926641183, 172.86178744697457, 161.82980590174938, 159.90350700832477, 151.98985787330218, 149.62540180731352, 148.41503377647848, 138.54652510073834, 131.03101341970117, 130.37688901628647, 126.70527202998286, 125.43871103438757, 120.66694342631727, 118.86298099773211, 115.86568684112835, 115.98173532191423, 110.29066009366439, 109.678615140629, 107.21620577287834, 155.4051107761848, 101.3854241584415, 92.0507268901935, 91.34811901111767, 91.09559154080438, 88.72455738769162, 683.0225566199175, 162.17607292672534, 344.4736658146018, 409.7636826603119, 857.6506801272304, 296.9052332585294, 361.450816614971, 3910.531370032622, 625.4347762965866, 193.8979588740234, 712.9649648377825, 170.69590693275873, 1026.2458782005663, 356.72555978168225, 191.45697361803084, 179.09781404062463, 199.83285848047086, 289.33772060210106, 235.24061997998874, 385.21228881227825, 280.0701169214882, 465.04076301662195, 336.3432081498241, 231.2284074837379, 358.874730359036, 227.09982014074683, 401.32908093639804, 251.64213376267313, 489.640662098047, 274.9465195620647, 272.46033624768467, 223.79702569315234, 211.41784900388006, 215.1142988130204, 79.21461730155433, 93.83261489034692, 64.95780933489101, 64.83218414441329, 62.96455860591191, 55.77799736024883, 55.01272828165459, 76.40660304941207, 54.13295635967677, 51.919076103262725, 51.82737407142213, 49.41669706946509, 46.11851696766607, 44.738067431393816, 42.08330650923786, 41.9904435107547, 42.00478503202068, 41.701973399214125, 41.31865087968438, 41.111502898224636, 41.797505187683015, 40.46444028993295, 40.29455503782288, 40.16872345327537, 40.08126109961833, 37.80283969763096, 39.31493998458503, 37.56118664092066, 37.11863762311462, 36.99442279211378, 37.38678938511828, 1590.7442246526643, 64.43571833585607, 61.4523149897427, 244.42481440418072, 50.93061477086702, 165.8300902248979, 104.30639155285152, 459.93207674778495, 128.16559188571105, 298.2011562102752, 100.6043240557358, 121.9877931224748, 122.14008901330403, 200.28125075789018, 67.46328427973548, 93.50514203278499, 127.5841453921062, 120.67474844949419, 221.07616420195382, 123.80906025963431, 217.86006300849152, 106.66732185082101, 177.31743376512048, 336.08604901698413, 78.75104475447293, 98.98745584568982, 72.56042089306678, 112.44508304145899, 81.61195895333562, 107.56972258928366, 133.8532849975609, 98.35102826516083, 113.76913539816162, 228.1265168278939, 105.86668485510113, 105.40023425737989, 101.5101646953616, 95.61459835622342, 318.5999020395396, 186.35758259306718, 150.80854875944394, 119.08969899921247, 108.93758001985945, 98.82043643084056, 98.38937703140923, 157.19869386751466, 84.94280870101174, 84.59169817026428, 78.21028155173099, 73.2996333379746, 61.44577117909416, 51.60665429874865, 51.548355155726824, 50.959671009751574, 49.61946647427822, 49.287425517446835, 48.851989074875036, 47.890728969043565, 45.673272839943536, 45.20462718233989, 44.58064512706226, 43.492548037782534, 45.093675537914876, 41.8533453816768, 41.433023816148555, 41.47326189694866, 43.12496856225976, 40.04735690452439, 91.05552094485854, 105.44762786122273, 67.23053794507142, 98.66123492489633, 124.19769298609395, 176.30297696779564, 145.28129035254122, 160.61347350980677, 78.91459130749645, 238.56699412737373, 171.84336897145567, 90.7040059855636, 417.752492052883, 115.57002390201018, 155.98424101356466, 389.4495379529607, 81.70875742595705, 141.13173059100754, 174.69414996721503, 134.54139847128198, 137.35711192843056, 124.05848765618092, 279.05592301388964, 177.6789759893955, 134.3884937642416, 105.54924693296344, 112.90427664574686, 194.0632316874446, 94.99410553790284, 67.82668782111425, 54.76845459919247, 53.85890174711048, 52.06629329355663, 51.77599654028964, 47.23290767887752, 37.718882764893685, 35.953306557855186, 35.0309536795191, 30.088757872812327, 28.07373068683586, 25.82703864355306, 23.56940909081663, 22.923871733527164, 22.557622176498498, 21.81572906601844, 20.977834097154666, 20.407948816114928, 19.902224829708448, 19.048466069220304, 18.96791429444729, 18.785704990292512, 18.382876334352854, 17.97996626599284, 17.593174195386073, 17.10842802978492, 16.771903975055334, 15.932222917377548, 262.08897786077216, 110.77768100604939, 195.07731808726842, 102.59207750837602, 83.17471016329249, 33.561502690454155, 56.3850992442677, 70.73309129021892, 34.36311264200701, 42.506159043045834, 40.28245022447396, 60.12978480660236, 44.675577407583575, 43.328879733641344, 37.6740693811806, 29.24068302844766, 35.6752681890252, 34.112614931950134, 28.809067772494338, 22.269688709481112, 18.67385530113763, 16.985000918908614, 16.04317070840131, 15.972536660037665, 15.359998254402683, 15.208810194757476, 13.111350635224197, 12.679238955234961, 12.606352709789537, 12.531138336046434, 12.246010185493166, 11.827826092257654, 11.430476752483244, 11.188822440457123, 10.493104605228105, 10.208316214691743, 9.145884067879559, 8.642819171025947, 8.61630630697924, 8.484608760879752, 8.406285711678912, 7.837273910331278, 7.683821427391561, 7.4381685003179605, 6.803918914814625, 6.7297881696102975, 6.740470662111617, 6.634571068356591, 77.9113527221697, 62.88865251152262, 27.53065121250927, 13.93816564515919, 17.256031602699704, 2.4248006376720266, 1.648338406489239, 1.561873561981885, 1.5542292446379224, 1.5248012391654684, 1.2443638913043253, 1.166288954010847, 1.1169242796524006, 1.0284809270866337, 0.9491263599501546, 0.7781258285800302, 0.5141467595152382, 0.5058213054015631, 0.20948607823853715, 0.19212170843969728, 0.16970254249945343, 0.1489548621625307, 0.09861915244300945, 0.07186261007184441, 0.06364558370186424, 0.06284102177174004, 0.04612236901300552, 0.042505945843955464, 0.04167925974153364, 0.04167831231464699, 0.045556351627998655, 0.045556351627998655, 0.045556351627998655, 0.045556351627998655, 0.045556351627998655, 0.045556351627998655, 0.045556351627998655, 0.045556351627998655, 0.22770728416226363, 0.1793237292695688, 0.03801958467582523, 0.002647554846244183, 0.002647554846244183, 0.002647554846244183, 0.002647554846244183, 0.002647554846244183, 0.002647554846244183, 0.002701817211285061, 0.002701817211285061, 0.0026905905674250194, 0.0026905905674250194, 0.0026294135420466603, 0.0026294135420466603, 0.0026294135420466603, 0.0026294135420466603, 0.0026383484577627045, 0.0026383484577627045, 0.0026383484577627045, 0.0026383484577627045, 0.0026383484577627045, 0.0026383484577627045, 0.0026383484577627045, 0.0026052931564717273, 0.0026052931564717273, 0.0026052931564717273, 0.0026052931564717273, 0.0026052931564717273, 0.0026052931564717273, 0.002834810018570858, 0.0030378279199589843, 0.0030378279199589843, 0.0030378279199589843, 0.0030378279199589843, 0.0030378279199589843, 0.0030378279199589843, 0.0030378279199589843, 0.0030378279199589843, 0.0030378279199589843, 0.0027253366521141384, 0.0027253366521141384, 0.0027253366521141384, 0.0027253366521141384, 0.0027253366521141384, 0.0027253366521141384, 0.0027015754972791487, 0.0033257515098536346, 0.0033257515098536346, 0.0027015754972791487, 0.0027015754972791487, 0.0027015754972791487, 0.0027015754972791487, 0.0030084584535973627, 0.0030084584535973627, 0.0030084584535973627, 0.0030084584535973627, 0.0030084584535973627, 0.0030084584535973627, 0.0030084584535973627, 0.0030084584535973627, 0.0030084584535973627, 0.0030084584535973627, 0.0030084584535973627, 0.0030084584535973627, 0.0030084584535973627, 0.0030084584535973627, 0.0030084584535973627, 0.0030084584535973627, 0.0008708748886356556, 0.0008708748886356556, 0.0008708748886356556, 0.0008708748886356556, 0.0008708748886356556, 0.0008708748886356556, 0.0008708748886356556, 0.0008708748886356556, 0.0008708748886356556, 0.0008708748886356556, 0.0008708748886356556, 0.0008708748886356556, 0.0008708748886356556, 0.0008708748886356556, 0.0008708748886356556, 0.0008708748886356556, 0.0008708748886356556, 0.0008708748886356556, 0.0008708748886356556, 0.0008708748886356556, 0.0008708748886356556, 0.0008708748886356556, 0.0008708748886356556, 0.0008708748886356556, 0.0008708748886356556, 0.0008708748886356556, 0.0008708748886356556, 0.0008708748886356556, 0.0008708748886356556, 0.0008708748886356556, 0.0008708748886356556, 0.0008708748886356556, 0.0008708748886356556, 0.0008708748886356556, 0.0008708748886356556, 0.0008708748886356556, 0.0008708748886356556, 0.0008708748886356556, 0.0008708748886356556, 0.0008708748886356556, 0.0008708748886356556, 0.0008708748886356556, 0.0008708748886356556, 0.0008708748886356556, 0.0008708748886356556, 0.0008708748886356556, 0.0008708748886356556, 0.0008708748886356556, 0.0008708748886356556, 0.0008708748886356556, 0.0008708748886356556, 0.0008708748886356556, 0.0008708748886356556, 0.0008708748886356556, 0.0008708748886356556, 0.0008708748886356556, 0.0008708748886356556, 0.0008708748886356556, 0.0008708748886356556, 0.0008708748886356556], \"Total\": [1704.0, 461.0, 339.0, 819.0, 4417.0, 689.0, 194.0, 319.0, 160.0, 782.0, 1215.0, 332.0, 211.0, 687.0, 453.0, 251.0, 891.0, 168.0, 290.0, 94.0, 332.0, 157.0, 186.0, 490.0, 383.0, 224.0, 787.0, 239.0, 223.0, 95.0, 782.7748511194675, 381.84512799410686, 344.01329319187334, 201.41597928184086, 192.14899033983608, 195.91432933540776, 173.34222856851693, 162.3104724816433, 160.3841864903504, 152.4704963932979, 150.1061632204077, 148.8973314824704, 139.02720289843472, 131.51146965722046, 130.85729457289577, 127.18580934232412, 125.9191113205474, 121.14811472400713, 119.34454319105231, 116.34641342861524, 116.46802741483322, 110.77130537510031, 110.15940484507932, 107.69687891680759, 156.11626690435534, 101.86596893087429, 92.53118520549741, 91.8286763327989, 91.5761674498975, 89.20502930476778, 687.6370230455102, 163.10253285424687, 350.9334347366482, 418.49342602204206, 891.6467865845339, 305.86425029299875, 376.1206866254432, 4417.927475616012, 679.7528401742113, 199.13422279344033, 787.5752955139086, 175.14727649918495, 1246.84391639944, 396.7239733548602, 201.26583219182072, 187.1461850911569, 213.08738042959413, 332.70660112962616, 261.6043031266863, 493.3175998423263, 329.963591067353, 636.2008761843254, 420.1355663664815, 269.6387151151325, 507.93628353683937, 285.8215091148866, 819.4773265572949, 345.78409249838194, 1215.3884829091744, 418.478797089107, 490.6792730969565, 315.7450814964326, 261.7437932680122, 486.88125967259964, 79.71134485927672, 94.43912329183641, 65.45448464606093, 65.32866252114671, 63.46128275870064, 56.274723883144695, 55.509409879435644, 77.10463376252756, 54.62970481168971, 52.41560910267569, 52.323876666218375, 49.91367608129607, 46.61501965030784, 45.234365338832376, 42.579921343336956, 42.48705404277908, 42.501668134532764, 42.198860461379105, 41.815165087727024, 41.60778289534959, 42.30502625501025, 40.96125252140702, 40.79136552779893, 40.665956250962644, 40.579011667708485, 38.2992876197662, 39.83403517618815, 38.05792469909129, 37.615199350884296, 37.491273150957014, 37.892900725430316, 1704.5416833042818, 66.53977943161755, 64.62990444348328, 290.01253180647706, 53.156107004673004, 208.56446749447565, 122.79658516782598, 689.4305416141633, 158.90882542613292, 453.2148623804587, 125.42930715739082, 159.3771378589391, 168.07525463858306, 325.7853754828996, 78.84715533902614, 124.4309533232958, 190.40142283317564, 177.33683221808482, 486.88125967259964, 202.79457799361396, 490.6792730969565, 166.12941781270604, 383.6642958054628, 1215.3884829091744, 104.63394987551214, 178.81380682716153, 92.97040578936758, 253.93524082748527, 123.1084984448123, 253.84218248526307, 507.93628353683937, 211.00469790751018, 343.13027623061964, 4417.927475616012, 338.4798696992481, 335.64736741171754, 493.3175998423263, 223.04226428870928, 319.09838734091574, 186.84595967248788, 151.2970869286838, 119.57833383320552, 109.42605128246647, 99.30909029333553, 98.87780403987703, 157.9810169587195, 85.4313124479407, 85.08008994180561, 78.69872224823334, 73.78825893788346, 61.93808771723026, 52.09524028106666, 52.037170718260924, 51.448045988231954, 50.10799929742627, 49.776171521909724, 49.34070705933517, 48.379019409006034, 46.16160351801913, 45.69302738877759, 45.069892875875766, 43.98132945710145, 45.62301407130961, 42.34467173644122, 41.9212604362982, 41.96254731992142, 43.64598076154683, 40.53614753958585, 93.6071105744757, 109.87274232863602, 69.3961318534101, 106.54571689382158, 140.29528409258182, 219.67943176909802, 176.68908212304484, 199.26306422955247, 88.3143021179031, 332.6706546899458, 224.5899324369315, 109.18848269138881, 819.4773265572949, 171.19229704101934, 281.3013899021793, 1215.3884829091744, 106.0052564672055, 253.93524082748527, 383.6642958054628, 297.7632494387684, 418.478797089107, 338.4798696992481, 4417.927475616012, 1246.84391639944, 636.2008761843254, 339.3387626911828, 1704.5416833042818, 194.58393449304515, 95.51541820970897, 68.34744978069908, 55.28911198757172, 54.37938443995672, 52.58674356605647, 52.296702370698675, 47.753575465107275, 38.241085726980714, 36.47432366090873, 35.551461005697675, 30.609624410610976, 28.595884238286416, 26.3485103697341, 24.089693079421526, 23.44688787103521, 23.078550866775466, 22.336240713052977, 21.49919430342318, 20.929179808448996, 20.42267319448994, 19.56969337388027, 19.49020020557172, 19.307695658777348, 18.903340147020447, 18.50035930053102, 18.113487427985397, 17.629009977078823, 17.292971129870484, 16.45308387698007, 461.56364026962416, 168.51463801407928, 339.3387626911828, 211.00469790751018, 157.26051549181213, 48.60010644967556, 112.55334985837271, 251.56112686612394, 63.83592530439789, 102.47206918139346, 116.45094711188105, 332.6706546899458, 223.04226428870928, 239.83646308917744, 146.48586520365944, 67.8055289484316, 332.70660112962616, 343.13027623061964, 29.34844603630604, 22.808380921561866, 19.2122766779939, 17.524031130843213, 16.581710389334283, 16.511168035626227, 15.897966112577073, 15.748049253906593, 13.651333465053339, 13.218113828488876, 13.146479361777072, 13.071564455258908, 12.784868405031233, 12.369235145966021, 11.96878512244113, 11.727569264043064, 11.031687475233332, 10.746641779119498, 9.687068093814691, 9.180630123412481, 9.15458973408586, 9.023585726024239, 8.944061455063112, 8.38173113286951, 8.222442501907667, 7.977414638944262, 7.34211740038479, 7.26917111170622, 7.283064674374299, 7.172646446381159, 94.98858505306426, 160.06811275957185, 55.44854182397974, 30.226691251662473, 75.4980174749501, 3.038052965837993, 2.2641152836813436, 2.1774463028256488, 2.168534740704999, 2.139649237613986, 1.8591027330816767, 1.7828639267246487, 1.7344441097523275, 1.6436741803871302, 1.5631144633601313, 1.3974327789584238, 1.1275295007342243, 1.1201531391963795, 0.8249380386641161, 0.8066178474559277, 0.7828450860120199, 0.7637456236653262, 0.7116256405304966, 0.6844965934044241, 0.6763371398675702, 0.6760289629380891, 0.6586145860090509, 0.6548667382795885, 0.6549110242977187, 0.6549111771263985, 0.9222465806924124, 0.9222465806924124, 0.9222465806924124, 0.9222465806924124, 0.9222465806924124, 0.9222465806924124, 0.9222465806924124, 0.9222465806924124, 0.8540684200509473, 0.8083380913163918, 0.6626594451606849, 0.636405254653504, 0.636405254653504, 0.636405254653504, 0.636405254653504, 0.636405254653504, 0.636405254653504, 0.6533842302002529, 0.6533842302002529, 0.6506811384014625, 0.6506811384014625, 0.6397331542194289, 0.6397331542194289, 0.6397331542194289, 0.6397331542194289, 0.6451039128099102, 0.6451039128099102, 0.6451039128099102, 0.6451039128099102, 0.6451039128099102, 0.6451039128099102, 0.6451039128099102, 0.6380068704531354, 0.6380068704531354, 0.6380068704531354, 0.6380068704531354, 0.6380068704531354, 0.6380068704531354, 0.7401208079019164, 0.8456884901096032, 0.8456884901096032, 0.8456884901096032, 0.8456884901096032, 0.8456884901096032, 0.8456884901096032, 0.8456884901096032, 0.8456884901096032, 0.8456884901096032, 0.698897694103798, 0.698897694103798, 0.698897694103798, 0.698897694103798, 0.698897694103798, 0.698897694103798, 0.6850960300949966, 1.2080375206432334, 1.2080375206432334, 0.6850960300949966, 0.6850960300949966, 0.6850960300949966, 0.6850960300949966, 1.080609607186881, 1.080609607186881, 1.080609607186881, 1.080609607186881, 1.080609607186881, 1.080609607186881, 1.080609607186881, 1.080609607186881, 1.080609607186881, 1.080609607186881, 1.080609607186881, 1.080609607186881, 1.080609607186881, 1.080609607186881, 1.080609607186881, 1.080609607186881, 0.6335226907785877, 0.6335226907785877, 0.6335509729047022, 0.6336167119662731, 0.6336167119662731, 0.6336167119662731, 0.633649735095817, 0.6337186071168209, 0.6337271982562236, 0.6337271982562236, 0.6337271982562236, 0.6337351516976533, 0.6337351516976533, 0.6337359259286314, 0.6337359259286314, 0.6337359259286314, 0.6337359259286314, 0.6337359259286314, 0.6337359259286314, 0.6337359259286314, 0.6337359259286314, 0.6337359259286314, 0.6337359259286314, 0.6337359259286314, 0.6337359259286314, 0.6337359259286314, 0.6337359259286314, 0.6337359259286314, 0.6337359259286314, 0.6337359259286314, 15.994895560508727, 77.80025134974665, 4417.927475616012, 0.6658868173848009, 0.6658864652722499, 43.81541690331977, 128.24984368967748, 253.84218248526307, 0.6658889668842276, 123.1084984448123, 21.554162443568735, 133.74375388145978, 177.33683221808482, 44.40844042517037, 1.5967608082481504, 636.2008761843254, 3.3878172862932137, 79.44307566728597, 689.4305416141633, 0.6658889669956464, 3.4260770160932585, 223.04226428870928, 27.044597443675546, 194.58393449304515, 36.18091964361668, 0.6658841884917758, 0.6658856920776677, 315.7450814964326, 269.6387151151325, 18.530156821261627], \"Category\": [\"Default\", \"Default\", \"Default\", \"Default\", \"Default\", \"Default\", \"Default\", \"Default\", \"Default\", \"Default\", \"Default\", \"Default\", \"Default\", \"Default\", \"Default\", \"Default\", \"Default\", \"Default\", \"Default\", \"Default\", \"Default\", \"Default\", \"Default\", \"Default\", \"Default\", \"Default\", \"Default\", \"Default\", \"Default\", \"Default\", \"Topic1\", \"Topic1\", \"Topic1\", \"Topic1\", \"Topic1\", \"Topic1\", \"Topic1\", \"Topic1\", \"Topic1\", \"Topic1\", \"Topic1\", \"Topic1\", \"Topic1\", \"Topic1\", \"Topic1\", \"Topic1\", \"Topic1\", \"Topic1\", \"Topic1\", \"Topic1\", \"Topic1\", \"Topic1\", \"Topic1\", \"Topic1\", \"Topic1\", \"Topic1\", \"Topic1\", \"Topic1\", \"Topic1\", \"Topic1\", \"Topic1\", \"Topic1\", \"Topic1\", \"Topic1\", \"Topic1\", \"Topic1\", \"Topic1\", \"Topic1\", \"Topic1\", \"Topic1\", \"Topic1\", \"Topic1\", \"Topic1\", \"Topic1\", \"Topic1\", \"Topic1\", \"Topic1\", \"Topic1\", \"Topic1\", \"Topic1\", \"Topic1\", \"Topic1\", \"Topic1\", \"Topic1\", \"Topic1\", \"Topic1\", \"Topic1\", \"Topic1\", \"Topic1\", \"Topic1\", \"Topic1\", \"Topic1\", \"Topic1\", \"Topic1\", \"Topic2\", \"Topic2\", \"Topic2\", \"Topic2\", \"Topic2\", \"Topic2\", \"Topic2\", \"Topic2\", \"Topic2\", \"Topic2\", \"Topic2\", \"Topic2\", \"Topic2\", \"Topic2\", \"Topic2\", \"Topic2\", \"Topic2\", \"Topic2\", \"Topic2\", \"Topic2\", \"Topic2\", \"Topic2\", \"Topic2\", \"Topic2\", \"Topic2\", \"Topic2\", \"Topic2\", \"Topic2\", \"Topic2\", \"Topic2\", \"Topic2\", \"Topic2\", \"Topic2\", \"Topic2\", \"Topic2\", \"Topic2\", \"Topic2\", \"Topic2\", \"Topic2\", \"Topic2\", \"Topic2\", \"Topic2\", \"Topic2\", \"Topic2\", \"Topic2\", \"Topic2\", \"Topic2\", \"Topic2\", \"Topic2\", \"Topic2\", \"Topic2\", \"Topic2\", \"Topic2\", \"Topic2\", \"Topic2\", \"Topic2\", \"Topic2\", \"Topic2\", \"Topic2\", \"Topic2\", \"Topic2\", \"Topic2\", \"Topic2\", \"Topic2\", \"Topic2\", \"Topic2\", \"Topic2\", \"Topic2\", \"Topic2\", \"Topic3\", \"Topic3\", \"Topic3\", \"Topic3\", \"Topic3\", \"Topic3\", \"Topic3\", \"Topic3\", \"Topic3\", \"Topic3\", \"Topic3\", \"Topic3\", \"Topic3\", \"Topic3\", \"Topic3\", \"Topic3\", \"Topic3\", \"Topic3\", \"Topic3\", \"Topic3\", \"Topic3\", \"Topic3\", \"Topic3\", \"Topic3\", \"Topic3\", \"Topic3\", \"Topic3\", \"Topic3\", \"Topic3\", \"Topic3\", \"Topic3\", \"Topic3\", \"Topic3\", \"Topic3\", \"Topic3\", \"Topic3\", \"Topic3\", \"Topic3\", \"Topic3\", \"Topic3\", \"Topic3\", \"Topic3\", \"Topic3\", \"Topic3\", \"Topic3\", \"Topic3\", \"Topic3\", \"Topic3\", \"Topic3\", \"Topic3\", \"Topic3\", \"Topic3\", \"Topic3\", \"Topic3\", \"Topic3\", \"Topic3\", \"Topic3\", \"Topic4\", \"Topic4\", \"Topic4\", \"Topic4\", \"Topic4\", \"Topic4\", \"Topic4\", \"Topic4\", \"Topic4\", \"Topic4\", \"Topic4\", \"Topic4\", \"Topic4\", \"Topic4\", \"Topic4\", \"Topic4\", \"Topic4\", \"Topic4\", \"Topic4\", \"Topic4\", \"Topic4\", \"Topic4\", \"Topic4\", \"Topic4\", \"Topic4\", \"Topic4\", \"Topic4\", \"Topic4\", \"Topic4\", \"Topic4\", \"Topic4\", \"Topic4\", \"Topic4\", \"Topic4\", \"Topic4\", \"Topic4\", \"Topic4\", \"Topic4\", \"Topic4\", \"Topic4\", \"Topic4\", \"Topic4\", \"Topic4\", \"Topic4\", \"Topic4\", \"Topic4\", \"Topic4\", \"Topic4\", \"Topic5\", \"Topic5\", \"Topic5\", \"Topic5\", \"Topic5\", \"Topic5\", \"Topic5\", \"Topic5\", \"Topic5\", \"Topic5\", \"Topic5\", \"Topic5\", \"Topic5\", \"Topic5\", \"Topic5\", \"Topic5\", \"Topic5\", \"Topic5\", \"Topic5\", \"Topic5\", \"Topic5\", \"Topic5\", \"Topic5\", \"Topic5\", \"Topic5\", \"Topic5\", \"Topic5\", \"Topic5\", \"Topic5\", \"Topic5\", \"Topic5\", \"Topic5\", \"Topic5\", \"Topic5\", \"Topic5\", \"Topic6\", \"Topic6\", \"Topic6\", \"Topic6\", \"Topic6\", \"Topic6\", \"Topic6\", \"Topic6\", \"Topic6\", \"Topic6\", \"Topic6\", \"Topic6\", \"Topic6\", \"Topic6\", \"Topic6\", \"Topic6\", \"Topic6\", \"Topic6\", \"Topic6\", \"Topic6\", \"Topic6\", \"Topic6\", \"Topic6\", \"Topic6\", \"Topic6\", \"Topic6\", \"Topic6\", \"Topic6\", \"Topic6\", \"Topic6\", \"Topic6\", \"Topic6\", \"Topic6\", \"Topic7\", \"Topic7\", \"Topic7\", \"Topic7\", \"Topic7\", \"Topic7\", \"Topic7\", \"Topic7\", \"Topic7\", \"Topic7\", \"Topic7\", \"Topic7\", \"Topic7\", \"Topic7\", \"Topic7\", \"Topic7\", \"Topic7\", \"Topic7\", \"Topic7\", \"Topic7\", \"Topic7\", \"Topic7\", \"Topic7\", \"Topic7\", \"Topic7\", \"Topic7\", \"Topic7\", \"Topic7\", \"Topic7\", \"Topic7\", \"Topic7\", \"Topic7\", \"Topic7\", \"Topic7\", \"Topic7\", \"Topic7\", \"Topic7\", \"Topic7\", \"Topic7\", \"Topic7\", \"Topic7\", \"Topic7\", \"Topic7\", \"Topic7\", \"Topic7\", \"Topic7\", \"Topic7\", \"Topic7\", \"Topic7\", \"Topic7\", \"Topic7\", \"Topic7\", \"Topic7\", \"Topic7\", \"Topic7\", \"Topic7\", \"Topic7\", \"Topic7\", \"Topic7\", \"Topic7\", \"Topic7\", \"Topic7\", \"Topic7\", \"Topic7\", \"Topic7\", \"Topic7\", \"Topic7\", \"Topic7\", \"Topic7\", \"Topic8\", \"Topic8\", \"Topic8\", \"Topic8\", \"Topic8\", \"Topic8\", \"Topic8\", \"Topic8\", \"Topic8\", \"Topic8\", \"Topic8\", \"Topic8\", \"Topic8\", \"Topic8\", \"Topic8\", \"Topic8\", \"Topic8\", \"Topic8\", \"Topic8\", \"Topic8\", \"Topic8\", \"Topic8\", \"Topic8\", \"Topic8\", \"Topic8\", \"Topic8\", \"Topic8\", \"Topic8\", \"Topic8\", \"Topic8\", \"Topic8\", \"Topic8\", \"Topic8\", \"Topic8\", \"Topic8\", \"Topic8\", \"Topic8\", \"Topic8\", \"Topic8\", \"Topic8\", \"Topic8\", \"Topic8\", \"Topic8\", \"Topic8\", \"Topic8\", \"Topic8\", \"Topic8\", \"Topic8\", \"Topic8\", \"Topic8\", \"Topic8\", \"Topic8\", \"Topic8\", \"Topic8\", \"Topic8\", \"Topic8\", \"Topic8\", \"Topic8\", \"Topic8\", \"Topic8\"], \"logprob\": [30.0, 29.0, 28.0, 27.0, 26.0, 25.0, 24.0, 23.0, 22.0, 21.0, 20.0, 19.0, 18.0, 17.0, 16.0, 15.0, 14.0, 13.0, 12.0, 11.0, 10.0, 9.0, 8.0, 7.0, 6.0, 5.0, 4.0, 3.0, 2.0, 1.0, -4.3775, -5.0959, -5.2004, -5.7367, -5.7839, -5.7645, -5.8872, -5.9532, -5.9651, -6.0159, -6.0316, -6.0397, -6.1085, -6.1643, -6.1693, -6.1978, -6.2079, -6.2467, -6.2617, -6.2873, -6.2863, -6.3366, -6.3421, -6.3649, -5.9937, -6.4208, -6.5174, -6.525, -6.5278, -6.5542, -4.5132, -5.951, -5.1977, -5.0241, -4.2855, -5.3463, -5.1496, -2.7683, -4.6013, -5.7724, -4.4703, -5.8998, -4.106, -5.1627, -5.785, -5.8518, -5.7422, -5.3721, -5.5791, -5.0859, -5.4047, -4.8976, -5.2216, -5.5963, -5.1567, -5.6143, -5.0449, -5.5117, -4.846, -5.4231, -5.4322, -5.629, -5.6859, -5.6685, -5.7393, -5.57, -5.9377, -5.9397, -5.9689, -6.0901, -6.1039, -5.7754, -6.12, -6.1618, -6.1635, -6.2112, -6.2803, -6.3106, -6.3718, -6.374, -6.3737, -6.3809, -6.3902, -6.3952, -6.3786, -6.411, -6.4153, -6.4184, -6.4206, -6.4791, -6.4399, -6.4855, -6.4973, -6.5007, -6.4902, -2.7395, -5.9458, -5.9932, -4.6126, -6.181, -5.0005, -5.4641, -3.9804, -5.2581, -4.4137, -5.5003, -5.3075, -5.3063, -4.8117, -5.8999, -5.5735, -5.2627, -5.3184, -4.713, -5.2927, -4.7276, -5.4418, -4.9335, -4.2941, -5.7452, -5.5165, -5.827, -5.389, -5.7095, -5.4333, -5.2147, -5.5229, -5.3773, -4.6816, -5.4493, -5.4537, -5.4913, -5.5511, -4.2343, -4.7706, -4.9822, -5.2183, -5.3075, -5.4049, -5.4093, -4.9407, -5.5562, -5.5604, -5.6388, -5.7037, -5.8801, -6.0546, -6.0557, -6.0672, -6.0938, -6.1006, -6.1094, -6.1293, -6.1767, -6.187, -6.2009, -6.2256, -6.1895, -6.2641, -6.2741, -6.2732, -6.2341, -6.3082, -5.4868, -5.34, -5.7901, -5.4065, -5.1764, -4.826, -5.0196, -4.9192, -5.6299, -4.5236, -4.8516, -5.4906, -3.9633, -5.2483, -4.9485, -4.0335, -5.5951, -5.0485, -4.8352, -5.0964, -5.0756, -5.1775, -4.3668, -4.8182, -5.0975, -5.339, -5.2717, -3.6047, -4.3191, -4.656, -4.8698, -4.8865, -4.9204, -4.926, -5.0178, -5.2427, -5.2907, -5.3167, -5.4688, -5.5381, -5.6215, -5.713, -5.7407, -5.7568, -5.7903, -5.8294, -5.857, -5.8821, -5.9259, -5.9302, -5.9398, -5.9615, -5.9836, -6.0054, -6.0333, -6.0532, -6.1046, -3.3042, -4.1654, -3.5995, -4.2421, -4.452, -5.3595, -4.8407, -4.614, -5.3359, -5.1233, -5.177, -4.7764, -5.0735, -5.1041, -5.2439, -5.4973, -5.2984, -5.3432, -4.5637, -4.8211, -4.9972, -5.092, -5.1491, -5.1535, -5.1926, -5.2025, -5.3509, -5.3844, -5.3901, -5.3961, -5.4191, -5.4539, -5.4881, -5.5094, -5.5736, -5.6011, -5.711, -5.7676, -5.7707, -5.7861, -5.7954, -5.8655, -5.8852, -5.9177, -6.0068, -6.0178, -6.0162, -6.032, -3.5688, -3.783, -4.609, -5.2897, -5.0762, -4.5996, -4.9856, -5.0395, -5.0444, -5.0635, -5.2667, -5.3315, -5.3748, -5.4573, -5.5376, -5.7362, -6.1506, -6.1669, -7.0485, -7.135, -7.2591, -7.3895, -7.8019, -8.1184, -8.2398, -8.2525, -8.5618, -8.6435, -8.6631, -8.6631, -8.5742, -8.5742, -8.5742, -8.5742, -8.5742, -8.5742, -8.5742, -8.5742, -5.211, -5.4499, -7.001, -9.6655, -9.6655, -9.6655, -9.6655, -9.6655, -9.6655, -9.6452, -9.6452, -9.6493, -9.6493, -9.6723, -9.6723, -9.6723, -9.6723, -9.6689, -9.6689, -9.6689, -9.6689, -9.6689, -9.6689, -9.6689, -9.6815, -9.6815, -9.6815, -9.6815, -9.6815, -9.6815, -9.5971, -9.5279, -9.5279, -9.5279, -9.5279, -9.5279, -9.5279, -9.5279, -9.5279, -9.5279, -9.6365, -9.6365, -9.6365, -9.6365, -9.6365, -9.6365, -9.6453, -9.4374, -9.4374, -9.6453, -9.6453, -9.6453, -9.6453, -9.5377, -9.5377, -9.5377, -9.5377, -9.5377, -9.5377, -9.5377, -9.5377, -9.5377, -9.5377, -9.5377, -9.5377, -9.5377, -9.5377, -9.5377, -9.5377, -9.6866, -9.6866, -9.6866, -9.6866, -9.6866, -9.6866, -9.6866, -9.6866, -9.6866, -9.6866, -9.6866, -9.6866, -9.6866, -9.6866, -9.6866, -9.6866, -9.6866, -9.6866, -9.6866, -9.6866, -9.6866, -9.6866, -9.6866, -9.6866, -9.6866, -9.6866, -9.6866, -9.6866, -9.6866, -9.6866, -9.6866, -9.6866, -9.6866, -9.6866, -9.6866, -9.6866, -9.6866, -9.6866, -9.6866, -9.6866, -9.6866, -9.6866, -9.6866, -9.6866, -9.6866, -9.6866, -9.6866, -9.6866, -9.6866, -9.6866, -9.6866, -9.6866, -9.6866, -9.6866, -9.6866, -9.6866, -9.6866, -9.6866, -9.6866, -9.6866], \"loglift\": [30.0, 29.0, 28.0, 27.0, 26.0, 25.0, 24.0, 23.0, 22.0, 21.0, 20.0, 19.0, 18.0, 17.0, 16.0, 15.0, 14.0, 13.0, 12.0, 11.0, 10.0, 9.0, 8.0, 7.0, 6.0, 5.0, 4.0, 3.0, 2.0, 1.0, 0.6475, 0.6468, 0.6467, 0.6457, 0.6456, 0.6456, 0.6453, 0.6451, 0.6451, 0.6449, 0.6449, 0.6448, 0.6446, 0.6444, 0.6444, 0.6443, 0.6443, 0.6441, 0.644, 0.6439, 0.6439, 0.6437, 0.6437, 0.6436, 0.6435, 0.6433, 0.6429, 0.6428, 0.6428, 0.6427, 0.6413, 0.6424, 0.6295, 0.627, 0.6092, 0.6183, 0.6083, 0.5261, 0.5648, 0.6214, 0.5485, 0.6223, 0.4534, 0.5418, 0.5981, 0.6041, 0.5839, 0.5084, 0.5419, 0.4007, 0.4841, 0.3347, 0.4256, 0.4944, 0.3007, 0.4181, -0.0658, 0.3303, -0.2611, 0.228, 0.0598, 0.3039, 0.4345, -0.1688, 1.5701, 1.5699, 1.5687, 1.5687, 1.5685, 1.5674, 1.5673, 1.5672, 1.5672, 1.5668, 1.5668, 1.5663, 1.5656, 1.5653, 1.5646, 1.5646, 1.5646, 1.5645, 1.5644, 1.5643, 1.5642, 1.5641, 1.5641, 1.564, 1.564, 1.5633, 1.5632, 1.5632, 1.563, 1.563, 1.5629, 1.5072, 1.5442, 1.5259, 1.4053, 1.5335, 1.347, 1.4131, 1.1715, 1.3613, 1.1577, 1.3558, 1.309, 1.2571, 1.0898, 1.4204, 1.2906, 1.176, 1.1914, 0.7868, 1.0829, 0.7644, 1.1333, 0.8045, 0.2909, 1.2921, 0.985, 1.3284, 0.7617, 1.1652, 0.7177, 0.2427, 0.813, 0.4724, -1.3872, 0.414, 0.418, -0.0047, 0.7293, 1.688, 1.6869, 1.6863, 1.6855, 1.6851, 1.6846, 1.6846, 1.6846, 1.6838, 1.6838, 1.6833, 1.6829, 1.6816, 1.6801, 1.6801, 1.68, 1.6798, 1.6797, 1.6796, 1.6794, 1.6789, 1.6788, 1.6786, 1.6784, 1.6779, 1.6779, 1.6778, 1.6778, 1.6775, 1.6774, 1.6619, 1.6484, 1.6578, 1.6127, 1.5677, 1.4696, 1.4938, 1.4739, 1.577, 1.357, 1.4219, 1.5041, 1.0158, 1.2966, 1.0999, 0.5515, 1.4292, 1.1022, 0.9028, 0.8951, 0.5755, 0.6858, -1.0725, -0.2588, 0.1348, 0.5217, -1.025, 2.8122, 2.8094, 2.8072, 2.8054, 2.8053, 2.8049, 2.8049, 2.8039, 2.8011, 2.8005, 2.8001, 2.7977, 2.7964, 2.7949, 2.793, 2.7923, 2.792, 2.7913, 2.7903, 2.7897, 2.7891, 2.7879, 2.7877, 2.7875, 2.787, 2.7863, 2.7857, 2.7849, 2.7843, 2.7827, 2.2489, 2.3954, 2.2613, 2.0938, 2.1779, 2.4446, 2.1236, 1.5461, 2.1955, 1.9349, 1.7533, 1.1042, 1.2069, 1.1037, 1.4569, 1.9738, 0.5821, 0.5064, 3.7449, 3.7395, 3.735, 3.7322, 3.7304, 3.7303, 3.729, 3.7286, 3.7231, 3.7218, 3.7215, 3.7212, 3.7204, 3.7187, 3.7174, 3.7164, 3.7134, 3.712, 3.7059, 3.7031, 3.7028, 3.7018, 3.7014, 3.6963, 3.6957, 3.6934, 3.6873, 3.6863, 3.686, 3.6855, 3.5653, 2.8292, 3.0633, 2.9893, 2.2875, 5.9769, 5.885, 5.8702, 5.8693, 5.8636, 5.8009, 5.778, 5.7623, 5.7336, 5.7035, 5.6169, 5.4171, 5.4074, 4.8318, 4.7677, 4.6735, 4.5678, 4.2261, 3.9485, 3.8391, 3.8268, 3.5436, 3.4676, 3.4479, 3.4479, 3.1946, 3.1946, 3.1946, 3.1946, 3.1946, 3.1946, 3.1946, 3.1946, 6.6345, 6.4507, 5.0983, 2.4742, 2.4742, 2.4742, 2.4742, 2.4742, 2.4742, 2.4682, 2.4682, 2.4682, 2.4682, 2.4622, 2.4622, 2.4622, 2.4622, 2.4572, 2.4572, 2.4572, 2.4572, 2.4572, 2.4572, 2.4572, 2.4556, 2.4556, 2.4556, 2.4556, 2.4556, 2.4556, 2.3916, 2.3274, 2.3274, 2.3274, 2.3274, 2.3274, 2.3274, 2.3274, 2.3274, 2.3274, 2.4095, 2.4095, 2.4095, 2.4095, 2.4095, 2.4095, 2.4207, 2.0614, 2.0614, 2.4207, 2.4207, 2.4207, 2.4207, 2.0726, 2.0726, 2.0726, 2.0726, 2.0726, 2.0726, 2.0726, 2.0726, 2.0726, 2.0726, 2.0726, 2.0726, 2.0726, 2.0726, 2.0726, 2.0726, 2.4576, 2.4576, 2.4576, 2.4575, 2.4575, 2.4575, 2.4574, 2.4573, 2.4573, 2.4573, 2.4573, 2.4573, 2.4573, 2.4573, 2.4573, 2.4573, 2.4573, 2.4573, 2.4573, 2.4573, 2.4573, 2.4573, 2.4573, 2.4573, 2.4573, 2.4573, 2.4573, 2.4573, 2.4573, 2.4573, -0.7711, -2.353, -6.3923, 2.4078, 2.4078, -1.7788, -2.8528, -3.5356, 2.4078, -2.8119, -1.0694, -2.8948, -3.1769, -1.7923, 1.5332, -4.4544, 0.781, -2.3739, -4.5347, 2.4078, 0.7697, -3.4062, -1.2963, -3.2697, -1.5874, 2.4078, 2.4078, -3.7538, -3.5959, -0.9183]}, \"token.table\": {\"Topic\": [1, 4, 1, 2, 2, 3, 6, 5, 4, 3, 1, 2, 3, 1, 3, 3, 5, 6, 5, 3, 1, 3, 1, 3, 2, 3, 1, 2, 3, 1, 2, 3, 4, 1, 2, 5, 5, 1, 2, 4, 1, 2, 4, 2, 2, 3, 1, 3, 1, 4, 1, 3, 1, 2, 3, 1, 3, 1, 2, 3, 1, 2, 5, 1, 5, 2, 5, 2, 4, 1, 4, 4, 4, 5, 4, 1, 2, 6, 1, 2, 3, 4, 2, 1, 2, 2, 2, 3, 2, 1, 1, 2, 4, 1, 2, 3, 3, 1, 2, 4, 1, 3, 1, 2, 4, 2, 4, 1, 4, 1, 2, 4, 3, 1, 3, 2, 3, 2, 3, 4, 1, 2, 2, 6, 5, 4, 2, 1, 2, 4, 5, 1, 3, 4, 6, 1, 4, 1, 4, 4, 1, 2, 1, 2, 1, 2, 2, 3, 1, 2, 3, 1, 1, 1, 2, 4, 1, 2, 3, 2, 3, 2, 1, 2, 3, 5, 3, 5, 2, 1, 4, 2, 3, 1, 2, 4, 3, 2, 3, 2, 3, 2, 3, 2, 6, 1, 1, 3, 1, 3, 5, 1, 1, 2, 3, 4, 2, 3, 1, 5, 1, 1, 2, 1, 2, 4, 5, 4, 6, 2, 1, 5, 4, 5, 5, 3, 4, 1, 1, 1, 2, 1, 2, 2, 2, 3, 1, 2, 3, 1, 1, 1, 3, 1, 1, 5, 2, 4, 5, 3, 1, 3, 4, 1, 2, 3, 1, 2, 3, 2, 2, 1, 6, 1, 3, 1, 2, 3, 4, 6, 1, 1, 3, 4, 1, 3, 4, 3, 5, 4, 4, 1, 3, 3, 5, 1, 2, 4, 5, 2, 4, 2, 3, 3, 2, 1, 2, 3, 1, 2, 3, 4, 1, 3, 2, 1, 2, 4, 3, 1, 6, 1, 2, 5, 2, 1, 2, 5, 3, 1, 2, 3, 1, 2, 4, 1, 2, 3, 5, 2, 3, 4, 5, 1, 3, 1, 3, 4, 2, 5, 4, 3, 5, 2, 1, 3, 1, 2, 3, 3, 4, 2, 3, 4, 4, 1, 2, 3, 1, 1, 2, 3, 1, 3, 5, 1, 2, 1, 2, 4, 6, 1, 2, 1, 2, 4, 2, 3, 3, 1, 1, 1, 2, 3, 4, 6, 1, 1, 2, 4, 2, 4, 5, 1, 1, 4, 2, 4, 1, 2, 3, 4, 1, 3, 1, 2, 3, 1, 2, 3, 2, 1, 2, 4, 5, 3, 1, 2, 3, 3, 3, 4, 4, 5, 4, 6, 3, 3, 3, 2, 1, 2, 3, 1, 2, 3, 2, 1, 3, 3, 1, 2, 3, 5, 2, 2, 4, 1, 2, 3, 1, 1], \"Freq\": [0.6251994557995065, 0.31259972789975327, 0.9897140261649136, 0.9921855564850837, 0.9856735748732082, 0.9921656244042127, 0.7155979271828372, 0.9831134175778226, 0.9936956359267117, 0.9848329728104688, 0.8852567231096683, 0.05160790919688171, 0.06315178362249999, 0.9564715407520117, 0.04274733143025751, 0.9980364002062787, 0.9290736797593698, 0.5608953016605868, 0.8774772676134064, 0.9851995361250776, 0.9977015947826519, 0.9912912924169279, 0.15976111822570904, 0.8444516249073192, 0.028820050146667085, 0.9654716799133474, 0.4288504252144115, 0.49902594934040617, 0.06237824366755077, 0.5554632355407905, 0.42546120169081825, 0.00393945557121128, 0.01575782228484512, 0.9797047564097346, 0.019116190368970432, 0.930523246753213, 0.8944482369887238, 0.3330395587464637, 0.6660791174929274, 0.9867730522582246, 0.1774915276900756, 0.559780971945623, 0.25941069431626435, 0.9857312525881639, 0.9278950203870037, 0.09278950203870036, 0.17544943709884606, 0.8206505928816993, 0.4542896474315237, 0.5326154487128208, 0.7252675148177266, 0.27664843348717405, 0.22555945936154373, 0.6823173645686698, 0.09022378374461748, 0.9932565832116295, 0.005817022449262838, 0.8998699952036222, 0.0025206442442678493, 0.09830512552644612, 0.31525538537185166, 0.6755472543682536, 0.9435169186914619, 0.17896887284407015, 0.821151298931616, 0.9816948749715823, 0.9611338513345526, 0.6262678760866677, 0.8277888583026283, 0.497541833010439, 0.497541833010439, 0.9849464053789283, 0.8277888583026283, 0.9386095828157008, 0.9965963691902099, 0.1551657085978206, 0.8413429532859606, 0.5378938894583759, 0.7309012253942203, 0.0314366118449127, 0.2106252993609151, 0.026721120068175796, 0.8855259143218008, 0.5160928080341617, 0.4783299196414182, 0.9920708905268741, 0.8497453042143895, 0.1395104230799744, 0.9938101553849988, 0.9928497719905177, 0.7067815622467982, 0.26381261654894417, 0.029531263046523603, 0.2697878738654634, 0.6672173224629739, 0.0638207873660236, 0.875637058334692, 0.3721267817321095, 0.4304116993528014, 0.20175548407162563, 0.3212761377155975, 0.6776005813638055, 0.8686332012012061, 0.02103955850660361, 0.10820344374824713, 0.48068750245125524, 0.5176634641782749, 0.997786725737352, 0.9969990611271866, 0.42945930186479575, 0.3877642240138447, 0.1792888347590895, 0.9911215553661797, 0.801527442797226, 0.19347214136484764, 0.961830660496438, 0.030057208140513686, 0.846929088930798, 0.14658388077648427, 0.9729540765991146, 0.3256278187286586, 0.6722638838269082, 0.9984779858715557, 0.8833472457939929, 0.9834988689521815, 0.9888423673673683, 0.9927312726965419, 0.35997017633429423, 0.6114561899377052, 0.029586589835695416, 0.9645577244460318, 0.35395343672125634, 0.20647283808739952, 0.4276937360381848, 0.6397484147452397, 0.994259392611067, 0.9791618880073448, 0.971019005050419, 0.029424818334861186, 0.9937346450573588, 0.7094330620714067, 0.29137429335075626, 0.8567019016589132, 0.1409293171560117, 0.26773721150543406, 0.7258653289702879, 0.6475930082918196, 0.3237965041459098, 0.9969141807469147, 0.10190874846052277, 0.8945323475979221, 0.9953330144940934, 0.9927007798029351, 0.4418003363485242, 0.5536485227658722, 0.9708889984632748, 0.0005866679646469447, 0.933388731753289, 0.06629348000510475, 0.7654799279177624, 0.23215374863079682, 0.9948188653233699, 0.9194518405245958, 0.033835827731305126, 0.045604811290019955, 0.9534034418508671, 0.9996916708300044, 0.9379607787716245, 0.9836449264791725, 0.4311431461190344, 0.5676356999155127, 0.7554390406040669, 0.24913415168857525, 0.1913428411900928, 0.8052344566749737, 0.9844883729079574, 0.9844067653622561, 0.9953501972855103, 0.9780240282207615, 0.9930564781234087, 0.9867735941344138, 0.4410573327082588, 0.5552596777845044, 0.9927898341636386, 0.6083930817508325, 0.9914989378694082, 0.021365898249885194, 0.9721483703697763, 0.16485255181057273, 0.8334212341534512, 0.9190573552344352, 0.9980257057305476, 0.34389270832134783, 0.3322353283782513, 0.22440456390460833, 0.09908772951632057, 0.9805055154985798, 0.9990586523608473, 0.9992927457598673, 0.9064796317381616, 0.993973488486756, 0.9622644447433962, 0.03813169128353785, 0.5543335838973857, 0.44428206356481653, 0.9748488881385843, 0.9524989259402382, 0.9724620697026901, 0.5765536026080404, 0.976532638475724, 0.5293334909463502, 0.4631668045780564, 0.9840635742237076, 0.9881272747499139, 0.9629708659254493, 0.9776875899565832, 0.9556036205454219, 0.9985529619980836, 0.9937083253651915, 0.24848531505246055, 0.7550130726593993, 0.9489936663365859, 0.04471697904203808, 0.9764362002291611, 0.9885364129438422, 0.999285689099775, 0.31907362791164506, 0.3131648570243924, 0.3663437950096666, 0.9992246103423569, 0.9971130377490259, 0.4443632505458573, 0.5545653366812299, 0.9987774079328882, 0.995981494447689, 0.8865655231631265, 0.5855254068675975, 0.4196265415884448, 0.9522879236141497, 0.9968875931455766, 0.266206508137856, 0.3864288021355974, 0.34349226856497544, 0.02851129334725444, 0.08553388004176332, 0.8838500937648877, 0.9597983116506935, 0.037222095188669556, 0.9978446695349935, 0.9863804036024199, 0.985392567133936, 0.9980871691339669, 0.8868947547259919, 0.4893362964472008, 0.5100812267205235, 0.22262796670122698, 0.00890511866804908, 0.7658402054522208, 0.9830583693414934, 0.8927350779174892, 0.9970225689094595, 0.01186840516390571, 0.32638114200740703, 0.6586964865967669, 0.5684503078096875, 0.14708154817453453, 0.2822375654159987, 0.9911223348010134, 0.9803248664869052, 0.9930233774459948, 0.9962767031059376, 0.07508513934889022, 0.9291785994425165, 0.504972702237787, 0.504972702237787, 0.3622016483247382, 0.6139010988554885, 0.02455604395421954, 0.9729469069736811, 0.9836237405348883, 0.9522126703537718, 0.1957397634076034, 0.8011674037148419, 0.9930948079255238, 0.9868064058554187, 0.7997418616706908, 0.19755528130555755, 0.0023801841121151514, 0.08079980425313948, 0.4613408178324416, 0.45612792723546486, 0.9946038218816428, 0.99611083612286, 0.9951635566856768, 0.9790622473344925, 0.16361583398705457, 0.8054933365516532, 0.031464583459048956, 0.9984492335921842, 0.9934486298551878, 0.6583163698886781, 0.41857181199253873, 0.18742021432501735, 0.39358245008253645, 0.9951181655957093, 0.6225329031400644, 0.1456991900966108, 0.22517147560385306, 0.9937902858355708, 0.6571420151101325, 0.014337643966039254, 0.3273762038912296, 0.9763212047479125, 0.022837922918079824, 0.9947709055693151, 0.5481943785791674, 0.3128283138631119, 0.13704859464479185, 0.9649185532930034, 0.10220318360117614, 0.7184282611965028, 0.18035855929619318, 0.9690410736222127, 0.980242877849894, 0.017097259497381872, 0.84857847223164, 0.15153187004136429, 0.9809404184686162, 0.9952875395400521, 0.9544567671262413, 0.9793037282404354, 0.9918603280576479, 0.9889509878734443, 0.9868963332085596, 0.9742172755570698, 0.025108692668996645, 0.728778464559295, 0.24581813288706378, 0.026027802305689105, 0.4705567686114628, 0.5277866458750191, 0.4644446354599953, 0.04739230974081585, 0.48814079033040325, 0.9767807901832072, 0.7804302950534369, 0.20676335089727418, 0.012162550052780835, 0.9985390717464083, 0.15048508764525345, 0.6440761751216848, 0.20465971919754472, 0.22640386712733251, 0.7735465460183861, 0.970096427760797, 0.9385820952737353, 0.06100783619279279, 0.3155236332032648, 0.6575247740879224, 0.026477507681392853, 0.9347326490907851, 0.9932402468867106, 0.0061311126351031526, 0.15822445882769598, 0.7959169747090161, 0.04315212513482618, 0.9949690915371132, 0.996106491301905, 0.9949513540693463, 0.9990101226190911, 0.9999613584935919, 0.9979347255201695, 0.785196099556538, 0.0860488876226343, 0.12907333143395144, 0.922281742809337, 0.9935292561509985, 0.018812513864344675, 0.9594382070815785, 0.018812513864344675, 0.9438355282320197, 0.046418140732722275, 0.9945251805547946, 0.9976045862203907, 0.9909758436482774, 0.9842194964928249, 0.3086412992846467, 0.6995869450451991, 0.08840722987872056, 0.023575261300992148, 0.31237221223814593, 0.5746469942116836, 0.9053102656486365, 0.09395927020757237, 0.4415861069382203, 0.4539094401551009, 0.10269444347400472, 0.02730431530530856, 0.009101438435102853, 0.9556510356857996, 0.9908229995501292, 0.806131818315733, 0.19102649723121634, 0.9869956831737751, 0.9759298819937982, 0.9981718045534906, 0.8228776565416627, 0.03448707527416325, 0.14276045113490834, 0.9770617519336235, 0.9893172850365392, 0.9943265567951964, 0.9643196085374811, 0.9888579019716142, 0.9800838977168356, 0.9185071509706675, 0.9848544288045674, 0.9964991788477182, 0.9954724219139086, 0.9881965071830873, 0.2653114517956839, 0.2821033158333854, 0.4533803290179408, 0.7942019503814068, 0.0944645491643083, 0.11195798419473577, 0.9805996804088448, 0.19070267812515285, 0.8079771362670949, 0.9863443026728609, 0.8983032663885397, 0.08791904309334644, 0.011467701273045187, 0.9701489104533323, 0.9884732159205266, 0.9910759897410771, 0.9949164192400168, 0.403163274039859, 0.2764548164844748, 0.32006227265613296, 0.9998043339873953, 0.9930369568861858], \"Term\": [\"ps\", \"ps\", \"\\u0430\\u0434\\u0440\\u0435\\u0441\", \"\\u0430\\u043a\\u0442\\u0438\\u0432\\u0430\\u0446\\u0438\\u044f\", \"\\u0430\\u043a\\u0442\\u0438\\u0432\\u0438\\u0440\\u043e\\u0432\\u0430\\u0442\\u044c\", \"\\u0430\\u043a\\u0446\\u0438\\u044f\", \"\\u0430\\u043b\\u0438\\u044d\\u043a\\u0441\\u043f\\u0440\\u0435\\u0441\\u0441\", \"\\u0430\\u043d\\u0434\\u0440\\u0435\\u0438\", \"\\u0430\\u043d\\u043a\\u0435\\u0442\\u0430\", \"\\u0431\\u0430\\u043b\\u043b\", \"\\u0431\\u0430\\u043d\\u043a\", \"\\u0431\\u0430\\u043d\\u043a\", \"\\u0431\\u0430\\u043d\\u043a\", \"\\u0431\\u0430\\u043d\\u043a\\u0430\", \"\\u0431\\u0430\\u043d\\u043a\\u0430\", \"\\u0431\\u0430\\u043d\\u043a\\u043e\\u043c\\u0430\\u0442\", \"\\u0431\\u0430\\u043d\\u043a\\u044f\", \"\\u0431\\u0435\\u0441\\u0435\\u0434\\u0430\", \"\\u0431\\u0435\\u0441\\u043a\\u043e\\u043d\\u0435\\u0447\\u043d\\u043e\", \"\\u0431\\u0435\\u0441\\u043f\\u043b\\u0430\\u0442\\u043d\\u044b\\u0439\", \"\\u0431\\u0438\\u0437\\u043d\\u0435\\u0441\", \"\\u0431\\u0438\\u043b\\u0435\\u0442\", \"\\u0431\\u043e\\u043b\\u044c\\u0448\\u043e\\u0438\", \"\\u0431\\u043e\\u043b\\u044c\\u0448\\u043e\\u0438\", \"\\u0431\\u043e\\u043d\\u0443\\u0441\", \"\\u0431\\u043e\\u043d\\u0443\\u0441\", \"\\u0431\\u0440\\u0430\\u0442\\u044c\", \"\\u0431\\u0440\\u0430\\u0442\\u044c\", \"\\u0431\\u0440\\u0430\\u0442\\u044c\", \"\\u0431\\u044b\\u0442\\u044c\", \"\\u0431\\u044b\\u0442\\u044c\", \"\\u0431\\u044b\\u0442\\u044c\", \"\\u0431\\u044b\\u0442\\u044c\", \"\\u0432\\u0430\\u0448\", \"\\u0432\\u0430\\u0448\", \"\\u0432\\u0435\\u0436\\u043b\\u0438\\u0432\\u043e\\u0441\\u0442\\u044c\", \"\\u0432\\u0435\\u0436\\u043b\\u0438\\u0432\\u044b\\u0438\", \"\\u0432\\u0435\\u0440\\u043d\\u0443\\u0442\\u044c\", \"\\u0432\\u0435\\u0440\\u043d\\u0443\\u0442\\u044c\", \"\\u0432\\u0435\\u0440\\u043d\\u0443\\u0442\\u044c\\u0441\\u044f\", \"\\u0432\\u0437\\u044f\\u0442\\u044c\", \"\\u0432\\u0437\\u044f\\u0442\\u044c\", \"\\u0432\\u0437\\u044f\\u0442\\u044c\", \"\\u0432\\u0438\\u0434\\u0438\\u043c\\u043e\", \"\\u0432\\u0438\\u043d\\u043e\\u0432\\u0430\\u0442\\u044b\\u0439\", \"\\u0432\\u0438\\u043d\\u043e\\u0432\\u0430\\u0442\\u044b\\u0439\", \"\\u0432\\u043a\\u043b\\u0430\\u0434\", \"\\u0432\\u043a\\u043b\\u0430\\u0434\", \"\\u0432\\u043d\\u0435\\u0441\\u0442\\u0438\", \"\\u0432\\u043d\\u0435\\u0441\\u0442\\u0438\", \"\\u0432\\u043e\\u0437\\u043c\\u043e\\u0436\\u043d\\u043e\\u0441\\u0442\\u044c\", \"\\u0432\\u043e\\u0437\\u043c\\u043e\\u0436\\u043d\\u043e\\u0441\\u0442\\u044c\", \"\\u0432\\u043e\\u043e\\u0431\\u0449\\u0435\", \"\\u0432\\u043e\\u043e\\u0431\\u0449\\u0435\", \"\\u0432\\u043e\\u043e\\u0431\\u0449\\u0435\", \"\\u0432\\u043e\\u043f\\u0440\\u043e\\u0441\", \"\\u0432\\u043e\\u043f\\u0440\\u043e\\u0441\", \"\\u0432\\u0440\\u0435\\u043c\\u044f\", \"\\u0432\\u0440\\u0435\\u043c\\u044f\", \"\\u0432\\u0440\\u0435\\u043c\\u044f\", \"\\u0432\\u0440\\u043e\\u0434\\u0435\", \"\\u0432\\u0440\\u043e\\u0434\\u0435\", \"\\u0432\\u0441\\u0442\\u0440\\u0435\\u0442\\u0438\\u0442\\u044c\\u0441\\u044f\", \"\\u0432\\u0441\\u0442\\u0440\\u0435\\u0447\\u0430\", \"\\u0432\\u0441\\u0442\\u0440\\u0435\\u0447\\u0430\", \"\\u0432\\u0442\\u0431\", \"\\u0432\\u0447\\u0435\\u0440\\u0430\\u0448\\u043d\\u0438\\u0439\", \"\\u0432\\u044b\\u0431\\u0438\\u0432\\u0430\\u0442\\u044c\", \"\\u0432\\u044b\\u043a\\u0443\\u043f\\u0438\\u0442\\u044c\", \"\\u0432\\u044b\\u043f\\u0438\\u0441\\u043a\\u0430\", \"\\u0432\\u044b\\u043f\\u0438\\u0441\\u043a\\u0430\", \"\\u0432\\u044b\\u043f\\u043b\\u0430\\u0447\\u0438\\u0432\\u0430\\u0442\\u044c\", \"\\u0432\\u044b\\u0440\\u0430\\u0432\\u043d\\u044f\\u0442\\u044c\", \"\\u0432\\u044b\\u0441\\u043e\\u0442\\u0430\", \"\\u0433\\u043e\", \"\\u0433\\u043e\\u0432\\u043e\\u0440\\u0438\\u0442\\u044c\", \"\\u0433\\u043e\\u0432\\u043e\\u0440\\u0438\\u0442\\u044c\", \"\\u0433\\u043e\\u0432\\u043e\\u0440\\u0438\\u0442\\u044c\\u0441\\u044f\", \"\\u0433\\u043e\\u0434\", \"\\u0433\\u043e\\u0434\", \"\\u0433\\u043e\\u0434\", \"\\u0433\\u043e\\u0434\", \"\\u0433\\u043e\\u043b\\u043e\\u0434\", \"\\u0434\\u0430\\u043b\\u0451\\u043a\\u0438\\u0439\", \"\\u0434\\u0430\\u043b\\u0451\\u043a\\u0438\\u0439\", \"\\u0434\\u0432\\u0430\", \"\\u0434\\u0435\\u0431\\u0435\\u0442\\u043e\\u0432\\u043e\\u0438\", \"\\u0434\\u0435\\u0431\\u0435\\u0442\\u043e\\u0432\\u043e\\u0438\", \"\\u0434\\u0435\\u0431\\u0435\\u0442\\u043e\\u0432\\u044b\\u0439\", \"\\u0434\\u0435\\u043b\\u043e\", \"\\u0434\\u0435\\u043d\\u044c\", \"\\u0434\\u0435\\u043d\\u044c\", \"\\u0434\\u0435\\u043d\\u044c\", \"\\u0434\\u0435\\u043d\\u044c\\u0433\\u0430\", \"\\u0434\\u0435\\u043d\\u044c\\u0433\\u0430\", \"\\u0434\\u0435\\u043d\\u044c\\u0433\\u0430\", \"\\u0434\\u0435\\u0442\\u0435\\u0438\", \"\\u0434\\u043d\\u0435\\u0438\", \"\\u0434\\u043d\\u0435\\u0438\", \"\\u0434\\u043d\\u0435\\u0438\", \"\\u0434\\u043e\\u0432\\u043e\\u043b\\u044c\\u043d\\u044b\\u0439\", \"\\u0434\\u043e\\u0432\\u043e\\u043b\\u044c\\u043d\\u044b\\u0439\", \"\\u0434\\u043e\\u0433\\u043e\\u0432\\u043e\\u0440\", \"\\u0434\\u043e\\u0433\\u043e\\u0432\\u043e\\u0440\", \"\\u0434\\u043e\\u0433\\u043e\\u0432\\u043e\\u0440\", \"\\u0434\\u043e\\u0433\\u043e\\u0432\\u043e\\u0440\\u0438\\u0442\\u044c\\u0441\\u044f\", \"\\u0434\\u043e\\u0433\\u043e\\u0432\\u043e\\u0440\\u0438\\u0442\\u044c\\u0441\\u044f\", \"\\u0434\\u043e\\u043a\\u0443\\u043c\\u0435\\u043d\\u0442\", \"\\u0434\\u043e\\u043b\\u0433\", \"\\u0434\\u043e\\u043b\\u0436\\u043d\\u044b\\u0439\", \"\\u0434\\u043e\\u043b\\u0436\\u043d\\u044b\\u0439\", \"\\u0434\\u043e\\u043b\\u0436\\u043d\\u044b\\u0439\", \"\\u0434\\u043e\\u043b\\u043b\\u0430\\u0440\", \"\\u0434\\u043e\\u0445\\u043e\\u0434\", \"\\u0434\\u043e\\u0445\\u043e\\u0434\", \"\\u0434\\u0440\\u0443\\u0433\", \"\\u0434\\u0440\\u0443\\u0433\", \"\\u0434\\u0443\\u043c\\u0430\\u0442\\u044c\", \"\\u0434\\u0443\\u043c\\u0430\\u0442\\u044c\", \"\\u0435\\u0436\\u0435\\u043c\\u0435\\u0441\\u044f\\u0447\\u043d\\u044b\\u0439\", \"\\u0436\\u0434\\u0430\\u0442\\u044c\", \"\\u0436\\u0434\\u0430\\u0442\\u044c\", \"\\u0436\\u0438\\u0442\\u044c\", \"\\u0437\\u0430\\u0431\\u044b\\u0432\\u0430\\u0442\\u044c\", \"\\u0437\\u0430\\u0434\\u0430\\u0442\\u044c\", \"\\u0437\\u0430\\u0434\\u043e\\u043b\\u0436\\u0435\\u043d\\u043d\\u043e\\u0441\\u0442\\u044c\", \"\\u0437\\u0430\\u043a\\u0430\\u0437\\u0430\\u0442\\u044c\", \"\\u0437\\u0430\\u043a\\u0440\\u044b\\u0442\\u044c\", \"\\u0437\\u0430\\u043a\\u0440\\u044b\\u0442\\u044c\", \"\\u0437\\u0430\\u043a\\u0440\\u044b\\u0442\\u044c\", \"\\u0437\\u0430\\u043b\\u043e\\u0433\", \"\\u0437\\u0430\\u043f\\u043b\\u0430\\u0442\\u0438\\u0442\\u044c\", \"\\u0437\\u0430\\u043f\\u043b\\u0430\\u0442\\u0438\\u0442\\u044c\", \"\\u0437\\u0430\\u043f\\u043b\\u0430\\u0442\\u0438\\u0442\\u044c\", \"\\u0437\\u0430\\u043f\\u0440\\u0430\\u0448\\u0438\\u0432\\u0430\\u0442\\u044c\", \"\\u0437\\u0430\\u043f\\u0440\\u043e\\u0441\", \"\\u0437\\u0430\\u0445\\u043e\\u0442\\u0435\\u0442\\u044c\", \"\\u0437\\u0430\\u044f\\u0432\\u043a\\u0430\", \"\\u0437\\u0430\\u044f\\u0432\\u043a\\u0430\", \"\\u0437\\u0430\\u0451\\u043c\\u0449\\u0438\\u043a\", \"\\u0437\\u0432\\u043e\\u043d\\u0438\\u0442\\u044c\", \"\\u0437\\u0432\\u043e\\u043d\\u0438\\u0442\\u044c\", \"\\u0437\\u0432\\u043e\\u043d\\u043e\\u043a\", \"\\u0437\\u0432\\u043e\\u043d\\u043e\\u043a\", \"\\u0437\\u043d\\u0430\\u0442\\u044c\", \"\\u0437\\u043d\\u0430\\u0442\\u044c\", \"\\u0438\\u0437\\u043c\\u0435\\u043d\\u0438\\u0442\\u044c\\u0441\\u044f\", \"\\u0438\\u0437\\u043c\\u0435\\u043d\\u0438\\u0442\\u044c\\u0441\\u044f\", \"\\u0438\\u043c\\u0435\\u0442\\u044c\", \"\\u0438\\u043d\\u0442\\u0435\\u0440\\u043d\\u0435\\u0442\", \"\\u0438\\u043d\\u0442\\u0435\\u0440\\u043d\\u0435\\u0442\", \"\\u0438\\u043d\\u0444\\u043e\\u0440\\u043c\\u0430\\u0446\\u0438\\u044f\", \"\\u0438\\u043f\", \"\\u0438\\u0442\\u043e\\u0433\", \"\\u0438\\u0442\\u043e\\u0433\", \"\\u0438\\u0442\\u043e\\u0433\\u0435\", \"\\u043a\\u0430\\u0440\\u0442\\u0430\", \"\\u043a\\u0430\\u0440\\u0442\\u0430\", \"\\u043a\\u0430\\u0440\\u0442\\u0430\", \"\\u043a\\u0430\\u0440\\u0442\\u043e\\u0438\", \"\\u043a\\u0430\\u0440\\u0442\\u043e\\u0438\", \"\\u043a\\u0430\\u0442\\u0435\\u0433\\u043e\\u0440\\u0438\\u044f\", \"\\u043a\\u043b\\u0438\\u0435\\u043d\\u0442\", \"\\u043a\\u043b\\u0438\\u0435\\u043d\\u0442\", \"\\u043a\\u043b\\u0438\\u0435\\u043d\\u0442\", \"\\u043a\\u043e\\u043b\\u043b\\u0435\\u043a\\u0442\\u0438\\u0432\", \"\\u043a\\u043e\\u043c\\u0438\\u0441\\u0441\\u0438\\u044f\", \"\\u043a\\u043e\\u043d\\u0432\\u0435\\u0440\\u0442\", \"\\u043a\\u043e\\u043d\\u0441\\u0443\\u043b\\u044c\\u0442\\u0430\\u043d\\u0442\", \"\\u043a\\u0440\\u0435\\u0434\\u0438\\u0442\", \"\\u043a\\u0440\\u0435\\u0434\\u0438\\u0442\", \"\\u043a\\u0440\\u0435\\u0434\\u0438\\u0442\\u043a\\u0430\", \"\\u043a\\u0440\\u0435\\u0434\\u0438\\u0442\\u043a\\u0430\", \"\\u043a\\u0440\\u0435\\u0434\\u0438\\u0442\\u043d\\u043e\\u0438\", \"\\u043a\\u0440\\u0435\\u0434\\u0438\\u0442\\u043d\\u043e\\u0438\", \"\\u043a\\u0440\\u0435\\u0434\\u0438\\u0442\\u0443\", \"\\u043a\\u0441\\u0442\\u0430\\u0442\\u0438\", \"\\u043a\\u0443\\u0440\\u044c\\u0435\\u0440\", \"\\u043a\\u044d\\u0448\\u0431\\u044d\\u043a\", \"\\u043b\\u0430\\u0434\\u043d\\u043e\", \"\\u043b\\u0435\\u0433\\u043a\\u043e\", \"\\u043b\\u0438\\u043c\\u0438\\u0442\", \"\\u043b\\u0438\\u043c\\u0438\\u0442\", \"\\u043b\\u0438\\u043d\\u0438\\u044f\", \"\\u043b\\u0438\\u0446\\u0435\\u043d\\u0437\\u0438\\u044f\", \"\\u043b\\u0438\\u0446\\u043e\", \"\\u043b\\u044e\\u0431\\u043e\\u0438\", \"\\u043b\\u044e\\u0431\\u043e\\u0438\", \"\\u043b\\u044e\\u0431\\u043e\\u0439\", \"\\u043b\\u044e\\u0431\\u043e\\u0439\", \"\\u043c\\u0430\\u043a\\u0441\\u0438\\u043c\\u0430\\u043b\\u044c\\u043d\\u043e\", \"\\u043c\\u0435\\u043d\\u0435\\u0434\\u0436\\u0435\\u0440\", \"\\u043c\\u0435\\u0441\\u044f\\u0446\", \"\\u043c\\u0435\\u0441\\u044f\\u0446\", \"\\u043c\\u0435\\u0441\\u044f\\u0446\", \"\\u043c\\u0435\\u0441\\u044f\\u0446\", \"\\u043c\\u0438\\u043b\\u044f\", \"\\u043c\\u0438\\u043d\\u0443\\u0441\", \"\\u043c\\u043d\\u043e\\u0438\", \"\\u043c\\u043e\\u0431\\u0430\\u0438\\u043b\", \"\\u043c\\u043e\\u0435\\u0438\", \"\\u043c\\u043e\\u0439\", \"\\u043c\\u043e\\u0439\", \"\\u043c\\u043e\\u0447\\u044c\", \"\\u043c\\u043e\\u0447\\u044c\", \"\\u043d\\u0430\\u0432\\u0435\\u0440\\u043d\\u043e\", \"\\u043d\\u0430\\u0432\\u0441\\u0442\\u0440\\u0435\\u0447\\u0443\", \"\\u043d\\u0430\\u0432\\u044f\\u0437\\u044b\\u0432\\u0430\\u0442\\u044c\", \"\\u043d\\u0430\\u0433\\u043b\\u044b\\u0439\", \"\\u043d\\u0430\\u0437\\u0432\\u0430\\u0442\\u044c\", \"\\u043d\\u0430\\u0437\\u043d\\u0430\\u0447\\u0438\\u0442\\u044c\", \"\\u043d\\u0430\\u0437\\u043d\\u0430\\u0447\\u0438\\u0442\\u044c\", \"\\u043d\\u0430\\u0437\\u044b\\u0432\\u0430\\u0442\\u044c\", \"\\u043d\\u0430\\u043b\\u0438\\u0447\\u043d\\u044b\\u0439\", \"\\u043d\\u0430\\u043f\\u043e\\u043c\\u0438\\u043d\\u0430\\u0442\\u044c\", \"\\u043d\\u0430\\u0447\\u0438\\u0441\\u043b\\u0435\\u043d\\u0438\\u0435\", \"\\u043d\\u0430\\u0447\\u0438\\u0441\\u043b\\u044f\\u0442\\u044c\", \"\\u043d\\u0430\\u0448\", \"\\u043d\\u0435\\u043e\\u0431\\u0445\\u043e\\u0434\\u0438\\u043c\\u044b\\u0439\", \"\\u043d\\u0438\\u043a\\u0442\\u043e\", \"\\u043d\\u0438\\u043a\\u0442\\u043e\", \"\\u043d\\u043e\\u043c\\u0435\\u0440\", \"\\u043d\\u043e\\u043c\\u0435\\u0440\", \"\\u043d\\u043e\\u0440\\u043c\\u0430\\u043b\\u044c\\u043d\\u043e\", \"\\u043d\\u043e\\u044f\\u0431\\u0440\\u044c\", \"\\u043d\\u0440\\u0430\\u0432\\u0438\\u0442\\u044c\\u0441\\u044f\", \"\\u043d\\u0443\\u0436\\u043d\\u044b\\u0439\", \"\\u043d\\u0443\\u0436\\u043d\\u044b\\u0439\", \"\\u043d\\u0443\\u0436\\u043d\\u044b\\u0439\", \"\\u043e\\u0431\\u0440\\u0430\\u0442\\u0438\\u0442\\u044c\\u0441\\u044f\", \"\\u043e\\u0431\\u0440\\u0430\\u0449\\u0435\\u043d\\u0438\\u0435\", \"\\u043e\\u0431\\u0441\\u043b\\u0443\\u0436\\u0438\\u0432\\u0430\\u043d\\u0438\\u0435\", \"\\u043e\\u0431\\u0441\\u043b\\u0443\\u0436\\u0438\\u0432\\u0430\\u043d\\u0438\\u0435\", \"\\u043e\\u0431\\u0449\\u0435\\u043d\\u0438\\u0435\", \"\\u043e\\u0431\\u044a\\u044f\\u0441\\u043d\\u0438\\u0442\\u044c\", \"\\u043e\\u0434\\u043d\\u043e\\u0437\\u043d\\u0430\\u0447\\u043d\\u043e\", \"\\u043e\\u0434\\u043e\\u0431\\u0440\\u0438\\u0442\\u044c\", \"\\u043e\\u0434\\u043e\\u0431\\u0440\\u0438\\u0442\\u044c\", \"\\u043e\\u0437\\u0432\\u0443\\u0447\\u0438\\u0442\\u044c\", \"\\u043e\\u043d\\u043b\\u0430\\u0438\\u043d\", \"\\u043e\\u043f\\u043b\\u0430\\u0442\\u0438\\u0442\\u044c\", \"\\u043e\\u043f\\u043b\\u0430\\u0442\\u0438\\u0442\\u044c\", \"\\u043e\\u043f\\u043b\\u0430\\u0442\\u0438\\u0442\\u044c\", \"\\u043e\\u0441\\u0442\\u0430\\u0442\\u043e\\u043a\", \"\\u043e\\u0441\\u0442\\u0430\\u0442\\u043e\\u043a\", \"\\u043e\\u0441\\u0442\\u0430\\u0442\\u043e\\u043a\", \"\\u043e\\u0442\\u0432\\u0435\\u0442\", \"\\u043e\\u0442\\u0432\\u0435\\u0442\", \"\\u043e\\u0442\\u043b\\u0438\\u0447\\u043d\\u044b\\u0438\", \"\\u043e\\u0442\\u043b\\u0438\\u0447\\u043d\\u044b\\u0439\", \"\\u043e\\u0442\\u043c\\u0435\\u043d\\u0438\\u0442\\u044c\", \"\\u043e\\u0442\\u043f\\u0440\\u0430\\u0432\\u0438\\u0442\\u044c\", \"\\u043e\\u0442\\u0440\\u0430\\u0431\\u043e\\u0442\\u0430\\u0442\\u044c\", \"\\u043e\\u0447\\u0435\\u043d\\u044c\", \"\\u043e\\u0447\\u0435\\u043d\\u044c\", \"\\u043f\\u0435\\u0440\\u0435\\u0432\\u043e\\u0434\", \"\\u043f\\u0435\\u0440\\u0435\\u0432\\u043e\\u0434\", \"\\u043f\\u0435\\u0440\\u0435\\u0432\\u043e\\u0434\", \"\\u043f\\u0435\\u0440\\u0435\\u043f\\u043b\\u0430\\u0442\\u0430\", \"\\u043f\\u0435\\u0440\\u0435\\u0440\\u0430\\u0441\\u0447\\u0451\\u0442\", \"\\u043f\\u0438\\u0441\\u044c\\u043c\\u043e\", \"\\u043f\\u043b\\u0430\\u0442\\u0438\\u0442\\u044c\", \"\\u043f\\u043b\\u0430\\u0442\\u0438\\u0442\\u044c\", \"\\u043f\\u043b\\u0430\\u0442\\u0438\\u0442\\u044c\", \"\\u043f\\u043b\\u0430\\u0442\\u0451\\u0436\", \"\\u043f\\u043b\\u0430\\u0442\\u0451\\u0436\", \"\\u043f\\u043b\\u0430\\u0442\\u0451\\u0436\", \"\\u043f\\u043b\\u044e\\u0441\", \"\\u043f\\u043e\\u0431\\u043b\\u0430\\u0433\\u043e\\u0434\\u0430\\u0440\\u0438\\u0442\\u044c\", \"\\u043f\\u043e\\u0433\\u0430\\u0441\\u0438\\u0442\\u044c\", \"\\u043f\\u043e\\u0433\\u0430\\u0448\\u0435\\u043d\\u0438\\u0435\", \"\\u043f\\u043e\\u0434\\u0434\\u0435\\u0440\\u0436\\u043a\\u0430\", \"\\u043f\\u043e\\u0434\\u0434\\u0435\\u0440\\u0436\\u043a\\u0430\", \"\\u043f\\u043e\\u0434\\u043f\\u0438\\u0441\\u0430\\u0442\\u044c\", \"\\u043f\\u043e\\u0434\\u043f\\u0438\\u0441\\u0430\\u0442\\u044c\", \"\\u043f\\u043e\\u0437\\u0432\\u043e\\u043d\\u0438\\u0442\\u044c\", \"\\u043f\\u043e\\u0437\\u0432\\u043e\\u043d\\u0438\\u0442\\u044c\", \"\\u043f\\u043e\\u0437\\u0432\\u043e\\u043d\\u0438\\u0442\\u044c\", \"\\u043f\\u043e\\u0437\\u0434\\u0440\\u0430\\u0432\\u043b\\u044f\\u0442\\u044c\", \"\\u043f\\u043e\\u043a\\u0430\\u0437\\u0430\\u0442\\u044c\", \"\\u043f\\u043e\\u043a\\u0443\\u043f\\u0430\\u0442\\u0435\\u043b\\u044c\", \"\\u043f\\u043e\\u043a\\u0443\\u043f\\u043a\\u0430\", \"\\u043f\\u043e\\u043a\\u0443\\u043f\\u043a\\u0430\", \"\\u043f\\u043e\\u043b\\u043e\\u0436\\u0438\\u0442\\u0435\\u043b\\u044c\\u043d\\u044b\\u0439\", \"\\u043f\\u043e\\u043b\\u043e\\u0436\\u0438\\u0442\\u044c\", \"\\u043f\\u043e\\u043b\\u0443\\u0447\\u0438\\u0442\\u044c\", \"\\u043f\\u043e\\u043b\\u0443\\u0447\\u0438\\u0442\\u044c\", \"\\u043f\\u043e\\u043b\\u0443\\u0447\\u0438\\u0442\\u044c\", \"\\u043f\\u043e\\u043b\\u044c\\u0437\\u043e\\u0432\\u0430\\u0442\\u044c\\u0441\\u044f\", \"\\u043f\\u043e\\u043b\\u044c\\u0437\\u043e\\u0432\\u0430\\u0442\\u044c\\u0441\\u044f\", \"\\u043f\\u043e\\u043b\\u044c\\u0437\\u043e\\u0432\\u0430\\u0442\\u044c\\u0441\\u044f\", \"\\u043f\\u043e\\u043c\\u043e\\u0447\\u044c\", \"\\u043f\\u043e\\u043c\\u043e\\u0449\\u044c\", \"\\u043f\\u043e\\u043f\\u043e\\u043b\\u043d\\u0435\\u043d\\u0438\\u0435\", \"\\u043f\\u043e\\u0441\\u043c\\u043e\\u0442\\u0440\\u0435\\u0442\\u044c\", \"\\u043f\\u043e\\u0447\\u0435\\u043c\\u0443\", \"\\u043f\\u043e\\u0447\\u0435\\u043c\\u0443\", \"\\u043f\\u043e\\u0447\\u0435\\u043c\\u0443\", \"\\u043f\\u0440\\u0430\\u0432\\u0434\\u0430\", \"\\u043f\\u0440\\u0435\\u0434\\u043e\\u0441\\u0442\\u0430\\u0432\\u0438\\u0442\\u044c\", \"\\u043f\\u0440\\u0435\\u0434\\u043f\\u0440\\u0438\\u044f\\u0442\\u0438\\u0435\", \"\\u043f\\u0440\\u0435\\u0434\\u0441\\u0442\\u0430\\u0432\\u0438\\u0442\\u0435\\u043b\\u044c\", \"\\u043f\\u0440\\u0435\\u0434\\u0441\\u0442\\u0430\\u0432\\u0438\\u0442\\u0435\\u043b\\u044c\", \"\\u043f\\u0440\\u0435\\u0434\\u0441\\u0442\\u0430\\u0432\\u0438\\u0442\\u0435\\u043b\\u044c\", \"\\u043f\\u0440\\u0438\\u0432\\u0435\\u0437\\u0442\\u0438\", \"\\u043f\\u0440\\u0438\\u0435\\u0445\\u0430\\u0442\\u044c\", \"\\u043f\\u0440\\u0438\\u0435\\u0445\\u0430\\u0442\\u044c\", \"\\u043f\\u0440\\u0438\\u0435\\u0445\\u0430\\u0442\\u044c\", \"\\u043f\\u0440\\u0438\\u043b\\u043e\\u0436\\u0435\\u043d\\u0438\\u0435\", \"\\u043f\\u0440\\u043e\\u0431\\u043b\\u0435\\u043c\\u0430\", \"\\u043f\\u0440\\u043e\\u0431\\u043b\\u0435\\u043c\\u0430\", \"\\u043f\\u0440\\u043e\\u0431\\u043b\\u0435\\u043c\\u0430\", \"\\u043f\\u0440\\u043e\\u0441\\u0438\\u0442\\u044c\", \"\\u043f\\u0440\\u043e\\u0441\\u0438\\u0442\\u044c\", \"\\u043f\\u0440\\u043e\\u0441\\u0440\\u043e\\u0447\\u043a\\u0430\", \"\\u043f\\u0440\\u043e\\u0441\\u0442\\u043e\", \"\\u043f\\u0440\\u043e\\u0441\\u0442\\u043e\", \"\\u043f\\u0440\\u043e\\u0441\\u0442\\u043e\", \"\\u043f\\u0440\\u043e\\u0444\\u0435\\u0441\\u0441\\u0438\\u043e\\u043d\\u0430\\u043b\", \"\\u043f\\u0440\\u043e\\u0446\\u0435\\u043d\\u0442\", \"\\u043f\\u0440\\u043e\\u0446\\u0435\\u043d\\u0442\", \"\\u043f\\u0440\\u043e\\u0446\\u0435\\u043d\\u0442\", \"\\u043f\\u0440\\u044f\\u043c\", \"\\u0440\\u0430\\u0431\\u043e\\u0442\\u0430\", \"\\u0440\\u0430\\u0431\\u043e\\u0442\\u0430\", \"\\u0440\\u0430\\u0431\\u043e\\u0442\\u0430\\u0442\\u044c\", \"\\u0440\\u0430\\u0431\\u043e\\u0442\\u0430\\u0442\\u044c\", \"\\u0440\\u0430\\u0437\\u043e\\u0447\\u0430\\u0440\\u043e\\u0432\\u0430\\u0442\\u044c\", \"\\u0440\\u0430\\u0437\\u0443\", \"\\u0440\\u0430\\u0438\\u043e\\u043d\\u0435\", \"\\u0440\\u0430\\u0441\\u0441\\u0440\\u043e\\u0447\\u043a\\u0430\", \"\\u0440\\u0430\\u0441\\u0447\\u0451\\u0442\", \"\\u0440\\u0435\\u0433\\u0438\\u0441\\u0442\\u0440\\u0430\\u0446\\u0438\\u044f\", \"\\u0440\\u0435\\u043a\\u043b\\u0430\\u043c\\u0430\", \"\\u0440\\u0435\\u0448\\u0435\\u043d\\u0438\\u0435\", \"\\u0440\\u0435\\u0448\\u0435\\u043d\\u0438\\u0435\", \"\\u0440\\u0435\\u0448\\u0438\\u0442\\u044c\", \"\\u0440\\u0435\\u0448\\u0438\\u0442\\u044c\", \"\\u0440\\u0435\\u0448\\u0438\\u0442\\u044c\", \"\\u0440\\u0443\\u0431\", \"\\u0440\\u0443\\u0431\", \"\\u0440\\u0443\\u0431\\u043b\\u0435\\u0438\", \"\\u0440\\u0443\\u0431\\u043b\\u0435\\u0438\", \"\\u0440\\u0443\\u0431\\u043b\\u0435\\u0438\", \"\\u0441\\u0430\\u043c\\u044b\\u043c\", \"\\u0441\\u0432\\u043e\\u0439\", \"\\u0441\\u0432\\u043e\\u0439\", \"\\u0441\\u0432\\u043e\\u0439\", \"\\u0441\\u0432\\u044f\\u0437\\u044c\", \"\\u0441\\u0435\\u0438\\u0447\\u0430\\u0441\", \"\\u0441\\u0435\\u0438\\u0447\\u0430\\u0441\", \"\\u0441\\u0435\\u0438\\u0447\\u0430\\u0441\", \"\\u0441\\u0435\\u0440\\u0432\\u0438\\u0441\", \"\\u0441\\u0435\\u0440\\u0432\\u0438\\u0441\", \"\\u0441\\u0438\\u0434\\u0435\\u0442\\u044c\", \"\\u0441\\u0438\\u0442\\u0443\\u0430\\u0446\\u0438\\u044f\", \"\\u0441\\u0438\\u0442\\u0443\\u0430\\u0446\\u0438\\u044f\", \"\\u0441\\u043a\\u0430\\u0437\\u0430\\u0442\\u044c\", \"\\u0441\\u043a\\u0430\\u0437\\u0430\\u0442\\u044c\", \"\\u0441\\u043a\\u0430\\u0437\\u0430\\u0442\\u044c\", \"\\u0441\\u043b\\u0443\\u0447\\u0438\\u0442\\u044c\\u0441\\u044f\", \"\\u0441\\u043c\\u043e\\u0447\\u044c\", \"\\u0441\\u043c\\u043e\\u0447\\u044c\", \"\\u0441\\u043c\\u0441\", \"\\u0441\\u043c\\u0441\", \"\\u0441\\u043c\\u0441\", \"\\u0441\\u043d\\u0430\\u0447\\u0430\\u043b\\u0430\", \"\\u0441\\u043d\\u0438\\u043c\\u0430\\u0442\\u044c\", \"\\u0441\\u043d\\u044f\\u0442\\u0438\\u0435\", \"\\u0441\\u043e\\u0442\\u0440\\u0443\\u0434\\u043d\\u0438\\u043a\", \"\\u0441\\u043f\\u0430\\u0441\\u0438\\u0431\\u043e\", \"\\u0441\\u043f\\u0435\\u0446\\u0438\\u0430\\u043b\\u0438\\u0441\\u0442\", \"\\u0441\\u043f\\u0438\\u0441\\u0430\\u0442\\u044c\", \"\\u0441\\u043f\\u0438\\u0441\\u0430\\u0442\\u044c\", \"\\u0441\\u043f\\u0438\\u0441\\u0430\\u0442\\u044c\", \"\\u0441\\u043f\\u0438\\u0441\\u0430\\u0442\\u044c\\u0441\\u044f\", \"\\u0441\\u043f\\u0440\\u0430\\u0432\\u043a\\u0430\", \"\\u0441\\u043f\\u0440\\u0430\\u0448\\u0438\\u0432\\u0430\\u0442\\u044c\", \"\\u0441\\u043f\\u0440\\u0430\\u0448\\u0438\\u0432\\u0430\\u0442\\u044c\", \"\\u0441\\u043f\\u0440\\u0430\\u0448\\u0438\\u0432\\u0430\\u0442\\u044c\", \"\\u0441\\u043f\\u0440\\u043e\\u0441\\u0438\\u0442\\u044c\", \"\\u0441\\u043f\\u0440\\u043e\\u0441\\u0438\\u0442\\u044c\", \"\\u0441\\u0440\\u0430\\u0432\\u043d\\u0438\\u0432\\u0430\\u0442\\u044c\", \"\\u0441\\u0440\\u043e\\u043a\", \"\\u0441\\u0442\\u043e\\u0440\\u043e\\u043d\\u0430\", \"\\u0441\\u0442\\u0440\\u0430\\u0445\\u043e\\u0432\\u0430\\u043d\\u0438\\u0435\", \"\\u0441\\u0442\\u0440\\u0430\\u0445\\u043e\\u0432\\u043a\\u0430\", \"\\u0441\\u0442\\u0440\\u0430\\u0445\\u043e\\u0432\\u043a\\u0430\", \"\\u0441\\u0443\\u043c\\u043c\\u0430\", \"\\u0441\\u0443\\u043c\\u043c\\u0430\", \"\\u0441\\u0443\\u043c\\u043c\\u0430\", \"\\u0441\\u0443\\u043c\\u043c\\u0430\", \"\\u0441\\u0447\\u0451\\u0442\", \"\\u0441\\u0447\\u0451\\u0442\", \"\\u0442\\u0430\\u043a\\u043e\\u0439\", \"\\u0442\\u0430\\u043a\\u043e\\u0439\", \"\\u0442\\u0430\\u043a\\u043e\\u0439\", \"\\u0442\\u0430\\u0440\\u0438\\u0444\", \"\\u0442\\u0430\\u0440\\u0438\\u0444\", \"\\u0442\\u0430\\u0440\\u0438\\u0444\", \"\\u0442\\u0431\", \"\\u0442\\u0435\\u043b\\u0435\\u0444\\u043e\\u043d\", \"\\u0442\\u0435\\u043b\\u0435\\u0444\\u043e\\u043d\", \"\\u0442\\u0435\\u0440\\u043c\\u0438\\u043d\\u0430\\u043b\", \"\\u0442\\u0435\\u0440\\u043f\\u0435\\u043b\\u0438\\u0432\\u044b\\u0439\", \"\\u0442\\u0438\\u043d\\u044c\\u043a\\u043e\\u0432\\u0430\", \"\\u0442\\u0438\\u043d\\u044c\\u043a\\u043e\\u0444\\u0444\", \"\\u0442\\u0438\\u043d\\u044c\\u043a\\u043e\\u0444\\u0444\", \"\\u0442\\u0438\\u043d\\u044c\\u043a\\u043e\\u0444\\u0444\", \"\\u0442\\u0438\\u043d\\u044c\\u043a\\u043e\\u0444\\u0444\\u0430\", \"\\u0442\\u0440\", \"\\u0442\\u044b\\u0441\", \"\\u0443\\u0432\\u0435\\u043b\\u0438\\u0447\\u0438\\u0442\\u044c\", \"\\u0443\\u0432\\u0435\\u0440\\u0435\\u043d\\u043d\\u043e\\u0441\\u0442\\u044c\", \"\\u0443\\u0433\\u0440\\u043e\\u0437\\u0430\", \"\\u0443\\u0434\\u0435\\u0440\\u0436\\u0438\\u0432\\u0430\\u0442\\u044c\", \"\\u0443\\u0434\\u043e\\u0431\\u043d\\u043e\", \"\\u0443\\u0434\\u043e\\u0431\\u043d\\u044b\\u0438\", \"\\u0443\\u0434\\u043e\\u0431\\u043d\\u044b\\u0439\", \"\\u0443\\u0439\\u0442\\u0438\", \"\\u0443\\u0441\\u043b\\u043e\\u0432\\u0438\\u0435\", \"\\u0443\\u0441\\u043b\\u043e\\u0432\\u0438\\u0435\", \"\\u0443\\u0441\\u043b\\u043e\\u0432\\u0438\\u0435\", \"\\u0443\\u0441\\u043b\\u0443\\u0433\\u0430\", \"\\u0443\\u0441\\u043b\\u0443\\u0433\\u0430\", \"\\u0443\\u0441\\u043b\\u0443\\u0433\\u0430\", \"\\u0445\\u043e\\u0440\\u043e\\u0448\\u0438\\u0438\", \"\\u0445\\u043e\\u0440\\u043e\\u0448\\u0438\\u0439\", \"\\u0445\\u043e\\u0440\\u043e\\u0448\\u0438\\u0439\", \"\\u0446\\u0435\\u043b\\u043e\\u043c\", \"\\u0447\\u0435\\u043b\\u043e\\u0432\\u0435\\u043a\", \"\\u0447\\u0435\\u043b\\u043e\\u0432\\u0435\\u043a\", \"\\u0447\\u0435\\u043b\\u043e\\u0432\\u0435\\u043a\", \"\\u0447\\u0438\\u0442\\u0430\\u0438\\u0442\\u0435\", \"\\u0447\\u0438\\u0442\\u0430\\u0442\\u044c\", \"\\u0447\\u0442\\u043e\\u0442\\u043e\", \"\\u0448\\u0442\\u0440\\u0430\\u0444\", \"\\u044d\\u0442\\u043e\", \"\\u044d\\u0442\\u043e\", \"\\u044d\\u0442\\u043e\", \"\\u044f\\u0432\\u043b\\u044f\\u0442\\u044c\\u0441\\u044f\", \"\\u044f\\u043d\\u0432\\u0430\\u0440\\u044c\"]}, \"R\": 30, \"lambda.step\": 0.01, \"plot.opts\": {\"xlab\": \"PC1\", \"ylab\": \"PC2\"}, \"topic.order\": [4, 8, 6, 1, 3, 5, 7, 2]};\n",
              "\n",
              "function LDAvis_load_lib(url, callback){\n",
              "  var s = document.createElement('script');\n",
              "  s.src = url;\n",
              "  s.async = true;\n",
              "  s.onreadystatechange = s.onload = callback;\n",
              "  s.onerror = function(){console.warn(\"failed to load library \" + url);};\n",
              "  document.getElementsByTagName(\"head\")[0].appendChild(s);\n",
              "}\n",
              "\n",
              "if(typeof(LDAvis) !== \"undefined\"){\n",
              "   // already loaded: just create the visualization\n",
              "   !function(LDAvis){\n",
              "       new LDAvis(\"#\" + \"ldavis_el120161350324539703207252854531\", ldavis_el120161350324539703207252854531_data);\n",
              "   }(LDAvis);\n",
              "}else if(typeof define === \"function\" && define.amd){\n",
              "   // require.js is available: use it to load d3/LDAvis\n",
              "   require.config({paths: {d3: \"https://d3js.org/d3.v5\"}});\n",
              "   require([\"d3\"], function(d3){\n",
              "      window.d3 = d3;\n",
              "      LDAvis_load_lib(\"https://cdn.jsdelivr.net/gh/bmabey/pyLDAvis@3.4.0/pyLDAvis/js/ldavis.v3.0.0.js\", function(){\n",
              "        new LDAvis(\"#\" + \"ldavis_el120161350324539703207252854531\", ldavis_el120161350324539703207252854531_data);\n",
              "      });\n",
              "    });\n",
              "}else{\n",
              "    // require.js not available: dynamically load d3 & LDAvis\n",
              "    LDAvis_load_lib(\"https://d3js.org/d3.v5.js\", function(){\n",
              "         LDAvis_load_lib(\"https://cdn.jsdelivr.net/gh/bmabey/pyLDAvis@3.4.0/pyLDAvis/js/ldavis.v3.0.0.js\", function(){\n",
              "                 new LDAvis(\"#\" + \"ldavis_el120161350324539703207252854531\", ldavis_el120161350324539703207252854531_data);\n",
              "            })\n",
              "         });\n",
              "}\n",
              "</script>"
            ]
          },
          "metadata": {},
          "execution_count": 26
        }
      ]
    },
    {
      "cell_type": "markdown",
      "source": [
        "### Связаны ли темы отзывовов и поле “Score” в данных? Обоснуйте."
      ],
      "metadata": {
        "id": "x-hz-hX81hjP"
      }
    },
    {
      "cell_type": "markdown",
      "source": [
        "Вряд ли есть рпямая связь, так как в 1 теме, например, содержатся часто употребляемые слова в отзывах, например, слова \"банк\" или \"сотрудник\". Эти слова могут присутствовать как в положительном отзыве, так и в отрицательном.\n",
        "\n",
        "Как видно из приведенных ниже таблиц, как в положительных, так и в отрицательных отзывах есть приведенные в пример слова"
      ],
      "metadata": {
        "id": "x9eGdyKkMcEG"
      }
    },
    {
      "cell_type": "code",
      "source": [
        "positive_reviews = data_bank_lemma[(data_bank_lemma['score'] == '4') | (data_bank_lemma['score'] == '5')]\n",
        "negative_reviews = data_bank_lemma[(data_bank_lemma['score'] == '1') | (data_bank_lemma['score'] == '2')]"
      ],
      "metadata": {
        "colab": {
          "base_uri": "https://localhost:8080/"
        },
        "id": "Y1jdyF83LS9H",
        "outputId": "d8d109c8-088a-4b7e-9126-72d854574af5"
      },
      "execution_count": null,
      "outputs": [
        {
          "output_type": "stream",
          "name": "stderr",
          "text": [
            "/usr/local/lib/python3.10/dist-packages/ipykernel/ipkernel.py:283: DeprecationWarning: `should_run_async` will not call `transform_cell` automatically in the future. Please pass the result to `transformed_cell` argument and any exception that happen during thetransform in `preprocessing_exc_tuple` in IPython 7.17 and above.\n",
            "  and should_run_async(code)\n"
          ]
        }
      ]
    },
    {
      "cell_type": "code",
      "source": [
        "positive_reviews.head(5)"
      ],
      "metadata": {
        "colab": {
          "base_uri": "https://localhost:8080/",
          "height": 261
        },
        "id": "zow_WJQzNJTf",
        "outputId": "01a20e07-abce-406e-d163-230297902f10"
      },
      "execution_count": null,
      "outputs": [
        {
          "output_type": "stream",
          "name": "stderr",
          "text": [
            "/usr/local/lib/python3.10/dist-packages/ipykernel/ipkernel.py:283: DeprecationWarning: `should_run_async` will not call `transform_cell` automatically in the future. Please pass the result to `transformed_cell` argument and any exception that happen during thetransform in `preprocessing_exc_tuple` in IPython 7.17 and above.\n",
            "  and should_run_async(code)\n"
          ]
        },
        {
          "output_type": "execute_result",
          "data": {
            "text/plain": [
              "                          bank_href             login  \\\n",
              "6204  /services/responses/bank/tcs/          Vicky-13   \n",
              "6205  /services/responses/bank/tcs/              loly   \n",
              "6206  /services/responses/bank/tcs/        9032489257   \n",
              "6208  /services/responses/bank/tcs/  b*******@mail.ru   \n",
              "6210  /services/responses/bank/tcs/        маманаташа   \n",
              "\n",
              "                                                 review      bank_name  \\\n",
              "6204  \\n\\t\\tУ меня счет ИП в этом банке. несколько д...  тинькофф банк   \n",
              "6205  \\n\\t\\tПользуюсь банком достаточно давно. Как к...  тинькофф банк   \n",
              "6206  \\n\\t\\tЯвляюсь клиентом банка как ИП и физ. лиц...  тинькофф банк   \n",
              "6208  \\n\\t\\tОбщалась дважды  со специалистом банка Е...  тинькофф банк   \n",
              "6210  \\n\\t\\tПользуюсь кредитной картой. Баланс на не...  тинькофф банк   \n",
              "\n",
              "                 site              date message_href score        status  \\\n",
              "6204  http://banki.ru  05.02.2019 18:13          NaN     5   Проверяется   \n",
              "6205  http://banki.ru  05.02.2019 18:09          NaN     5   Проверяется   \n",
              "6206  http://banki.ru  22.01.2019 13:58          NaN     5  Не засчитана   \n",
              "6208  http://banki.ru  12.02.2019 12:21          NaN     5  Не засчитана   \n",
              "6210  http://banki.ru  12.02.2019 12:27          NaN     5  Не засчитана   \n",
              "\n",
              "                  user_href  \n",
              "6204   /profile/?UID=230777  \n",
              "6205   /profile/?UID=125397  \n",
              "6206  /profile/?UID=1579990  \n",
              "6208  /profile/?UID=1687279  \n",
              "6210  /profile/?UID=1687260  "
            ],
            "text/html": [
              "\n",
              "  <div id=\"df-dc8bde77-9164-44ba-ad96-52db782f285f\" class=\"colab-df-container\">\n",
              "    <div>\n",
              "<style scoped>\n",
              "    .dataframe tbody tr th:only-of-type {\n",
              "        vertical-align: middle;\n",
              "    }\n",
              "\n",
              "    .dataframe tbody tr th {\n",
              "        vertical-align: top;\n",
              "    }\n",
              "\n",
              "    .dataframe thead th {\n",
              "        text-align: right;\n",
              "    }\n",
              "</style>\n",
              "<table border=\"1\" class=\"dataframe\">\n",
              "  <thead>\n",
              "    <tr style=\"text-align: right;\">\n",
              "      <th></th>\n",
              "      <th>bank_href</th>\n",
              "      <th>login</th>\n",
              "      <th>review</th>\n",
              "      <th>bank_name</th>\n",
              "      <th>site</th>\n",
              "      <th>date</th>\n",
              "      <th>message_href</th>\n",
              "      <th>score</th>\n",
              "      <th>status</th>\n",
              "      <th>user_href</th>\n",
              "    </tr>\n",
              "  </thead>\n",
              "  <tbody>\n",
              "    <tr>\n",
              "      <th>6204</th>\n",
              "      <td>/services/responses/bank/tcs/</td>\n",
              "      <td>Vicky-13</td>\n",
              "      <td>\\n\\t\\tУ меня счет ИП в этом банке. несколько д...</td>\n",
              "      <td>тинькофф банк</td>\n",
              "      <td>http://banki.ru</td>\n",
              "      <td>05.02.2019 18:13</td>\n",
              "      <td>NaN</td>\n",
              "      <td>5</td>\n",
              "      <td>Проверяется</td>\n",
              "      <td>/profile/?UID=230777</td>\n",
              "    </tr>\n",
              "    <tr>\n",
              "      <th>6205</th>\n",
              "      <td>/services/responses/bank/tcs/</td>\n",
              "      <td>loly</td>\n",
              "      <td>\\n\\t\\tПользуюсь банком достаточно давно. Как к...</td>\n",
              "      <td>тинькофф банк</td>\n",
              "      <td>http://banki.ru</td>\n",
              "      <td>05.02.2019 18:09</td>\n",
              "      <td>NaN</td>\n",
              "      <td>5</td>\n",
              "      <td>Проверяется</td>\n",
              "      <td>/profile/?UID=125397</td>\n",
              "    </tr>\n",
              "    <tr>\n",
              "      <th>6206</th>\n",
              "      <td>/services/responses/bank/tcs/</td>\n",
              "      <td>9032489257</td>\n",
              "      <td>\\n\\t\\tЯвляюсь клиентом банка как ИП и физ. лиц...</td>\n",
              "      <td>тинькофф банк</td>\n",
              "      <td>http://banki.ru</td>\n",
              "      <td>22.01.2019 13:58</td>\n",
              "      <td>NaN</td>\n",
              "      <td>5</td>\n",
              "      <td>Не засчитана</td>\n",
              "      <td>/profile/?UID=1579990</td>\n",
              "    </tr>\n",
              "    <tr>\n",
              "      <th>6208</th>\n",
              "      <td>/services/responses/bank/tcs/</td>\n",
              "      <td>b*******@mail.ru</td>\n",
              "      <td>\\n\\t\\tОбщалась дважды  со специалистом банка Е...</td>\n",
              "      <td>тинькофф банк</td>\n",
              "      <td>http://banki.ru</td>\n",
              "      <td>12.02.2019 12:21</td>\n",
              "      <td>NaN</td>\n",
              "      <td>5</td>\n",
              "      <td>Не засчитана</td>\n",
              "      <td>/profile/?UID=1687279</td>\n",
              "    </tr>\n",
              "    <tr>\n",
              "      <th>6210</th>\n",
              "      <td>/services/responses/bank/tcs/</td>\n",
              "      <td>маманаташа</td>\n",
              "      <td>\\n\\t\\tПользуюсь кредитной картой. Баланс на не...</td>\n",
              "      <td>тинькофф банк</td>\n",
              "      <td>http://banki.ru</td>\n",
              "      <td>12.02.2019 12:27</td>\n",
              "      <td>NaN</td>\n",
              "      <td>5</td>\n",
              "      <td>Не засчитана</td>\n",
              "      <td>/profile/?UID=1687260</td>\n",
              "    </tr>\n",
              "  </tbody>\n",
              "</table>\n",
              "</div>\n",
              "    <div class=\"colab-df-buttons\">\n",
              "\n",
              "  <div class=\"colab-df-container\">\n",
              "    <button class=\"colab-df-convert\" onclick=\"convertToInteractive('df-dc8bde77-9164-44ba-ad96-52db782f285f')\"\n",
              "            title=\"Convert this dataframe to an interactive table.\"\n",
              "            style=\"display:none;\">\n",
              "\n",
              "  <svg xmlns=\"http://www.w3.org/2000/svg\" height=\"24px\" viewBox=\"0 -960 960 960\">\n",
              "    <path d=\"M120-120v-720h720v720H120Zm60-500h600v-160H180v160Zm220 220h160v-160H400v160Zm0 220h160v-160H400v160ZM180-400h160v-160H180v160Zm440 0h160v-160H620v160ZM180-180h160v-160H180v160Zm440 0h160v-160H620v160Z\"/>\n",
              "  </svg>\n",
              "    </button>\n",
              "\n",
              "  <style>\n",
              "    .colab-df-container {\n",
              "      display:flex;\n",
              "      gap: 12px;\n",
              "    }\n",
              "\n",
              "    .colab-df-convert {\n",
              "      background-color: #E8F0FE;\n",
              "      border: none;\n",
              "      border-radius: 50%;\n",
              "      cursor: pointer;\n",
              "      display: none;\n",
              "      fill: #1967D2;\n",
              "      height: 32px;\n",
              "      padding: 0 0 0 0;\n",
              "      width: 32px;\n",
              "    }\n",
              "\n",
              "    .colab-df-convert:hover {\n",
              "      background-color: #E2EBFA;\n",
              "      box-shadow: 0px 1px 2px rgba(60, 64, 67, 0.3), 0px 1px 3px 1px rgba(60, 64, 67, 0.15);\n",
              "      fill: #174EA6;\n",
              "    }\n",
              "\n",
              "    .colab-df-buttons div {\n",
              "      margin-bottom: 4px;\n",
              "    }\n",
              "\n",
              "    [theme=dark] .colab-df-convert {\n",
              "      background-color: #3B4455;\n",
              "      fill: #D2E3FC;\n",
              "    }\n",
              "\n",
              "    [theme=dark] .colab-df-convert:hover {\n",
              "      background-color: #434B5C;\n",
              "      box-shadow: 0px 1px 3px 1px rgba(0, 0, 0, 0.15);\n",
              "      filter: drop-shadow(0px 1px 2px rgba(0, 0, 0, 0.3));\n",
              "      fill: #FFFFFF;\n",
              "    }\n",
              "  </style>\n",
              "\n",
              "    <script>\n",
              "      const buttonEl =\n",
              "        document.querySelector('#df-dc8bde77-9164-44ba-ad96-52db782f285f button.colab-df-convert');\n",
              "      buttonEl.style.display =\n",
              "        google.colab.kernel.accessAllowed ? 'block' : 'none';\n",
              "\n",
              "      async function convertToInteractive(key) {\n",
              "        const element = document.querySelector('#df-dc8bde77-9164-44ba-ad96-52db782f285f');\n",
              "        const dataTable =\n",
              "          await google.colab.kernel.invokeFunction('convertToInteractive',\n",
              "                                                    [key], {});\n",
              "        if (!dataTable) return;\n",
              "\n",
              "        const docLinkHtml = 'Like what you see? Visit the ' +\n",
              "          '<a target=\"_blank\" href=https://colab.research.google.com/notebooks/data_table.ipynb>data table notebook</a>'\n",
              "          + ' to learn more about interactive tables.';\n",
              "        element.innerHTML = '';\n",
              "        dataTable['output_type'] = 'display_data';\n",
              "        await google.colab.output.renderOutput(dataTable, element);\n",
              "        const docLink = document.createElement('div');\n",
              "        docLink.innerHTML = docLinkHtml;\n",
              "        element.appendChild(docLink);\n",
              "      }\n",
              "    </script>\n",
              "  </div>\n",
              "\n",
              "\n",
              "<div id=\"df-77141d2a-015e-42d5-8e4e-c1512bc409d7\">\n",
              "  <button class=\"colab-df-quickchart\" onclick=\"quickchart('df-77141d2a-015e-42d5-8e4e-c1512bc409d7')\"\n",
              "            title=\"Suggest charts\"\n",
              "            style=\"display:none;\">\n",
              "\n",
              "<svg xmlns=\"http://www.w3.org/2000/svg\" height=\"24px\"viewBox=\"0 0 24 24\"\n",
              "     width=\"24px\">\n",
              "    <g>\n",
              "        <path d=\"M19 3H5c-1.1 0-2 .9-2 2v14c0 1.1.9 2 2 2h14c1.1 0 2-.9 2-2V5c0-1.1-.9-2-2-2zM9 17H7v-7h2v7zm4 0h-2V7h2v10zm4 0h-2v-4h2v4z\"/>\n",
              "    </g>\n",
              "</svg>\n",
              "  </button>\n",
              "\n",
              "<style>\n",
              "  .colab-df-quickchart {\n",
              "      --bg-color: #E8F0FE;\n",
              "      --fill-color: #1967D2;\n",
              "      --hover-bg-color: #E2EBFA;\n",
              "      --hover-fill-color: #174EA6;\n",
              "      --disabled-fill-color: #AAA;\n",
              "      --disabled-bg-color: #DDD;\n",
              "  }\n",
              "\n",
              "  [theme=dark] .colab-df-quickchart {\n",
              "      --bg-color: #3B4455;\n",
              "      --fill-color: #D2E3FC;\n",
              "      --hover-bg-color: #434B5C;\n",
              "      --hover-fill-color: #FFFFFF;\n",
              "      --disabled-bg-color: #3B4455;\n",
              "      --disabled-fill-color: #666;\n",
              "  }\n",
              "\n",
              "  .colab-df-quickchart {\n",
              "    background-color: var(--bg-color);\n",
              "    border: none;\n",
              "    border-radius: 50%;\n",
              "    cursor: pointer;\n",
              "    display: none;\n",
              "    fill: var(--fill-color);\n",
              "    height: 32px;\n",
              "    padding: 0;\n",
              "    width: 32px;\n",
              "  }\n",
              "\n",
              "  .colab-df-quickchart:hover {\n",
              "    background-color: var(--hover-bg-color);\n",
              "    box-shadow: 0 1px 2px rgba(60, 64, 67, 0.3), 0 1px 3px 1px rgba(60, 64, 67, 0.15);\n",
              "    fill: var(--button-hover-fill-color);\n",
              "  }\n",
              "\n",
              "  .colab-df-quickchart-complete:disabled,\n",
              "  .colab-df-quickchart-complete:disabled:hover {\n",
              "    background-color: var(--disabled-bg-color);\n",
              "    fill: var(--disabled-fill-color);\n",
              "    box-shadow: none;\n",
              "  }\n",
              "\n",
              "  .colab-df-spinner {\n",
              "    border: 2px solid var(--fill-color);\n",
              "    border-color: transparent;\n",
              "    border-bottom-color: var(--fill-color);\n",
              "    animation:\n",
              "      spin 1s steps(1) infinite;\n",
              "  }\n",
              "\n",
              "  @keyframes spin {\n",
              "    0% {\n",
              "      border-color: transparent;\n",
              "      border-bottom-color: var(--fill-color);\n",
              "      border-left-color: var(--fill-color);\n",
              "    }\n",
              "    20% {\n",
              "      border-color: transparent;\n",
              "      border-left-color: var(--fill-color);\n",
              "      border-top-color: var(--fill-color);\n",
              "    }\n",
              "    30% {\n",
              "      border-color: transparent;\n",
              "      border-left-color: var(--fill-color);\n",
              "      border-top-color: var(--fill-color);\n",
              "      border-right-color: var(--fill-color);\n",
              "    }\n",
              "    40% {\n",
              "      border-color: transparent;\n",
              "      border-right-color: var(--fill-color);\n",
              "      border-top-color: var(--fill-color);\n",
              "    }\n",
              "    60% {\n",
              "      border-color: transparent;\n",
              "      border-right-color: var(--fill-color);\n",
              "    }\n",
              "    80% {\n",
              "      border-color: transparent;\n",
              "      border-right-color: var(--fill-color);\n",
              "      border-bottom-color: var(--fill-color);\n",
              "    }\n",
              "    90% {\n",
              "      border-color: transparent;\n",
              "      border-bottom-color: var(--fill-color);\n",
              "    }\n",
              "  }\n",
              "</style>\n",
              "\n",
              "  <script>\n",
              "    async function quickchart(key) {\n",
              "      const quickchartButtonEl =\n",
              "        document.querySelector('#' + key + ' button');\n",
              "      quickchartButtonEl.disabled = true;  // To prevent multiple clicks.\n",
              "      quickchartButtonEl.classList.add('colab-df-spinner');\n",
              "      try {\n",
              "        const charts = await google.colab.kernel.invokeFunction(\n",
              "            'suggestCharts', [key], {});\n",
              "      } catch (error) {\n",
              "        console.error('Error during call to suggestCharts:', error);\n",
              "      }\n",
              "      quickchartButtonEl.classList.remove('colab-df-spinner');\n",
              "      quickchartButtonEl.classList.add('colab-df-quickchart-complete');\n",
              "    }\n",
              "    (() => {\n",
              "      let quickchartButtonEl =\n",
              "        document.querySelector('#df-77141d2a-015e-42d5-8e4e-c1512bc409d7 button');\n",
              "      quickchartButtonEl.style.display =\n",
              "        google.colab.kernel.accessAllowed ? 'block' : 'none';\n",
              "    })();\n",
              "  </script>\n",
              "</div>\n",
              "    </div>\n",
              "  </div>\n"
            ],
            "application/vnd.google.colaboratory.intrinsic+json": {
              "type": "dataframe",
              "variable_name": "positive_reviews",
              "summary": "{\n  \"name\": \"positive_reviews\",\n  \"rows\": 765,\n  \"fields\": [\n    {\n      \"column\": \"bank_href\",\n      \"properties\": {\n        \"dtype\": \"category\",\n        \"num_unique_values\": 2,\n        \"samples\": [\n          \"/bank/tinkoff-bank/\",\n          \"/services/responses/bank/tcs/\"\n        ],\n        \"semantic_type\": \"\",\n        \"description\": \"\"\n      }\n    },\n    {\n      \"column\": \"login\",\n      \"properties\": {\n        \"dtype\": \"string\",\n        \"num_unique_values\": 661,\n        \"samples\": [\n          \"\\u0412\\u0438\\u043a\\u0442\\u043e\\u0440\\u0438\\u044f, \",\n          \"gudkoff.dmitrij2014\"\n        ],\n        \"semantic_type\": \"\",\n        \"description\": \"\"\n      }\n    },\n    {\n      \"column\": \"review\",\n      \"properties\": {\n        \"dtype\": \"string\",\n        \"num_unique_values\": 765,\n        \"samples\": [\n          \"\\n\\t\\t07.01.2019 \\u043f\\u043e\\u043b\\u0443\\u0447\\u0438\\u043b \\u043a\\u0430\\u0440\\u0442\\u0443 \\u0447\\u0435\\u0440\\u0435\\u0437 \\u043f\\u0440\\u0435\\u0434\\u0441\\u0442\\u0430\\u0432\\u0438\\u0442\\u0435\\u043b\\u044f \\u0424\\u0430\\u0440\\u0445\\u0443\\u0442\\u0434\\u0438\\u043d\\u043e\\u0432\\u0443 \\u0410\\u043d\\u0430\\u0441\\u0442\\u0430\\u0441\\u0438\\u044e. \\u0411\\u043b\\u0430\\u0433\\u043e\\u0434\\u0430\\u0440\\u044f \\u0435\\u0439 \\u0442\\u043e\\u043b\\u044c\\u043a\\u043e \\u044f \\u043f\\u043e\\u043d\\u044f\\u043b \\u043a\\u0430\\u043a\\u043e\\u0439 \\u043a\\u0440\\u0443\\u0442\\u043e\\u0439 \\u0422\\u0438\\u043d\\u044c\\u043a\\u043e\\u0444\\u0444 \\u0411\\u0430\\u043d\\u043a, \\u0432\\u0441\\u0435 \\u043f\\u043e\\u0434\\u0440\\u043e\\u0431\\u043d\\u043e \\u043e\\u0431\\u044c\\u044f\\u0441\\u043d\\u0438\\u043b\\u0430 \\u0438 \\u043f\\u043e\\u043a\\u0430\\u0437\\u0430\\u043b\\u0430 \\u043a\\u0430\\u043a \\u043f\\u043e\\u043b\\u044c\\u0437\\u043e\\u0432\\u0430\\u0442\\u044c\\u0441\\u044f \\u043c\\u043e\\u0431\\u0438\\u043b\\u044c\\u043d\\u044b\\u043c \\u043f\\u0440\\u0438\\u043b\\u043e\\u0436\\u0435\\u043d\\u0438\\u0435\\u043c. \\u041f\\u0440\\u0438\\u043b\\u043e\\u0436\\u0435\\u043d\\u0438\\u0435 \\u043a\\u0440\\u0443\\u0447\\u0435 \\u0432 1000 \\u0440\\u0430\\u0437 \\u0447\\u0435\\u043c \\u0432 \\u0434\\u0440\\u0443\\u0433\\u0438\\u0445 \\u0431\\u0430\\u043d\\u043a\\u0430\\u0445.\\u00a0 \\u0432\\u0441\\u0435 \\u043b\\u0435\\u0433\\u043a\\u043e, \\u0434\\u043e\\u0441\\u0442\\u0443\\u043f\\u043d\\u043e \\u0438 \\u0443\\u0434\\u043e\\u0431\\u043d\\u043e. \\u0442\\u0435\\u0435\\u043f\\u0435\\u0440\\u044c \\u043f\\u043e\\u043b\\u044c\\u0437\\u0443\\u044e\\u0441\\u044c \\u0422\\u0438\\u043d\\u044c\\u043a\\u043e\\u0444\\u0444 \\u0432\\u043c\\u0435\\u0441\\u0442\\u043e \\u0421\\u0431\\u0435\\u0440\\u0431\\u0430\\u043d\\u043a\\u0430. \\u0421\\u043f\\u0430\\u0441\\u0438\\u0431\\u043e.\\n\\t\",\n          \"\\n\\t\\t\\u0425\\u043e\\u0440\\u043e\\u0448\\u0438\\u0439 \\u0431\\u0430\\u043d\\u043a. \\u041e\\u0442\\u043b\\u0438\\u0447\\u043d\\u043e\\u0435 \\u043e\\u0431\\u0441\\u043b\\u0443\\u0436\\u0438\\u0432\\u0430\\u043d\\u0438\\u0435. \\u041d\\u0435\\u0442 \\u043f\\u0440\\u043e\\u0431\\u043b\\u0435\\u043c \\u0441\\u0432\\u044f\\u0437\\u0430\\u0442\\u044c\\u0441\\u044f \\u0441 \\u043f\\u0440\\u0435\\u0434\\u0441\\u0442\\u0430\\u0432\\u0438\\u0442\\u0435\\u043b\\u044f\\u043c\\u0438 \\u0431\\u0430\\u043d\\u043a\\u0430 \\u0438 \\u043f\\u043e\\u043b\\u0443\\u0447\\u0438\\u0442\\u044c \\u0438\\u0441\\u0447\\u0435\\u0440\\u043f\\u044b\\u0432\\u0430\\u044e\\u0449\\u0438\\u0439 \\u043e\\u0442\\u0432\\u0435\\u0442 \\u043d\\u0430 \\u0432\\u0441\\u0435 \\u0432\\u043e\\u043f\\u0440\\u043e\\u0441\\u044b.\\u00a0 \\u041d\\u0440\\u0430\\u0432\\u0438\\u0442\\u044c\\u0441\\u044f \\u0422\\u0438\\u043d\\u044c\\u043a\\u043e\\u0444\\u0444-\\u0436\\u0443\\u0440\\u043d\\u0430\\u043b \\u0441 \\u0440\\u0430\\u0437\\u043b\\u0438\\u0447\\u043d\\u044b\\u043c\\u0438 \\u044e\\u0440\\u0438\\u0434\\u0438\\u0447\\u0435\\u0441\\u043a\\u0438\\u043c\\u0438 \\u0440\\u0430\\u0437\\u044a\\u044f\\u0441\\u043d\\u0435\\u043d\\u0438\\u044f\\u043c\\u0438 \\u0438 \\u043a\\u043e\\u043c\\u043c\\u0435\\u043d\\u0442\\u0430\\u0440\\u0438\\u044f\\u043c\\u0438. \\u041f\\u043e\\u043b\\u044c\\u0437\\u0443\\u044e\\u0441\\u044c \\u0442\\u043e\\u043b\\u044c\\u043a\\u043e \\u0434\\u0435\\u0431\\u0435\\u0442\\u043e\\u0432\\u043e\\u0439 \\u043a\\u0430\\u0440\\u0442\\u043e\\u0439 \\u0438 \\u043e\\u0447\\u0435\\u043d\\u044c \\u0434\\u043e\\u0432\\u043e\\u043b\\u044c\\u043d\\u0430, \\u0447\\u0442\\u043e \\u0431\\u0430\\u043d\\u043a \\u043d\\u0435 \\u043d\\u0430\\u0432\\u044f\\u0437\\u044b\\u0432\\u0430\\u0435\\u0442 \\u043a\\u0440\\u0435\\u0434\\u0438\\u0442\\u043d\\u044b\\u0445 \\u043a\\u0430\\u0440\\u0442. \\u041d\\u0435\\u043a\\u043e\\u0442\\u043e\\u0440\\u044b\\u0435 \\u0431\\u0430\\u043d\\u043a\\u0438 \\u0448\\u043b\\u044e\\u0442 \\u0421\\u041c\\u0421 \\u0438 \\u0437\\u0432\\u043e\\u043d\\u044f\\u0442 \\u0441 \\u0440\\u0435\\u0433\\u0443\\u043b\\u044f\\u0440\\u043d\\u043e\\u0439 \\u043f\\u0435\\u0440\\u0438\\u043e\\u0434\\u0438\\u0447\\u043d\\u043e\\u0441\\u0442\\u044c\\u044e, \\u0447\\u0435\\u043c \\u0447\\u0440\\u0435\\u0437\\u0432\\u044b\\u0447\\u0430\\u0439\\u043d\\u043e \\u0440\\u0430\\u0437\\u0434\\u0440\\u0430\\u0436\\u0430\\u044e\\u0442. \\u0420\\u0435\\u043a\\u043e\\u043c\\u0435\\u043d\\u0434\\u0443\\u044e \\u0434\\u0440\\u0443\\u0437\\u044c\\u044f\\u043c.\\n\\t\"\n        ],\n        \"semantic_type\": \"\",\n        \"description\": \"\"\n      }\n    },\n    {\n      \"column\": \"bank_name\",\n      \"properties\": {\n        \"dtype\": \"category\",\n        \"num_unique_values\": 1,\n        \"samples\": [\n          \"\\u0442\\u0438\\u043d\\u044c\\u043a\\u043e\\u0444\\u0444 \\u0431\\u0430\\u043d\\u043a\"\n        ],\n        \"semantic_type\": \"\",\n        \"description\": \"\"\n      }\n    },\n    {\n      \"column\": \"site\",\n      \"properties\": {\n        \"dtype\": \"category\",\n        \"num_unique_values\": 2,\n        \"samples\": [\n          \"https://www.sravni.ru\"\n        ],\n        \"semantic_type\": \"\",\n        \"description\": \"\"\n      }\n    },\n    {\n      \"column\": \"date\",\n      \"properties\": {\n        \"dtype\": \"string\",\n        \"num_unique_values\": 750,\n        \"samples\": [\n          \"10.01.2019 15:29\"\n        ],\n        \"semantic_type\": \"\",\n        \"description\": \"\"\n      }\n    },\n    {\n      \"column\": \"message_href\",\n      \"properties\": {\n        \"dtype\": \"category\",\n        \"num_unique_values\": 139,\n        \"samples\": [\n          \"/bank/tinkoff-bank/otzyv/222517/?page\"\n        ],\n        \"semantic_type\": \"\",\n        \"description\": \"\"\n      }\n    },\n    {\n      \"column\": \"score\",\n      \"properties\": {\n        \"dtype\": \"category\",\n        \"num_unique_values\": 2,\n        \"samples\": [\n          \"4\"\n        ],\n        \"semantic_type\": \"\",\n        \"description\": \"\"\n      }\n    },\n    {\n      \"column\": \"status\",\n      \"properties\": {\n        \"dtype\": \"category\",\n        \"num_unique_values\": 45,\n        \"samples\": [\n          \"=message_href =/services/responses/bank/response/10224911/\"\n        ],\n        \"semantic_type\": \"\",\n        \"description\": \"\"\n      }\n    },\n    {\n      \"column\": \"user_href\",\n      \"properties\": {\n        \"dtype\": \"string\",\n        \"num_unique_values\": 621,\n        \"samples\": [\n          \"/profile/?UID=1558809\"\n        ],\n        \"semantic_type\": \"\",\n        \"description\": \"\"\n      }\n    }\n  ]\n}"
            }
          },
          "metadata": {},
          "execution_count": 39
        }
      ]
    },
    {
      "cell_type": "code",
      "source": [
        "negative_reviews.head()"
      ],
      "metadata": {
        "colab": {
          "base_uri": "https://localhost:8080/",
          "height": 261
        },
        "id": "cvZR_nu1NKRQ",
        "outputId": "f323ce71-e4f4-481f-d78b-2d3ad79f555b"
      },
      "execution_count": null,
      "outputs": [
        {
          "output_type": "stream",
          "name": "stderr",
          "text": [
            "/usr/local/lib/python3.10/dist-packages/ipykernel/ipkernel.py:283: DeprecationWarning: `should_run_async` will not call `transform_cell` automatically in the future. Please pass the result to `transformed_cell` argument and any exception that happen during thetransform in `preprocessing_exc_tuple` in IPython 7.17 and above.\n",
            "  and should_run_async(code)\n"
          ]
        },
        {
          "output_type": "execute_result",
          "data": {
            "text/plain": [
              "                          bank_href             login  \\\n",
              "6215  /services/responses/bank/tcs/         Galina_11   \n",
              "6230  /services/responses/bank/tcs/         koval7874   \n",
              "6234  /services/responses/bank/tcs/  9*******@mail.ru   \n",
              "6244  /services/responses/bank/tcs/            Neplim   \n",
              "6254  /services/responses/bank/tcs/  n*******@mail.ru   \n",
              "\n",
              "                                                 review      bank_name  \\\n",
              "6215  \\n\\t\\tОбратилась в банк за кредитом под залог ...  тинькофф банк   \n",
              "6230  \\n\\t\\tОбслуживаюсь в АО \"Тинькофф Банк\", как И...  тинькофф банк   \n",
              "6234  \\n\\t\\tБанк произвел безакцептное списание с де...  тинькофф банк   \n",
              "6244  \\n\\t\\tДоброго дня, подавал заявку на автокреди...  тинькофф банк   \n",
              "6254  \\n\\t\\tМне пришел стандартный штраф из Голланди...  тинькофф банк   \n",
              "\n",
              "                 site              date message_href score       status  \\\n",
              "6215  http://banki.ru  08.02.2019 13:15          NaN     2  Проверяется   \n",
              "6230  http://banki.ru  07.02.2019 19:24          NaN     1  Проверяется   \n",
              "6234  http://banki.ru  11.02.2019 18:10          NaN     1  Проверяется   \n",
              "6244  http://banki.ru   17.01.2019 2:36          NaN     1  Проверяется   \n",
              "6254  http://banki.ru  14.01.2019 20:45          NaN     1  Проверяется   \n",
              "\n",
              "                  user_href  \n",
              "6215  /profile/?UID=1654898  \n",
              "6230  /profile/?UID=1663867  \n",
              "6234  /profile/?UID=1684153  \n",
              "6244  /profile/?UID=1031685  \n",
              "6254  /profile/?UID=1542747  "
            ],
            "text/html": [
              "\n",
              "  <div id=\"df-5fe00c47-24bd-4b4a-8420-095063e1ab94\" class=\"colab-df-container\">\n",
              "    <div>\n",
              "<style scoped>\n",
              "    .dataframe tbody tr th:only-of-type {\n",
              "        vertical-align: middle;\n",
              "    }\n",
              "\n",
              "    .dataframe tbody tr th {\n",
              "        vertical-align: top;\n",
              "    }\n",
              "\n",
              "    .dataframe thead th {\n",
              "        text-align: right;\n",
              "    }\n",
              "</style>\n",
              "<table border=\"1\" class=\"dataframe\">\n",
              "  <thead>\n",
              "    <tr style=\"text-align: right;\">\n",
              "      <th></th>\n",
              "      <th>bank_href</th>\n",
              "      <th>login</th>\n",
              "      <th>review</th>\n",
              "      <th>bank_name</th>\n",
              "      <th>site</th>\n",
              "      <th>date</th>\n",
              "      <th>message_href</th>\n",
              "      <th>score</th>\n",
              "      <th>status</th>\n",
              "      <th>user_href</th>\n",
              "    </tr>\n",
              "  </thead>\n",
              "  <tbody>\n",
              "    <tr>\n",
              "      <th>6215</th>\n",
              "      <td>/services/responses/bank/tcs/</td>\n",
              "      <td>Galina_11</td>\n",
              "      <td>\\n\\t\\tОбратилась в банк за кредитом под залог ...</td>\n",
              "      <td>тинькофф банк</td>\n",
              "      <td>http://banki.ru</td>\n",
              "      <td>08.02.2019 13:15</td>\n",
              "      <td>NaN</td>\n",
              "      <td>2</td>\n",
              "      <td>Проверяется</td>\n",
              "      <td>/profile/?UID=1654898</td>\n",
              "    </tr>\n",
              "    <tr>\n",
              "      <th>6230</th>\n",
              "      <td>/services/responses/bank/tcs/</td>\n",
              "      <td>koval7874</td>\n",
              "      <td>\\n\\t\\tОбслуживаюсь в АО \"Тинькофф Банк\", как И...</td>\n",
              "      <td>тинькофф банк</td>\n",
              "      <td>http://banki.ru</td>\n",
              "      <td>07.02.2019 19:24</td>\n",
              "      <td>NaN</td>\n",
              "      <td>1</td>\n",
              "      <td>Проверяется</td>\n",
              "      <td>/profile/?UID=1663867</td>\n",
              "    </tr>\n",
              "    <tr>\n",
              "      <th>6234</th>\n",
              "      <td>/services/responses/bank/tcs/</td>\n",
              "      <td>9*******@mail.ru</td>\n",
              "      <td>\\n\\t\\tБанк произвел безакцептное списание с де...</td>\n",
              "      <td>тинькофф банк</td>\n",
              "      <td>http://banki.ru</td>\n",
              "      <td>11.02.2019 18:10</td>\n",
              "      <td>NaN</td>\n",
              "      <td>1</td>\n",
              "      <td>Проверяется</td>\n",
              "      <td>/profile/?UID=1684153</td>\n",
              "    </tr>\n",
              "    <tr>\n",
              "      <th>6244</th>\n",
              "      <td>/services/responses/bank/tcs/</td>\n",
              "      <td>Neplim</td>\n",
              "      <td>\\n\\t\\tДоброго дня, подавал заявку на автокреди...</td>\n",
              "      <td>тинькофф банк</td>\n",
              "      <td>http://banki.ru</td>\n",
              "      <td>17.01.2019 2:36</td>\n",
              "      <td>NaN</td>\n",
              "      <td>1</td>\n",
              "      <td>Проверяется</td>\n",
              "      <td>/profile/?UID=1031685</td>\n",
              "    </tr>\n",
              "    <tr>\n",
              "      <th>6254</th>\n",
              "      <td>/services/responses/bank/tcs/</td>\n",
              "      <td>n*******@mail.ru</td>\n",
              "      <td>\\n\\t\\tМне пришел стандартный штраф из Голланди...</td>\n",
              "      <td>тинькофф банк</td>\n",
              "      <td>http://banki.ru</td>\n",
              "      <td>14.01.2019 20:45</td>\n",
              "      <td>NaN</td>\n",
              "      <td>1</td>\n",
              "      <td>Проверяется</td>\n",
              "      <td>/profile/?UID=1542747</td>\n",
              "    </tr>\n",
              "  </tbody>\n",
              "</table>\n",
              "</div>\n",
              "    <div class=\"colab-df-buttons\">\n",
              "\n",
              "  <div class=\"colab-df-container\">\n",
              "    <button class=\"colab-df-convert\" onclick=\"convertToInteractive('df-5fe00c47-24bd-4b4a-8420-095063e1ab94')\"\n",
              "            title=\"Convert this dataframe to an interactive table.\"\n",
              "            style=\"display:none;\">\n",
              "\n",
              "  <svg xmlns=\"http://www.w3.org/2000/svg\" height=\"24px\" viewBox=\"0 -960 960 960\">\n",
              "    <path d=\"M120-120v-720h720v720H120Zm60-500h600v-160H180v160Zm220 220h160v-160H400v160Zm0 220h160v-160H400v160ZM180-400h160v-160H180v160Zm440 0h160v-160H620v160ZM180-180h160v-160H180v160Zm440 0h160v-160H620v160Z\"/>\n",
              "  </svg>\n",
              "    </button>\n",
              "\n",
              "  <style>\n",
              "    .colab-df-container {\n",
              "      display:flex;\n",
              "      gap: 12px;\n",
              "    }\n",
              "\n",
              "    .colab-df-convert {\n",
              "      background-color: #E8F0FE;\n",
              "      border: none;\n",
              "      border-radius: 50%;\n",
              "      cursor: pointer;\n",
              "      display: none;\n",
              "      fill: #1967D2;\n",
              "      height: 32px;\n",
              "      padding: 0 0 0 0;\n",
              "      width: 32px;\n",
              "    }\n",
              "\n",
              "    .colab-df-convert:hover {\n",
              "      background-color: #E2EBFA;\n",
              "      box-shadow: 0px 1px 2px rgba(60, 64, 67, 0.3), 0px 1px 3px 1px rgba(60, 64, 67, 0.15);\n",
              "      fill: #174EA6;\n",
              "    }\n",
              "\n",
              "    .colab-df-buttons div {\n",
              "      margin-bottom: 4px;\n",
              "    }\n",
              "\n",
              "    [theme=dark] .colab-df-convert {\n",
              "      background-color: #3B4455;\n",
              "      fill: #D2E3FC;\n",
              "    }\n",
              "\n",
              "    [theme=dark] .colab-df-convert:hover {\n",
              "      background-color: #434B5C;\n",
              "      box-shadow: 0px 1px 3px 1px rgba(0, 0, 0, 0.15);\n",
              "      filter: drop-shadow(0px 1px 2px rgba(0, 0, 0, 0.3));\n",
              "      fill: #FFFFFF;\n",
              "    }\n",
              "  </style>\n",
              "\n",
              "    <script>\n",
              "      const buttonEl =\n",
              "        document.querySelector('#df-5fe00c47-24bd-4b4a-8420-095063e1ab94 button.colab-df-convert');\n",
              "      buttonEl.style.display =\n",
              "        google.colab.kernel.accessAllowed ? 'block' : 'none';\n",
              "\n",
              "      async function convertToInteractive(key) {\n",
              "        const element = document.querySelector('#df-5fe00c47-24bd-4b4a-8420-095063e1ab94');\n",
              "        const dataTable =\n",
              "          await google.colab.kernel.invokeFunction('convertToInteractive',\n",
              "                                                    [key], {});\n",
              "        if (!dataTable) return;\n",
              "\n",
              "        const docLinkHtml = 'Like what you see? Visit the ' +\n",
              "          '<a target=\"_blank\" href=https://colab.research.google.com/notebooks/data_table.ipynb>data table notebook</a>'\n",
              "          + ' to learn more about interactive tables.';\n",
              "        element.innerHTML = '';\n",
              "        dataTable['output_type'] = 'display_data';\n",
              "        await google.colab.output.renderOutput(dataTable, element);\n",
              "        const docLink = document.createElement('div');\n",
              "        docLink.innerHTML = docLinkHtml;\n",
              "        element.appendChild(docLink);\n",
              "      }\n",
              "    </script>\n",
              "  </div>\n",
              "\n",
              "\n",
              "<div id=\"df-5cbef374-66f4-47bc-85cc-52428c668d19\">\n",
              "  <button class=\"colab-df-quickchart\" onclick=\"quickchart('df-5cbef374-66f4-47bc-85cc-52428c668d19')\"\n",
              "            title=\"Suggest charts\"\n",
              "            style=\"display:none;\">\n",
              "\n",
              "<svg xmlns=\"http://www.w3.org/2000/svg\" height=\"24px\"viewBox=\"0 0 24 24\"\n",
              "     width=\"24px\">\n",
              "    <g>\n",
              "        <path d=\"M19 3H5c-1.1 0-2 .9-2 2v14c0 1.1.9 2 2 2h14c1.1 0 2-.9 2-2V5c0-1.1-.9-2-2-2zM9 17H7v-7h2v7zm4 0h-2V7h2v10zm4 0h-2v-4h2v4z\"/>\n",
              "    </g>\n",
              "</svg>\n",
              "  </button>\n",
              "\n",
              "<style>\n",
              "  .colab-df-quickchart {\n",
              "      --bg-color: #E8F0FE;\n",
              "      --fill-color: #1967D2;\n",
              "      --hover-bg-color: #E2EBFA;\n",
              "      --hover-fill-color: #174EA6;\n",
              "      --disabled-fill-color: #AAA;\n",
              "      --disabled-bg-color: #DDD;\n",
              "  }\n",
              "\n",
              "  [theme=dark] .colab-df-quickchart {\n",
              "      --bg-color: #3B4455;\n",
              "      --fill-color: #D2E3FC;\n",
              "      --hover-bg-color: #434B5C;\n",
              "      --hover-fill-color: #FFFFFF;\n",
              "      --disabled-bg-color: #3B4455;\n",
              "      --disabled-fill-color: #666;\n",
              "  }\n",
              "\n",
              "  .colab-df-quickchart {\n",
              "    background-color: var(--bg-color);\n",
              "    border: none;\n",
              "    border-radius: 50%;\n",
              "    cursor: pointer;\n",
              "    display: none;\n",
              "    fill: var(--fill-color);\n",
              "    height: 32px;\n",
              "    padding: 0;\n",
              "    width: 32px;\n",
              "  }\n",
              "\n",
              "  .colab-df-quickchart:hover {\n",
              "    background-color: var(--hover-bg-color);\n",
              "    box-shadow: 0 1px 2px rgba(60, 64, 67, 0.3), 0 1px 3px 1px rgba(60, 64, 67, 0.15);\n",
              "    fill: var(--button-hover-fill-color);\n",
              "  }\n",
              "\n",
              "  .colab-df-quickchart-complete:disabled,\n",
              "  .colab-df-quickchart-complete:disabled:hover {\n",
              "    background-color: var(--disabled-bg-color);\n",
              "    fill: var(--disabled-fill-color);\n",
              "    box-shadow: none;\n",
              "  }\n",
              "\n",
              "  .colab-df-spinner {\n",
              "    border: 2px solid var(--fill-color);\n",
              "    border-color: transparent;\n",
              "    border-bottom-color: var(--fill-color);\n",
              "    animation:\n",
              "      spin 1s steps(1) infinite;\n",
              "  }\n",
              "\n",
              "  @keyframes spin {\n",
              "    0% {\n",
              "      border-color: transparent;\n",
              "      border-bottom-color: var(--fill-color);\n",
              "      border-left-color: var(--fill-color);\n",
              "    }\n",
              "    20% {\n",
              "      border-color: transparent;\n",
              "      border-left-color: var(--fill-color);\n",
              "      border-top-color: var(--fill-color);\n",
              "    }\n",
              "    30% {\n",
              "      border-color: transparent;\n",
              "      border-left-color: var(--fill-color);\n",
              "      border-top-color: var(--fill-color);\n",
              "      border-right-color: var(--fill-color);\n",
              "    }\n",
              "    40% {\n",
              "      border-color: transparent;\n",
              "      border-right-color: var(--fill-color);\n",
              "      border-top-color: var(--fill-color);\n",
              "    }\n",
              "    60% {\n",
              "      border-color: transparent;\n",
              "      border-right-color: var(--fill-color);\n",
              "    }\n",
              "    80% {\n",
              "      border-color: transparent;\n",
              "      border-right-color: var(--fill-color);\n",
              "      border-bottom-color: var(--fill-color);\n",
              "    }\n",
              "    90% {\n",
              "      border-color: transparent;\n",
              "      border-bottom-color: var(--fill-color);\n",
              "    }\n",
              "  }\n",
              "</style>\n",
              "\n",
              "  <script>\n",
              "    async function quickchart(key) {\n",
              "      const quickchartButtonEl =\n",
              "        document.querySelector('#' + key + ' button');\n",
              "      quickchartButtonEl.disabled = true;  // To prevent multiple clicks.\n",
              "      quickchartButtonEl.classList.add('colab-df-spinner');\n",
              "      try {\n",
              "        const charts = await google.colab.kernel.invokeFunction(\n",
              "            'suggestCharts', [key], {});\n",
              "      } catch (error) {\n",
              "        console.error('Error during call to suggestCharts:', error);\n",
              "      }\n",
              "      quickchartButtonEl.classList.remove('colab-df-spinner');\n",
              "      quickchartButtonEl.classList.add('colab-df-quickchart-complete');\n",
              "    }\n",
              "    (() => {\n",
              "      let quickchartButtonEl =\n",
              "        document.querySelector('#df-5cbef374-66f4-47bc-85cc-52428c668d19 button');\n",
              "      quickchartButtonEl.style.display =\n",
              "        google.colab.kernel.accessAllowed ? 'block' : 'none';\n",
              "    })();\n",
              "  </script>\n",
              "</div>\n",
              "    </div>\n",
              "  </div>\n"
            ],
            "application/vnd.google.colaboratory.intrinsic+json": {
              "type": "dataframe",
              "variable_name": "negative_reviews",
              "summary": "{\n  \"name\": \"negative_reviews\",\n  \"rows\": 331,\n  \"fields\": [\n    {\n      \"column\": \"bank_href\",\n      \"properties\": {\n        \"dtype\": \"category\",\n        \"num_unique_values\": 2,\n        \"samples\": [\n          \"/bank/tinkoff-bank/\",\n          \"/services/responses/bank/tcs/\"\n        ],\n        \"semantic_type\": \"\",\n        \"description\": \"\"\n      }\n    },\n    {\n      \"column\": \"login\",\n      \"properties\": {\n        \"dtype\": \"string\",\n        \"num_unique_values\": 289,\n        \"samples\": [\n          \"masterfix\",\n          \"chess\"\n        ],\n        \"semantic_type\": \"\",\n        \"description\": \"\"\n      }\n    },\n    {\n      \"column\": \"review\",\n      \"properties\": {\n        \"dtype\": \"string\",\n        \"num_unique_values\": 331,\n        \"samples\": [\n          \"\\n\\t\\t\\u041f\\u0440\\u0438\\u0432\\u0435\\u043b\\u0430 \\u0434\\u0432\\u0443\\u0445 \\u0434\\u0440\\u0443\\u0437\\u0435\\u0439 \\u0432 \\u0431\\u0430\\u043d\\u043a \\u043e\\u043a\\u043e\\u043b\\u043e 3\\u0445 \\u043c\\u0435\\u0441\\u044f\\u0446\\u0435\\u0432 \\u043d\\u0430\\u0437\\u0430\\u0434. \\u0414\\u0430\\u043b\\u0430 \\u0441\\u0441\\u044b\\u043b\\u043a\\u0443 \\u043d\\u0430 \\u0431\\u0430\\u043d\\u043a \\u043f\\u043e \\u043a\\u043e\\u0442\\u043e\\u0440\\u043e\\u0439 \\u043e\\u043d\\u0438 \\u0432\\u044b\\u0431\\u0440\\u0430\\u043b\\u0438 \\u0443\\u0434\\u043e\\u0431\\u043d\\u044b\\u0439 \\u043f\\u0440\\u043e\\u0434\\u0443\\u043a\\u0442. \\u0416\\u0434\\u0443 \\u0431\\u043e\\u043d\\u0443\\u0441\\u044b, \\u043f\\u0435\\u0440\\u0432\\u044b\\u0439 \\u043c\\u0435\\u0441\\u044f\\u0446 - \\u0442\\u0438\\u0448\\u0438\\u043d\\u0430, \\u043d\\u0430\\u043f\\u0438\\u0441\\u0430\\u043b\\u0430, \\u0441\\u043a\\u0430\\u0437\\u0430\\u043b\\u0438 \\u0447\\u0442\\u043e \\u0434\\u043e 60 \\u0434\\u043d\\u0435\\u0439, \\u0436\\u0434\\u0443 \\u0434\\u0430\\u043b\\u044c\\u0448\\u0435, \\u0441\\u043d\\u043e\\u0432\\u0430 \\u0442\\u0438\\u0448\\u0438\\u043d\\u0430, \\u043f\\u043e\\u0434\\u043e\\u0436\\u0434\\u0430\\u043b\\u0430 \\u0434\\u043e \\u0440\\u0430\\u0441\\u0447\\u0451\\u0442\\u043d\\u043e\\u0433\\u043e \\u043f\\u0435\\u0440\\u0438\\u043e\\u0434\\u0430, \\u0441\\u043d\\u043e\\u0432\\u0430 \\u043d\\u0435\\u0442 \\u0431\\u043e\\u043d\\u0443\\u0441\\u0430. \\u041d\\u0430\\u043f\\u0438\\u0441\\u0430\\u043b\\u0430 \\u0432 \\u0447\\u0430\\u0442, \\u0434\\u043e\\u043b\\u0433\\u043e \\u0443\\u0442\\u043e\\u0447\\u043d\\u044f\\u043b\\u0438, \\u0443\\u0442\\u043e\\u0447\\u043d\\u0438\\u043b\\u0438 \\u0447\\u0442\\u043e \\u043e\\u0448\\u0438\\u0431\\u043a\\u0430, \\u043d\\u0430\\u043f\\u0438\\u0441\\u0430\\u043b\\u0438 \\u043a\\u043e\\u043b\\u043b\\u0435\\u0433\\u0430\\u043c \\u0447\\u0442\\u043e\\u0431 \\u043d\\u0430\\u0447\\u0438\\u0441\\u043b\\u0438\\u043b\\u0438, \\u0447\\u0435\\u0440\\u0435\\u0437 \\u0441\\u0443\\u0442\\u043a\\u0438 \\u043f\\u0440\\u0438\\u0445\\u043e\\u0434\\u0438\\u0442 900\\u20bd, \\u0440\\u0430\\u043d\\u044c\\u0448\\u0435 \\u043d\\u0430\\u0447\\u0438\\u0441\\u043b\\u044f\\u043b\\u0438 \\u043f\\u043e 600\\u20bd \\u043d\\u0430 \\u0447\\u0435\\u043b\\u043e\\u0432\\u0435\\u043a\\u0430, \\u0441\\u043d\\u043e\\u0432\\u0430 \\u043f\\u0438\\u0449\\u0443 \\u0432 \\u0447\\u0430\\u0442, \\u0443\\u0442\\u043e\\u0447\\u043d\\u044f\\u044e \\u0437\\u0430 \\u043e\\u0434\\u043d\\u043e\\u0433\\u043e \\u044d\\u0442\\u043e \\u0438\\u043b\\u0438 \\u0437\\u0430 \\u0434\\u0432\\u043e\\u0438\\u0445, \\u0436\\u0434\\u0443 20 \\u043c\\u0438\\u043d\\u0443\\u0442! \\u041f\\u043e\\u043a\\u0430 \\u044d\\u0442\\u0443 \\u0438\\u043d\\u0444\\u043e\\u0440\\u043c\\u0430\\u0446\\u0438\\u044e \\u0443\\u0442\\u043e\\u043d\\u0447\\u0430\\u044e\\u0442. \\u041f\\u043e\\u043b\\u0443\\u0447\\u0430\\u044e \\u043e\\u0442\\u0432\\u0435\\u0442 \\u0447\\u0442\\u043e \\u0437\\u0430 \\u0434\\u0432\\u043e\\u0438\\u0445 900\\u20bd \\u0438 \\u0441\\u043a\\u043e\\u043b\\u044c\\u043a\\u043e \\u0434\\u0435\\u043d\\u0435\\u0433 \\u0432\\u044b \\u0436\\u0434\\u0430\\u043b\\u0438? \\u0413\\u043e\\u0432\\u043e\\u0440\\u044e \\u0436\\u0434\\u0430\\u043b\\u0430 1200\\u20bd, \\u0430 \\u043c\\u043d\\u0435 \\u0432 \\u043e\\u0442\\u0432\\u0435\\u0442, \\u0432\\u043e\\u0442 \\u043c\\u043e\\u0436\\u0435\\u0442\\u0435 \\u043f\\u043e\\u0441\\u043c\\u043e\\u0442\\u0440\\u0435\\u0442\\u044c \\u0432 \\u043f\\u0440\\u0438\\u043b\\u043e\\u0436\\u0435\\u043d\\u0438\\u0438 \\u0442\\u0430\\u043c \\u0443\\u043a\\u0430\\u0437\\u0430\\u043d\\u043e \\u0441\\u043a\\u043e\\u043b\\u044c\\u043a\\u043e \\u0438 \\u0437\\u0430 \\u043a\\u0430\\u043a\\u043e\\u0439 \\u043f\\u0440\\u043e\\u0434\\u0443\\u043a\\u0442. \\u0421\\u043c\\u043e\\u0442\\u0440\\u044e, \\u0437\\u0430 \\u0432\\u043a\\u043b\\u0430\\u0434\\u044b \\u043f\\u043e 1000\\u20bd \\u0441 \\u0447\\u0435\\u043b\\u043e\\u0432\\u0435\\u043a\\u0430 \\u0432\\u043e\\u043e\\u0431\\u0449\\u0435, \\u0430 \\u043e\\u0431\\u0430 \\u0434\\u0440\\u0443\\u0433\\u0430 \\u0437\\u043d\\u0430\\u044e \\u0447\\u0442\\u043e \\u0432\\u043a\\u043b\\u0430\\u0434\\u044b \\u043e\\u0442\\u043a\\u0440\\u044b\\u043b\\u0438. \\u041f\\u0438\\u0448\\u0443 \\u0441\\u043e\\u0442\\u0440\\u0443\\u0434\\u043d\\u0438\\u043a\\u0443, \\u0447\\u0442\\u043e \\u043d\\u0435 900\\u20bd, \\u0430 \\u0432\\u043e\\u043e\\u0431\\u0449\\u0435 2000\\u20bd \\u043f\\u043e\\u043b\\u0443\\u0447\\u0430\\u0435\\u0442\\u0441\\u044f \\u0434\\u043e\\u043b\\u0436\\u043d\\u044b))) \\u0441\\u043a\\u0430\\u0437\\u0430\\u043b \\u0447\\u0442\\u043e \\u043e\\u0442\\u043f\\u0440\\u0430\\u0432\\u0438\\u043b \\u043a\\u043e\\u043b\\u043b\\u0435\\u0433\\u0430\\u043c \\u0438 \\u0441\\u0435\\u0439\\u0447\\u0430\\u0441 \\u043d\\u0430 \\u0440\\u0430\\u0441\\u0441\\u043c\\u043e\\u0442\\u0440\\u0435\\u043d\\u0438\\u0438.\\u043a \\u0441\\u043b\\u043e\\u0432\\u0443 \\u043a\\u043b\\u0438\\u0435\\u043d\\u0442 \\u0431\\u0430\\u043d\\u043a\\u0430 \\u043e\\u043a\\u043e\\u043b\\u043e 5 \\u043b\\u0435\\u0442 \\u0443\\u0436\\u0435, \\u043e\\u0431\\u043e\\u0440\\u043e\\u0442\\u044b \\u043f\\u043e \\u043a\\u0430\\u0440\\u0442\\u0435 \\u043d\\u0435 \\u043c\\u0430\\u043b\\u0435\\u043d\\u044c\\u043a\\u0438\\u0435, \\u0432 \\u0446\\u0435\\u043b\\u043e\\u043c \\u0431\\u0430\\u0440\\u043a\\u043e\\u043c \\u0434\\u043e\\u0432\\u043e\\u043b\\u044c\\u043d\\u0430, \\u043d\\u043e \\u0432\\u043e\\u0442 \\u044d\\u0442\\u0430 \\u0441\\u0438\\u0442\\u0443\\u0430\\u0446\\u0438\\u044f \\u043d\\u0430\\u043f\\u0440\\u044f\\u0433\\u043b\\u0430: \\u0441\\u043f\\u0435\\u0440\\u0432\\u0430 \\u0442\\u044f\\u043d\\u0443\\u043b\\u0438, \\u043f\\u043e\\u0442\\u043e\\u043c \\u0437\\u0430\\u0431\\u044b\\u043b\\u0438, \\u043f\\u043e\\u0442\\u043e\\u043c \\u043d\\u0435\\u043f\\u043e\\u043d\\u044f\\u0442\\u043d\\u043e \\u043d\\u0430\\u0447\\u0438\\u0441\\u043b\\u0438\\u043b\\u0438, \\u043a\\u0443\\u0447\\u0443 \\u0432\\u0440\\u0435\\u043c\\u0435\\u043d\\u0438 \\u043f\\u043e\\u0442\\u0440\\u0430\\u0442\\u0438\\u043b\\u0430 \\u043f\\u043e\\u043a\\u0430 \\u0432\\u044b\\u044f\\u0441\\u043d\\u044f\\u043b\\u0430 \\u0432\\u0441\\u0435 \\u044d\\u0442\\u043e. \\u041d\\u0435 \\u0433\\u043e\\u0442\\u043e\\u0432\\u044b \\u043f\\u043b\\u0430\\u0442\\u0438\\u0442\\u044c \\u0437\\u0430 \\u0430\\u043a\\u0446\\u0438\\u044e - \\u043d\\u0443 \\u043d\\u0435 \\u0443\\u0441\\u0442\\u0440\\u0430\\u0438\\u0432\\u0430\\u0439\\u0442\\u0435 \\u0435\\u0435.\\n\\t\",\n          \"\\u0416\\u0430\\u043b\\u043e\\u0431\\u0430,\\u0438\\u043b\\u0438 \\\"\\u043d\\u043e\\u0432\\u0430\\u044f\\\" \\u0443\\u0441\\u043b\\u0443\\u0433\\u0430 \\u0431\\u0430\\u043d\\u043a\\u0430 \\\"\\u043e\\u043f\\u043b\\u0430\\u0442\\u0438 \\u0434\\u043e\\u043b\\u0433 \\u0434\\u0440\\u0443\\u0433\\u0430,\\u0430 \\u0435\\u0441\\u043b\\u0438 \\u043d\\u0435\\u0442, \\u043c\\u044b \\u0442\\u0435\\u0431\\u044f \\u0434\\u043e\\u0441\\u0442\\u0430\\u043d\\u0435\\u043c\\\"\\u0417\\u0434\\u0440\\u0430\\u0432\\u0441\\u0442\\u0432\\u0443\\u0439\\u0442\\u0435!\\n\\u041d\\u0430 \\u0434\\u043d\\u044f\\u0445 \\u0432 \\u0441\\u0435\\u0442\\u0438 \\\"\\u0412\\u041a\\u043e\\u043d\\u0442\\u0430\\u043a\\u0442\\u0435\\\" \\u043f\\u043e\\u043b\\u0443\\u0447\\u0438\\u043b\\u0430 \\u0441\\u043e\\u043e\\u0431\\u0449\\u0435\\u043d\\u0438\\u0435 ,\\u0441\\u043b\\u0435\\u0434\\u0443\\u044e\\u0449\\u0435\\u0433\\u043e \\u0441\\u043e\\u0434\\u0435\\u0440\\u0436\\u0430\\u043d\\u0438\\u044f.\\n\\u0420\\u043e\\u0441\\u0442\\u0438\\u0441\\u043b\\u0430\\u0432 \\u041a\\u0443\\u043b\\u0430\\u0433\\u0438\\u043d\\n\\\"Elvira ..., \\u043a \\u043d\\u0430\\u043c o\\u0431p\\u0430\\u0442\\u0438\\u043b\\u0438\\u0441\\u044c \\u043dec\\u043ao\\u043b\\u044c\\u043ao \\u043ao\\u043b\\u043be\\u043a\\u0442opc\\u043a\\u0438x a\\u0433e\\u043d\\u0442c\\u0442\\u0432 \\u0441 \\u043fpe\\u0434\\u043bo\\u0436e\\u043d\\u0438e\\u043c \\u043a\\u0443\\u043f\\u0438\\u0442\\u044c \\u0434o\\u043b\\u0433 \\u0412\\u0430\\u0448e\\u0433o \\u0434p\\u0443\\u0433\\u0430. \\u0421e\\u0439\\u0447\\u0430\\u0441 \\u0438\\u0434\\u0435\\u0442 \\u043fpo\\u0446ec\\u0441 o\\u0446e\\u043d\\u043a\\u0438 \\u0434o\\u043b\\u0433\\u0430 \\u0438 \\u0434o \\u043ao\\u043d\\u0446\\u0430 p\\u0430\\u0431o\\u0442\\u044b o\\u0446e\\u043do\\u0447\\u043do\\u0439 \\u043ao\\u043c\\u0438\\u0441c\\u0438\\u0438 o\\u0441\\u0442\\u0430\\u043bo\\u0441\\u044c 2 \\u0434\\u043d\\u044f. \\u0412\\u0438\\u043a\\u0442o\\u0440 \\u0428 \\u0434o\\u043b\\u0436e\\u043d \\u044d\\u0442o \\u0437\\u043d\\u0430\\u0442\\u044c. 88005555775 \\u0422\\u0438\\u043d\\u044c\\u043ao\\u0444\\u0444 \\u0411\\u0430\\u043d\\u043a \\u0410O.\\\"\\n\\u0423 \\u043c\\u0435\\u043d\\u044f \\u0432\\u043e\\u043f\\u0440\\u043e\\u0441 \\u043a \\u0432\\u0430\\u0448\\u0435\\u0439 \\u043e\\u0440\\u0433\\u0430\\u043d\\u0438\\u0437\\u0430\\u0446\\u0438\\u0438,\\u043f\\u043e\\u0447\\u0435\\u043c\\u0443 \\u0432\\u044b \\u0440\\u0435\\u0448\\u0430\\u0435\\u0442\\u0435 \\u0441\\u0432\\u043e\\u0438 \\u043f\\u0440\\u043e\\u0431\\u043b\\u0435\\u043c\\u044b \\u0434\\u043e\\u0441\\u0442\\u0430\\u0442\\u043e\\u0447\\u043d\\u043e \\u0441\\u0442\\u0440\\u0430\\u043d\\u043d\\u044b\\u043c \\u043e\\u0431\\u0440\\u0430\\u0437\\u043e\\u043c (\\u043f\\u0435\\u0440\\u0435\\u0434\\u0430\\u0432\\u0430\\u044f \\u043f\\u0435\\u0440\\u0441\\u043e\\u043d\\u0430\\u043b\\u044c\\u043d\\u044b\\u0435 \\u0434\\u0430\\u043d\\u043d\\u044b\\u0435 \\u043d\\u0435\\u0437\\u043d\\u0430\\u043a\\u043e\\u043c\\u044b\\u043c \\u043b\\u0438\\u0446\\u0430\\u043c)? \\u041f\\u043e\\u0447\\u0435\\u043c\\u0443 \\u0431\\u0430\\u043d\\u043a \\u043f\\u043e\\u0437\\u0432\\u043e\\u043b\\u044f\\u0435\\u0442 \\u0441\\u0435\\u0431\\u0435 \\u0448\\u0430\\u043d\\u0442\\u0430\\u0436\\u0438\\u0440\\u043e\\u0432\\u0430\\u0442\\u044c,\\u0431\\u0435\\u0441\\u043f\\u043e\\u043a\\u043e\\u0438\\u0442\\u044c \\u0438 \\u0432\\u044b\\u043c\\u043e\\u0433\\u0430\\u0442\\u044c \\u0434\\u0435\\u043d\\u044c\\u0433\\u0438 \\u0441 \\u0441\\u043e\\u0432\\u0435\\u0440\\u0448\\u0435\\u043d\\u043d\\u043e \\u043f\\u043e\\u0441\\u0442\\u043e\\u0440\\u043e\\u043d\\u043d\\u0438\\u0445 \\u043b\\u044e\\u0434\\u0435\\u0439? \\u042d\\u0442\\u043e \\u0447\\u0442\\u043e \\u043d\\u043e\\u0432\\u043e\\u0435 \\u0432\\u0435\\u044f\\u043d\\u0438\\u0435,\\u043f\\u043e\\u043b\\u0438\\u0442\\u0438\\u043a\\u0430 \\u0431\\u0430\\u043d\\u043a\\u0430? \\u042f \\u0443 \\u0432\\u0430\\u0441 \\u043a\\u0440\\u0435\\u0434\\u0438\\u0442\\u043e\\u0432 \\u043d\\u0435 \\u0431\\u0440\\u0430\\u043b\\u0430,\\u0412\\u0438\\u043a\\u0442\\u043e\\u0440 \\u0428 \\u043c\\u043e\\u0439 \\u0434\\u0440\\u0443\\u0433 ,\\u043d\\u043e \\u0443 \\u043c\\u0435\\u043d\\u044f \\u0432 \\u0412\\u041a \\u0438\\u0445 64 \\u0447\\u0435\\u043b\\u043e\\u0432\\u0435\\u043a\\u0430,\\u0447\\u0442\\u043e \\u043f\\u0440\\u0438\\u043a\\u0430\\u0436\\u0438\\u0442\\u0435 \\u0437\\u0430 \\u0432\\u0441\\u0435\\u0445 \\u043f\\u043b\\u0430\\u0442\\u0438\\u0442\\u044c/\\u0432\\u044b\\u043a\\u0443\\u043f\\u0430\\u0442\\u044c?\\u041a\\u0442\\u043e \\u044d\\u0442\\u043e\\u0442 \\u0447\\u0435\\u043b\\u043e\\u0432\\u0435\\u043a \\u043d\\u0430\\u043f\\u0438\\u0441\\u0430\\u0432\\u0448\\u0438\\u0439 \\u043c\\u043d\\u0435 \\u0434\\u0430\\u043d\\u043d\\u043e\\u0435 \\u0441\\u043e\\u043e\\u0431\\u0449\\u0435\\u043d\\u0438\\u0435 ,\\u044f \\u043d\\u0435 \\u0437\\u043d\\u0430\\u044e, \\u043d\\u043e \\u0445\\u043e\\u0447\\u0443 \\u0432\\u0430\\u0441 \\u043f\\u0440\\u0435\\u0434\\u0443\\u043f\\u0440\\u0435\\u0434\\u0438\\u0442\\u044c \\u0435\\u0449\\u0435 \\u043e\\u0434\\u043d\\u043e \\u0442\\u0430\\u043a\\u043e\\u0435 \\u0441\\u043e\\u043e\\u0431\\u0449\\u0435\\u043d\\u0438\\u0435 \\u0438 \\u044f \\u043e\\u0431\\u0440\\u0430\\u0449\\u0443\\u0441\\u044c \\u0432 \\u043e\\u0440\\u0433\\u0430\\u043d\\u044b \\u0437\\u0430 \\u0434\\u043e\\u043c\\u043e\\u0433\\u0430\\u0442\\u0435\\u043b\\u044c\\u0441\\u0442\\u0432\\u043e,\\u0434\\u0430\\u0432\\u043b\\u0435\\u043d\\u0438\\u0435 \\u0441\\u043e \\u0441\\u0442\\u043e\\u0440\\u043e\\u043d\\u044b \\u0432\\u0430\\u0448\\u0435\\u0433\\u043e \\u0431\\u0430\\u043d\\u043a\\u0430! \\u0421\\u043e \\u0432\\u0441\\u0435\\u043c\\u0438 \\u043f\\u0440\\u043e\\u0431\\u043b\\u0435\\u043c\\u0430\\u043c\\u0438 \\u0438\\u0434\\u0438\\u0442\\u0435 ...\\u0432 \\u0441\\u0443\\u0434!\"\n        ],\n        \"semantic_type\": \"\",\n        \"description\": \"\"\n      }\n    },\n    {\n      \"column\": \"bank_name\",\n      \"properties\": {\n        \"dtype\": \"category\",\n        \"num_unique_values\": 1,\n        \"samples\": [\n          \"\\u0442\\u0438\\u043d\\u044c\\u043a\\u043e\\u0444\\u0444 \\u0431\\u0430\\u043d\\u043a\"\n        ],\n        \"semantic_type\": \"\",\n        \"description\": \"\"\n      }\n    },\n    {\n      \"column\": \"site\",\n      \"properties\": {\n        \"dtype\": \"category\",\n        \"num_unique_values\": 2,\n        \"samples\": [\n          \"https://www.sravni.ru\"\n        ],\n        \"semantic_type\": \"\",\n        \"description\": \"\"\n      }\n    },\n    {\n      \"column\": \"date\",\n      \"properties\": {\n        \"dtype\": \"string\",\n        \"num_unique_values\": 311,\n        \"samples\": [\n          \"19 \\u044f\\u043d\\u0432, 2018\"\n        ],\n        \"semantic_type\": \"\",\n        \"description\": \"\"\n      }\n    },\n    {\n      \"column\": \"message_href\",\n      \"properties\": {\n        \"dtype\": \"category\",\n        \"num_unique_values\": 164,\n        \"samples\": [\n          \"/bank/tinkoff-bank/otzyv/198929/?page\"\n        ],\n        \"semantic_type\": \"\",\n        \"description\": \"\"\n      }\n    },\n    {\n      \"column\": \"score\",\n      \"properties\": {\n        \"dtype\": \"category\",\n        \"num_unique_values\": 2,\n        \"samples\": [\n          \"1\"\n        ],\n        \"semantic_type\": \"\",\n        \"description\": \"\"\n      }\n    },\n    {\n      \"column\": \"status\",\n      \"properties\": {\n        \"dtype\": \"category\",\n        \"num_unique_values\": 29,\n        \"samples\": [\n          \"=message_href =/services/responses/bank/response/10234576/\"\n        ],\n        \"semantic_type\": \"\",\n        \"description\": \"\"\n      }\n    },\n    {\n      \"column\": \"user_href\",\n      \"properties\": {\n        \"dtype\": \"string\",\n        \"num_unique_values\": 167,\n        \"samples\": [\n          \"/profile/?UID=226745\"\n        ],\n        \"semantic_type\": \"\",\n        \"description\": \"\"\n      }\n    }\n  ]\n}"
            }
          },
          "metadata": {},
          "execution_count": 40
        }
      ]
    },
    {
      "cell_type": "code",
      "source": [],
      "metadata": {
        "id": "-PWGdOfWNhSH"
      },
      "execution_count": null,
      "outputs": []
    }
  ]
}