{
  "cells": [
    {
      "cell_type": "markdown",
      "metadata": {
        "id": "2Oe2G0X9-brh"
      },
      "source": [
        "# Лабораторная № 1. Базовая обработка и анализ текста."
      ]
    },
    {
      "cell_type": "code",
      "execution_count": null,
      "metadata": {
        "id": "LD5Dy9Zd-Vcs"
      },
      "outputs": [],
      "source": [
        "import pandas as pd"
      ]
    },
    {
      "cell_type": "markdown",
      "metadata": {
        "id": "iItXd6j1-gxf"
      },
      "source": [
        "#### Данные отзывов о банковских услугах"
      ]
    },
    {
      "cell_type": "code",
      "execution_count": null,
      "metadata": {
        "colab": {
          "base_uri": "https://localhost:8080/",
          "height": 590
        },
        "id": "lF_HAXzV9mB9",
        "outputId": "db0d4cd1-0cea-4bcf-ca63-eadf052aee29"
      },
      "outputs": [
        {
          "output_type": "execute_result",
          "data": {
            "text/plain": [
              "                  bank_href login  \\\n",
              "0  /kredit-evropa-bank.html   NaN   \n",
              "1  /kredit-evropa-bank.html   NaN   \n",
              "2  /kredit-evropa-bank.html   NaN   \n",
              "3  /kredit-evropa-bank.html   NaN   \n",
              "4  /kredit-evropa-bank.html   NaN   \n",
              "\n",
              "                                              review           bank_name  \\\n",
              "0  Брал кредит в данной организации, после погаше...  кредит европа банк   \n",
              "1  В 2011 году,мною была оформлена мега карта в Т...  кредит европа банк   \n",
              "2  С родителями увидели рекламу вклада Осеннее пр...  кредит европа банк   \n",
              "3  Связать три года своей жизни с этим непорядочн...  кредит европа банк   \n",
              "4  Пользуюсь месяц карточкой Card Plus, сегодня п...  кредит европа банк   \n",
              "\n",
              "                    site date message_href score status user_href  \n",
              "0  http://bankireview.ru  NaN          NaN   NaN    NaN       NaN  \n",
              "1  http://bankireview.ru  NaN          NaN   NaN    NaN       NaN  \n",
              "2  http://bankireview.ru  NaN          NaN   NaN    NaN       NaN  \n",
              "3  http://bankireview.ru  NaN          NaN   NaN    NaN       NaN  \n",
              "4  http://bankireview.ru  NaN          NaN   NaN    NaN       NaN  "
            ],
            "text/html": [
              "\n",
              "  <div id=\"df-1be15afb-4626-4c4e-ac17-8d4c48586d08\" class=\"colab-df-container\">\n",
              "    <div>\n",
              "<style scoped>\n",
              "    .dataframe tbody tr th:only-of-type {\n",
              "        vertical-align: middle;\n",
              "    }\n",
              "\n",
              "    .dataframe tbody tr th {\n",
              "        vertical-align: top;\n",
              "    }\n",
              "\n",
              "    .dataframe thead th {\n",
              "        text-align: right;\n",
              "    }\n",
              "</style>\n",
              "<table border=\"1\" class=\"dataframe\">\n",
              "  <thead>\n",
              "    <tr style=\"text-align: right;\">\n",
              "      <th></th>\n",
              "      <th>bank_href</th>\n",
              "      <th>login</th>\n",
              "      <th>review</th>\n",
              "      <th>bank_name</th>\n",
              "      <th>site</th>\n",
              "      <th>date</th>\n",
              "      <th>message_href</th>\n",
              "      <th>score</th>\n",
              "      <th>status</th>\n",
              "      <th>user_href</th>\n",
              "    </tr>\n",
              "  </thead>\n",
              "  <tbody>\n",
              "    <tr>\n",
              "      <th>0</th>\n",
              "      <td>/kredit-evropa-bank.html</td>\n",
              "      <td>NaN</td>\n",
              "      <td>Брал кредит в данной организации, после погаше...</td>\n",
              "      <td>кредит европа банк</td>\n",
              "      <td>http://bankireview.ru</td>\n",
              "      <td>NaN</td>\n",
              "      <td>NaN</td>\n",
              "      <td>NaN</td>\n",
              "      <td>NaN</td>\n",
              "      <td>NaN</td>\n",
              "    </tr>\n",
              "    <tr>\n",
              "      <th>1</th>\n",
              "      <td>/kredit-evropa-bank.html</td>\n",
              "      <td>NaN</td>\n",
              "      <td>В 2011 году,мною была оформлена мега карта в Т...</td>\n",
              "      <td>кредит европа банк</td>\n",
              "      <td>http://bankireview.ru</td>\n",
              "      <td>NaN</td>\n",
              "      <td>NaN</td>\n",
              "      <td>NaN</td>\n",
              "      <td>NaN</td>\n",
              "      <td>NaN</td>\n",
              "    </tr>\n",
              "    <tr>\n",
              "      <th>2</th>\n",
              "      <td>/kredit-evropa-bank.html</td>\n",
              "      <td>NaN</td>\n",
              "      <td>С родителями увидели рекламу вклада Осеннее пр...</td>\n",
              "      <td>кредит европа банк</td>\n",
              "      <td>http://bankireview.ru</td>\n",
              "      <td>NaN</td>\n",
              "      <td>NaN</td>\n",
              "      <td>NaN</td>\n",
              "      <td>NaN</td>\n",
              "      <td>NaN</td>\n",
              "    </tr>\n",
              "    <tr>\n",
              "      <th>3</th>\n",
              "      <td>/kredit-evropa-bank.html</td>\n",
              "      <td>NaN</td>\n",
              "      <td>Связать три года своей жизни с этим непорядочн...</td>\n",
              "      <td>кредит европа банк</td>\n",
              "      <td>http://bankireview.ru</td>\n",
              "      <td>NaN</td>\n",
              "      <td>NaN</td>\n",
              "      <td>NaN</td>\n",
              "      <td>NaN</td>\n",
              "      <td>NaN</td>\n",
              "    </tr>\n",
              "    <tr>\n",
              "      <th>4</th>\n",
              "      <td>/kredit-evropa-bank.html</td>\n",
              "      <td>NaN</td>\n",
              "      <td>Пользуюсь месяц карточкой Card Plus, сегодня п...</td>\n",
              "      <td>кредит европа банк</td>\n",
              "      <td>http://bankireview.ru</td>\n",
              "      <td>NaN</td>\n",
              "      <td>NaN</td>\n",
              "      <td>NaN</td>\n",
              "      <td>NaN</td>\n",
              "      <td>NaN</td>\n",
              "    </tr>\n",
              "  </tbody>\n",
              "</table>\n",
              "</div>\n",
              "    <div class=\"colab-df-buttons\">\n",
              "\n",
              "  <div class=\"colab-df-container\">\n",
              "    <button class=\"colab-df-convert\" onclick=\"convertToInteractive('df-1be15afb-4626-4c4e-ac17-8d4c48586d08')\"\n",
              "            title=\"Convert this dataframe to an interactive table.\"\n",
              "            style=\"display:none;\">\n",
              "\n",
              "  <svg xmlns=\"http://www.w3.org/2000/svg\" height=\"24px\" viewBox=\"0 -960 960 960\">\n",
              "    <path d=\"M120-120v-720h720v720H120Zm60-500h600v-160H180v160Zm220 220h160v-160H400v160Zm0 220h160v-160H400v160ZM180-400h160v-160H180v160Zm440 0h160v-160H620v160ZM180-180h160v-160H180v160Zm440 0h160v-160H620v160Z\"/>\n",
              "  </svg>\n",
              "    </button>\n",
              "\n",
              "  <style>\n",
              "    .colab-df-container {\n",
              "      display:flex;\n",
              "      gap: 12px;\n",
              "    }\n",
              "\n",
              "    .colab-df-convert {\n",
              "      background-color: #E8F0FE;\n",
              "      border: none;\n",
              "      border-radius: 50%;\n",
              "      cursor: pointer;\n",
              "      display: none;\n",
              "      fill: #1967D2;\n",
              "      height: 32px;\n",
              "      padding: 0 0 0 0;\n",
              "      width: 32px;\n",
              "    }\n",
              "\n",
              "    .colab-df-convert:hover {\n",
              "      background-color: #E2EBFA;\n",
              "      box-shadow: 0px 1px 2px rgba(60, 64, 67, 0.3), 0px 1px 3px 1px rgba(60, 64, 67, 0.15);\n",
              "      fill: #174EA6;\n",
              "    }\n",
              "\n",
              "    .colab-df-buttons div {\n",
              "      margin-bottom: 4px;\n",
              "    }\n",
              "\n",
              "    [theme=dark] .colab-df-convert {\n",
              "      background-color: #3B4455;\n",
              "      fill: #D2E3FC;\n",
              "    }\n",
              "\n",
              "    [theme=dark] .colab-df-convert:hover {\n",
              "      background-color: #434B5C;\n",
              "      box-shadow: 0px 1px 3px 1px rgba(0, 0, 0, 0.15);\n",
              "      filter: drop-shadow(0px 1px 2px rgba(0, 0, 0, 0.3));\n",
              "      fill: #FFFFFF;\n",
              "    }\n",
              "  </style>\n",
              "\n",
              "    <script>\n",
              "      const buttonEl =\n",
              "        document.querySelector('#df-1be15afb-4626-4c4e-ac17-8d4c48586d08 button.colab-df-convert');\n",
              "      buttonEl.style.display =\n",
              "        google.colab.kernel.accessAllowed ? 'block' : 'none';\n",
              "\n",
              "      async function convertToInteractive(key) {\n",
              "        const element = document.querySelector('#df-1be15afb-4626-4c4e-ac17-8d4c48586d08');\n",
              "        const dataTable =\n",
              "          await google.colab.kernel.invokeFunction('convertToInteractive',\n",
              "                                                    [key], {});\n",
              "        if (!dataTable) return;\n",
              "\n",
              "        const docLinkHtml = 'Like what you see? Visit the ' +\n",
              "          '<a target=\"_blank\" href=https://colab.research.google.com/notebooks/data_table.ipynb>data table notebook</a>'\n",
              "          + ' to learn more about interactive tables.';\n",
              "        element.innerHTML = '';\n",
              "        dataTable['output_type'] = 'display_data';\n",
              "        await google.colab.output.renderOutput(dataTable, element);\n",
              "        const docLink = document.createElement('div');\n",
              "        docLink.innerHTML = docLinkHtml;\n",
              "        element.appendChild(docLink);\n",
              "      }\n",
              "    </script>\n",
              "  </div>\n",
              "\n",
              "\n",
              "<div id=\"df-94bc4c57-915b-4542-8416-16b14f164acd\">\n",
              "  <button class=\"colab-df-quickchart\" onclick=\"quickchart('df-94bc4c57-915b-4542-8416-16b14f164acd')\"\n",
              "            title=\"Suggest charts\"\n",
              "            style=\"display:none;\">\n",
              "\n",
              "<svg xmlns=\"http://www.w3.org/2000/svg\" height=\"24px\"viewBox=\"0 0 24 24\"\n",
              "     width=\"24px\">\n",
              "    <g>\n",
              "        <path d=\"M19 3H5c-1.1 0-2 .9-2 2v14c0 1.1.9 2 2 2h14c1.1 0 2-.9 2-2V5c0-1.1-.9-2-2-2zM9 17H7v-7h2v7zm4 0h-2V7h2v10zm4 0h-2v-4h2v4z\"/>\n",
              "    </g>\n",
              "</svg>\n",
              "  </button>\n",
              "\n",
              "<style>\n",
              "  .colab-df-quickchart {\n",
              "      --bg-color: #E8F0FE;\n",
              "      --fill-color: #1967D2;\n",
              "      --hover-bg-color: #E2EBFA;\n",
              "      --hover-fill-color: #174EA6;\n",
              "      --disabled-fill-color: #AAA;\n",
              "      --disabled-bg-color: #DDD;\n",
              "  }\n",
              "\n",
              "  [theme=dark] .colab-df-quickchart {\n",
              "      --bg-color: #3B4455;\n",
              "      --fill-color: #D2E3FC;\n",
              "      --hover-bg-color: #434B5C;\n",
              "      --hover-fill-color: #FFFFFF;\n",
              "      --disabled-bg-color: #3B4455;\n",
              "      --disabled-fill-color: #666;\n",
              "  }\n",
              "\n",
              "  .colab-df-quickchart {\n",
              "    background-color: var(--bg-color);\n",
              "    border: none;\n",
              "    border-radius: 50%;\n",
              "    cursor: pointer;\n",
              "    display: none;\n",
              "    fill: var(--fill-color);\n",
              "    height: 32px;\n",
              "    padding: 0;\n",
              "    width: 32px;\n",
              "  }\n",
              "\n",
              "  .colab-df-quickchart:hover {\n",
              "    background-color: var(--hover-bg-color);\n",
              "    box-shadow: 0 1px 2px rgba(60, 64, 67, 0.3), 0 1px 3px 1px rgba(60, 64, 67, 0.15);\n",
              "    fill: var(--button-hover-fill-color);\n",
              "  }\n",
              "\n",
              "  .colab-df-quickchart-complete:disabled,\n",
              "  .colab-df-quickchart-complete:disabled:hover {\n",
              "    background-color: var(--disabled-bg-color);\n",
              "    fill: var(--disabled-fill-color);\n",
              "    box-shadow: none;\n",
              "  }\n",
              "\n",
              "  .colab-df-spinner {\n",
              "    border: 2px solid var(--fill-color);\n",
              "    border-color: transparent;\n",
              "    border-bottom-color: var(--fill-color);\n",
              "    animation:\n",
              "      spin 1s steps(1) infinite;\n",
              "  }\n",
              "\n",
              "  @keyframes spin {\n",
              "    0% {\n",
              "      border-color: transparent;\n",
              "      border-bottom-color: var(--fill-color);\n",
              "      border-left-color: var(--fill-color);\n",
              "    }\n",
              "    20% {\n",
              "      border-color: transparent;\n",
              "      border-left-color: var(--fill-color);\n",
              "      border-top-color: var(--fill-color);\n",
              "    }\n",
              "    30% {\n",
              "      border-color: transparent;\n",
              "      border-left-color: var(--fill-color);\n",
              "      border-top-color: var(--fill-color);\n",
              "      border-right-color: var(--fill-color);\n",
              "    }\n",
              "    40% {\n",
              "      border-color: transparent;\n",
              "      border-right-color: var(--fill-color);\n",
              "      border-top-color: var(--fill-color);\n",
              "    }\n",
              "    60% {\n",
              "      border-color: transparent;\n",
              "      border-right-color: var(--fill-color);\n",
              "    }\n",
              "    80% {\n",
              "      border-color: transparent;\n",
              "      border-right-color: var(--fill-color);\n",
              "      border-bottom-color: var(--fill-color);\n",
              "    }\n",
              "    90% {\n",
              "      border-color: transparent;\n",
              "      border-bottom-color: var(--fill-color);\n",
              "    }\n",
              "  }\n",
              "</style>\n",
              "\n",
              "  <script>\n",
              "    async function quickchart(key) {\n",
              "      const quickchartButtonEl =\n",
              "        document.querySelector('#' + key + ' button');\n",
              "      quickchartButtonEl.disabled = true;  // To prevent multiple clicks.\n",
              "      quickchartButtonEl.classList.add('colab-df-spinner');\n",
              "      try {\n",
              "        const charts = await google.colab.kernel.invokeFunction(\n",
              "            'suggestCharts', [key], {});\n",
              "      } catch (error) {\n",
              "        console.error('Error during call to suggestCharts:', error);\n",
              "      }\n",
              "      quickchartButtonEl.classList.remove('colab-df-spinner');\n",
              "      quickchartButtonEl.classList.add('colab-df-quickchart-complete');\n",
              "    }\n",
              "    (() => {\n",
              "      let quickchartButtonEl =\n",
              "        document.querySelector('#df-94bc4c57-915b-4542-8416-16b14f164acd button');\n",
              "      quickchartButtonEl.style.display =\n",
              "        google.colab.kernel.accessAllowed ? 'block' : 'none';\n",
              "    })();\n",
              "  </script>\n",
              "</div>\n",
              "    </div>\n",
              "  </div>\n"
            ],
            "application/vnd.google.colaboratory.intrinsic+json": {
              "type": "dataframe",
              "variable_name": "data",
              "summary": "{\n  \"name\": \"data\",\n  \"rows\": 23810,\n  \"fields\": [\n    {\n      \"column\": \"bank_href\",\n      \"properties\": {\n        \"dtype\": \"category\",\n        \"num_unique_values\": 743,\n        \"samples\": [\n          \"/bank/centrokredit/\",\n          \"/bank/agrosojuz/\",\n          \"/bank/kredit-moskva/\"\n        ],\n        \"semantic_type\": \"\",\n        \"description\": \"\"\n      }\n    },\n    {\n      \"column\": \"login\",\n      \"properties\": {\n        \"dtype\": \"string\",\n        \"num_unique_values\": 12457,\n        \"samples\": [\n          \"zhanna18\",\n          \"Ewgeniy1\",\n          \"cmotp10\"\n        ],\n        \"semantic_type\": \"\",\n        \"description\": \"\"\n      }\n    },\n    {\n      \"column\": \"review\",\n      \"properties\": {\n        \"dtype\": \"string\",\n        \"num_unique_values\": 23072,\n        \"samples\": [\n          \"\\u0421\\u043e\\u0432\\u0435\\u0440\\u0448\\u0435\\u043d\\u043d\\u043e \\u043d\\u0435 \\u0446\\u0435\\u043d\\u044f\\u0442 \\u043a\\u043b\\u0438\\u0435\\u043d\\u0442\\u043e\\u0432\\u0423\\u0436\\u0430\\u0441\\u043d\\u044b\\u0439 \\u0431\\u0430\\u043d\\u043a!!! \\u0412\\u0437\\u044f\\u043b\\u0430 \\u0432 \\u0434\\u0430\\u043d\\u043d\\u043e\\u043c \\u0431\\u0430\\u043d\\u043a\\u0435 2 \\u043a\\u0440\\u0435\\u0434\\u0438\\u0442\\u0430, \\u043f\\u043b\\u0430\\u0442\\u0438\\u043b\\u0430 \\u0432\\u043e\\u0432\\u0440\\u0435\\u043c\\u044f, \\u043f\\u0440\\u043e\\u0431\\u043b\\u0435\\u043c \\u043d\\u0435 \\u0432\\u043e\\u0437\\u043d\\u0438\\u043a\\u0430\\u043b\\u043e. \\u041d\\u043e 06.08 \\u043f\\u043e\\u0448\\u043b\\u0430 \\u043f\\u043b\\u0430\\u0442\\u0438\\u0442\\u044c \\u043e\\u0447\\u0435\\u0440\\u0435\\u0434\\u043d\\u043e\\u0439 \\u043a\\u0440\\u0435\\u0434\\u0438\\u0442 \\u0438 \\u0431\\u0430\\u043d\\u043a\\u043e\\u043c\\u0430\\u0442 \\u0437\\u0430\\u0436\\u0435\\u0432\\u0430\\u043b \\u043c\\u043e\\u0438 \\u0434\\u0435\\u043d\\u044c\\u0433\\u0438, \\u043f\\u043b\\u044e\\u043d\\u0443\\u043b \\u0432 \\u043c\\u0435\\u043d\\u044f \\u043a\\u0430\\u0440\\u0442\\u043e\\u0447\\u043a\\u043e\\u0439 \\u0438 \\u043e\\u0442\\u043a\\u043b\\u044e\\u0447\\u0438\\u043b\\u0441\\u044f. \\u041d\\u0430\\u043f\\u0438\\u0441\\u0430\\u043b\\u0430 \\u0442\\u0443\\u0442 \\u0436\\u0435 \\u0437\\u0430\\u044f\\u0432\\u043b\\u0435\\u043d\\u0438\\u0435. \\u0414\\u0435\\u0432\\u0443\\u0448\\u043a\\u0430 \\u0441\\u043a\\u0430\\u0437\\u0430\\u043b\\u0430 \\u0447\\u0442\\u043e \\u0441\\u0440\\u043e\\u043a \\u0440\\u0430\\u0441\\u0441\\u043c\\u043e\\u0442\\u0440\\u0435\\u043d\\u0438\\u044f 5 \\u0434\\u043d\\u0435\\u0439 \\u0438 \\u043c\\u043d\\u0435 \\u043d\\u0435 \\u0441\\u0442\\u043e\\u0438\\u0442 \\u043f\\u0435\\u0440\\u0435\\u0436\\u0438\\u0432\\u0430\\u0442\\u044c. \\u041a\\u043e\\u043f\\u0438\\u044e \\u0437\\u0430\\u044f\\u0432\\u043b\\u0435\\u043d\\u0438\\u044f \\u043c\\u043d\\u0435 \\u043d\\u0435 \\u0434\\u0430\\u043b\\u0430, \\u0430 \\u044f \\u0431\\u044b\\u043b\\u0430 \\u0442\\u0430\\u043a \\u0440\\u0430\\u0441\\u0441\\u0442\\u0440\\u043e\\u0435\\u043d\\u0430, \\u0447\\u0442\\u043e \\u043d\\u0435 \\u043d\\u0430\\u0441\\u0442\\u043e\\u044f\\u043b\\u0430 \\u043d\\u0430 \\u0432\\u044b\\u0434\\u0430\\u0447\\u0435.\\n\\u0427\\u0435\\u0440\\u0435\\u0437 \\u043d\\u0435\\u0441\\u043a\\u043e\\u043b\\u044c\\u043a\\u043e \\u0434\\u043d\\u0435\\u0439, \\u043a\\u043e\\u0433\\u0434\\u0430 \\u043f\\u0440\\u043e\\u0448\\u0435\\u043b \\u0441\\u0440\\u043e\\u043a \\u0441\\u043f\\u0438\\u0441\\u0430\\u043d\\u0438\\u044f, \\u043d\\u0430\\u0447\\u0430\\u043b\\u0438\\u0441\\u044c \\u0437\\u0432\\u043e\\u043d\\u043a\\u0438 \\u0438\\u0437 \\u043e\\u0442\\u0434\\u0435\\u043b\\u0430 \\u043f\\u0440\\u043e\\u0441\\u0440\\u043e\\u0447\\u0435\\u043d\\u043d\\u043e\\u0439 \\u0437\\u0430\\u0434\\u043e\\u043b\\u0436\\u0435\\u043d\\u043d\\u043e\\u0441\\u0442\\u0438. \\u042f \\u0438\\u043c \\u043f\\u043e 5 \\u0440\\u0430\\u0437 \\u043d\\u0430 \\u0434\\u043d\\u044e \\u043e\\u0431\\u044a\\u044f\\u0441\\u043d\\u044f\\u043b\\u0430 \\u0447\\u0442\\u043e \\u0443 \\u043c\\u0435\\u043d\\u044f \\u043b\\u0435\\u0436\\u0438\\u0442 \\u0437\\u0430\\u044f\\u0432\\u043b\\u0435\\u043d\\u0438\\u0435 \\u043e \\u0442\\u043e\\u043c, \\u0447\\u0442\\u043e \\u0434\\u0435\\u043d\\u044c\\u0433\\u0438 \\u0441\\u044a\\u0435\\u043b \\u0431\\u0430\\u043d\\u043a\\u043e\\u043c\\u0430\\u0442 \\u0438 \\u0432\\u0438\\u043d\\u0430 \\u0432 \\u043f\\u0440\\u043e\\u0441\\u0440\\u043e\\u0447\\u043a\\u0435 \\u043d\\u0435 \\u043c\\u043e\\u044f. \\u041d\\u0430 \\u0447\\u0442\\u043e \\u0441\\u0443\\u0440\\u043e\\u0432\\u044b\\u0435 \\u0434\\u044f\\u0434\\u0435\\u043d\\u044c\\u043a\\u0438 \\u0438 \\u0442\\u0435\\u0442\\u0435\\u043d\\u044c\\u043a\\u0438 \\u043a\\u0440\\u0438\\u0447\\u0430\\u043b\\u0438 \\u0432 \\u0442\\u0440\\u0443\\u0431\\u043a\\u0443 \\u0447\\u0442\\u043e \\u0438\\u0441\\u043f\\u043e\\u0440\\u0442\\u044f\\u0442 \\u043c\\u043e\\u044e \\u043a\\u0440\\u0435\\u0434\\u0438\\u0442\\u043d\\u0443\\u044e \\u0438\\u0441\\u0442\\u043e\\u0440\\u0438\\u044e. \\u042d\\u0442\\u043e \\u043e\\u043d\\u0438 \\u043a\\u0440\\u0438\\u0447\\u0430\\u043b\\u0438 \\u043c\\u043d\\u0435, \\u043a\\u043e\\u0442\\u043e\\u0440\\u0430\\u044f \\u043d\\u0438 \\u0434\\u043d\\u044f \\u043f\\u0440\\u043e\\u0441\\u0440\\u043e\\u0447\\u043a\\u0438 \\u043d\\u0435 \\u0434\\u043e\\u043f\\u0443\\u0441\\u043a\\u0430\\u043b\\u0430!!! \\u041f\\u043e\\u0437\\u0432\\u043e\\u043d\\u0438\\u043b\\u0430 \\u043d\\u0430 \\u0433\\u043e\\u0440\\u044f\\u0447\\u0443\\u044e \\u043b\\u0438\\u043d\\u0438\\u044e, \\u0443\\u0437\\u043d\\u0430\\u043b\\u0430 \\u0447\\u0442\\u043e \\u0437\\u0430\\u044f\\u0432\\u043b\\u0435\\u043d\\u0438\\u0435 \\u0432 \\u0440\\u0430\\u0431\\u043e\\u0442\\u0435, \\u0430 \\u0441\\u0440\\u043e\\u043a \\u0440\\u0430\\u0441\\u0441\\u043c\\u043e\\u0442\\u0440\\u0435\\u043d\\u0438\\u044f \\u043f\\u0440\\u0435\\u0442\\u0435\\u043d\\u0437\\u0438\\u0438 15 \\u0434\\u043d\\u0435\\u0439. \\u0420\\u0430\\u0441\\u0441\\u0442\\u0440\\u043e\\u0438\\u043b\\u0430\\u0441\\u044c. \\u041e\\u043f\\u044f\\u0442\\u044c \\u043e\\u0431\\u044a\\u044f\\u0441\\u043d\\u044f\\u043b\\u0430 \\u0441\\u0438\\u0442\\u0443\\u0430\\u0446\\u0438\\u044e \\u043e\\u0442\\u0434\\u0435\\u043b\\u0443 \\u043f\\u0440\\u043e\\u0441\\u0440\\u043e\\u0447\\u0435\\u043d\\u043d\\u043e\\u0439 \\u0437\\u0430\\u0434\\u043e\\u043b\\u0436\\u0435\\u043d\\u043d\\u043e\\u0441\\u0442\\u0438. \\u041d\\u0435\\u0443\\u0436\\u0435\\u043b\\u0438 \\u0440\\u0430\\u0437\\u043d\\u044b\\u0435 \\u043f\\u043e\\u0434\\u0440\\u0430\\u0437\\u0434\\u0435\\u043b\\u0435\\u043d\\u0438\\u044f \\u0431\\u0430\\u043d\\u043a\\u0430 \\u043d\\u0435 \\u043a\\u043e\\u043d\\u0442\\u0430\\u043a\\u0442\\u0438\\u0440\\u0443\\u044e\\u0442 \\u043c\\u0435\\u0436\\u0434\\u0443 \\u0441\\u043e\\u0431\\u043e\\u0439??? \\u0422\\u0435\\u043b\\u0435\\u0444\\u043e\\u043d \\u0438\\u043c \\u0447\\u0442\\u043e-\\u043b\\u0438 \\u043f\\u043e\\u0434\\u0430\\u0440\\u0438\\u0442\\u044c??!!! \\u0412\\u0447\\u0435\\u0440\\u0430 \\u043f\\u043e\\u0448\\u043b\\u0430 \\u043f\\u043b\\u0430\\u0442\\u0438\\u0442\\u044c \\u0432\\u0442\\u043e\\u0440\\u043e\\u0439 \\u043a\\u0440\\u0435\\u0434\\u0438\\u0442, \\u043e\\u043f\\u044f\\u0442\\u044c \\u0436\\u0435 \\u0437\\u0430\\u0440\\u0430\\u043d\\u0435\\u0435. \\u0422\\u0430\\u043a \\u043e\\u043d\\u0438 \\u0441\\u043f\\u0438\\u0441\\u0430\\u043b\\u0438 \\u0441\\u0440\\u0435\\u0434\\u0441\\u0442\\u0432\\u0430 \\u043d\\u0430 \\u043f\\u0440\\u043e\\u0441\\u0440\\u043e\\u0447\\u0435\\u043d\\u043d\\u044b\\u0439 \\u043a\\u0440\\u0435\\u0434\\u0438\\u0442. \\u0422\\u0435\\u043f\\u0435\\u0440\\u044c \\u0436\\u0434\\u0443 \\u0447\\u0442\\u043e 18.08 \\u043f\\u0440\\u043e\\u0439\\u0434\\u0435\\u0442 \\u0441\\u0440\\u043e\\u043a \\u0441\\u043f\\u0438\\u0441\\u0430\\u043d\\u0438\\u044f \\u043f\\u043e \\u0432\\u0442\\u043e\\u0440\\u043e\\u043c\\u0443 \\u043a\\u0440\\u0435\\u0434\\u0438\\u0442\\u0443 \\u0438 \\u0441\\u043d\\u043e\\u0432\\u0430 \\u043d\\u0430\\u0447\\u043d\\u0443\\u0442\\u0441\\u044f \\u0437\\u0432\\u043e\\u043d\\u043a\\u0438, \\u0438 \\u043f\\u0440\\u0438\\u0434\\u0435\\u0442\\u0441\\u044f \\u0441\\u043d\\u043e\\u0432\\u0430 \\u0432\\u0441\\u0435 \\u043e\\u0431\\u044a\\u044f\\u0441\\u043d\\u044f\\u0442\\u044c. \\u0410 \\u043f\\u0440\\u0435\\u0442\\u0435\\u043d\\u0437\\u0438\\u044e \\u0435\\u0449\\u0435 \\u0434\\u043e 26.08 \\u043c\\u043e\\u0433\\u0443\\u0442 \\u0440\\u0430\\u0441\\u0441\\u043c\\u0430\\u0442\\u0440\\u0438\\u0432\\u0430\\u0442\\u044c!!! \\u0410, \\u043a\\u0441\\u0442\\u0430\\u0442\\u0438, \\u0441\\u043d\\u044f\\u043b\\u0438 \\u043e\\u043d\\u0438 \\u0434\\u0435\\u043d\\u044c\\u0433\\u0438 \\u0441\\u043e \\u0432\\u0442\\u043e\\u0440\\u043e\\u0433\\u043e \\u043a\\u0440\\u0435\\u0434\\u0438\\u0442\\u0430 \\u0432 \\u0441\\u0447\\u0435\\u0442 \\u043f\\u043e\\u0433\\u0430\\u0448\\u0435\\u043d\\u0438\\u044f \\u043f\\u0435\\u0440\\u0432\\u043e\\u0433\\u043e, \\u043f\\u043e\\u0437\\u0432\\u043e\\u043d\\u0438\\u043b\\u0438 \\u0438 \\u0441\\u043a\\u0430\\u0437\\u0430\\u043b\\u0438 \\u0447\\u0442\\u043e \\u0434\\u043e\\u043b\\u0433 \\u0437\\u0430\\u043a\\u0440\\u044b\\u0442...\\u041d\\u041e!!!...\\u0437\\u0432\\u043e\\u043d\\u043a\\u0438 \\u0441 \\u0430\\u0432\\u0442\\u043e\\u043e\\u0442\\u0432\\u0435\\u0442\\u0447\\u0438\\u043a\\u0430 \\u043f\\u0440\\u043e\\u0434\\u043e\\u043b\\u0436\\u0430\\u044e\\u0442\\u0441\\u044f. \\u0410\\u0432\\u0442\\u043e\\u043e\\u0442\\u0432\\u0435\\u0442\\u0447\\u0438\\u043a \\u0435\\u0449\\u0435 2 \\u0434\\u043d\\u044f \\u0431\\u0443\\u0434\\u0435\\u0442 \\u0442\\u0440\\u0435\\u0431\\u043e\\u0432\\u0430\\u0442\\u044c \\u043f\\u043e\\u0433\\u0430\\u0441\\u0438\\u0442\\u044c \\u0437\\u0430\\u0434\\u043e\\u043b\\u0436\\u0435\\u043d\\u043d\\u043e\\u0441\\u0442\\u044c. \\u0412\\u0438\\u0434\\u0438\\u0442\\u0435-\\u043b\\u0438 \\u0441\\u0438\\u0441\\u0442\\u0435\\u043c\\u0430 \\u0443 \\u043d\\u0438\\u0445 \\u0442\\u0430\\u043a\\u0430\\u044f!!! \\u0414\\u043e\\u0441\\u0442\\u0430\\u043b\\u0438 \\u0437\\u0432\\u043e\\u043d\\u043a\\u0430\\u043c\\u0438 \\u043c\\u0435\\u043d\\u044f(\\u0430 \\u0431\\u044b\\u043b\\u0438 \\u0432\\u044b\\u0445\\u043e\\u0434\\u043d\\u044b\\u0435 \\u0438 \\u0437\\u0432\\u043e\\u043d\\u0438\\u043b\\u0438 \\u0441 9 \\u0443\\u0442\\u0440\\u0430!! \\u041f\\u043e\\u0441\\u043f\\u0430\\u0442\\u044c \\u043d\\u0435 \\u0434\\u0430\\u043b\\u0438 \\u043d\\u0438 \\u0441\\u0443\\u0431\\u0431\\u043e\\u0442\\u0443, \\u043d\\u0438 \\u0432\\u043e\\u0441\\u043a\\u0440\\u0435\\u0441\\u0435\\u043d\\u044c\\u0435. \\u0417\\u0432\\u043e\\u043d\\u0438\\u043b\\u0438 \\u043c\\u043e\\u0435\\u0439 \\u043c\\u0430\\u043c\\u0435, \\u0431\\u043b\\u0430\\u0433\\u043e \\u043f\\u0440\\u0435\\u0434\\u0443\\u043f\\u0440\\u0435\\u0434\\u0438\\u043b\\u0430 \\u0435\\u0435 \\u043e \\u0437\\u0432\\u043e\\u043d\\u043a\\u0430\\u0445) \\u0412 \\u043e\\u0431\\u0449\\u0435\\u043c \\u043e\\u0447\\u0435\\u043d\\u044c \\u0440\\u0435\\u043a\\u043e\\u043c\\u0435\\u043d\\u0434\\u0443\\u044e \\u0441\\u043e\\u0442\\u0440\\u0443\\u0434\\u043d\\u0438\\u043a\\u0430\\u043c \\u0431\\u0430\\u043d\\u043a\\u0430 \\u0438\\u043c\\u0435\\u0442\\u044c \\u0442\\u0435\\u043b\\u0435\\u0444\\u043e\\u043d, \\u0441\\u043a\\u0430\\u0439\\u043f, \\u0432\\u043e\\u0442\\u0441\\u0430\\u043f, \\u043a\\u043e\\u043d\\u0442\\u0430\\u043a\\u0442 \\u0438\\u043b\\u0438 \\u0435\\u0449\\u0435 \\u043a\\u0430\\u043a\\u0438\\u0435-\\u043d\\u0438\\u0431\\u0443\\u0434\\u044c \\u0441\\u0440\\u0435\\u0434\\u0441\\u0442\\u0432\\u0430 \\u0441\\u0432\\u044f\\u0437\\u0438, \\u0447\\u0442\\u043e\\u0431 \\u043c\\u043e\\u0433\\u043b\\u0438 \\u0434\\u0440\\u0443\\u0433 \\u0441 \\u0434\\u0440\\u0443\\u0433\\u043e\\u043c \\u043e\\u0431\\u0449\\u0430\\u0442\\u044c\\u0441\\u044f!! \\u0414\\u0430\\u043d\\u043d\\u044b\\u0439 \\u0431\\u0430\\u043d\\u043a \\u0432 \\u043c\\u043e\\u0438\\u0445 \\u0433\\u043b\\u0430\\u0437\\u0430\\u0445 \\u043e\\u043a\\u043e\\u043d\\u0447\\u0430\\u0442\\u0435\\u043b\\u044c\\u043d\\u043e \\u043f\\u043e\\u0442\\u0435\\u0440\\u044f\\u043b \\u0441\\u0432\\u043e\\u044e \\u0440\\u0435\\u043f\\u0443\\u0442\\u0430\\u0446\\u0438\\u044e.\",\n          \"\\n\\t\\t\\u0421\\u043e\\u0431\\u0441\\u0442\\u0432\\u0435\\u043d\\u043d\\u043e \\u0432\\u0441\\u0435 \\u043d\\u0430\\u0447\\u0438\\u043d\\u0430\\u043b\\u043e\\u0441\\u044c \\u043f\\u0435\\u0447\\u0430\\u043b\\u044c\\u043d\\u043e: \\u0432 \\u043f\\u0440\\u043e\\u0441\\u0442\\u043e\\u043c \\u0434\\u0435\\u043b\\u0435 - \\u043f\\u0435\\u0440\\u0435\\u0432\\u043e\\u0434\\u0435 \\u0434\\u0435\\u043d. \\u0441\\u0440\\u0435\\u0434\\u0441\\u0442\\u0432 \\u0441\\u043e \\u0441\\u0432\\u043e\\u0435\\u0433\\u043e \\u0441\\u0447\\u0435\\u0442\\u0430 \\u043d\\u0430 \\u0441\\u0447\\u0435\\u0442 3-\\u0433\\u043e \\u0444\\u0438\\u0437\\u043b\\u0438\\u0446\\u0430 \\u0447\\u0435\\u0440\\u0435\\u0437 \\u0438\\u043d\\u0442\\u0435\\u0440\\u043d\\u0435\\u0442-\\u0431\\u0430\\u043d\\u043a \\u043f\\u0440\\u043e\\u0438\\u0441\\u0445\\u043e\\u0434\\u0438\\u043b\\u043e \\u043e\\u0442\\u043a\\u043b\\u043e\\u043d\\u0435\\u043d\\u0438\\u0435 \\u043e\\u043f\\u0435\\u0440\\u0430\\u0446\\u0438\\u0438 \\u0442\\u0440\\u0438 \\u0440\\u0430\\u0437\\u0430, \\u0430 \\u043f\\u043e\\u0442\\u043e\\u043c \\u0418\\u0411 \\u0441\\u043e\\u0432\\u0441\\u0435\\u043c \\\"\\u043e\\u0442\\u0432\\u0430\\u043b\\u0438\\u043b\\u0441\\u044f\\\". \\u00a0\\u041f\\u0440\\u0438 \\u044d\\u0442\\u043e\\u043c \\u0445\\u043e\\u0442\\u0435\\u043b\\u043e\\u0441\\u044c \\u0431\\u044b \\u043e\\u0442\\u043c\\u0435\\u0442\\u0438\\u0442\\u044c, \\u0447\\u0442\\u043e \\u043a\\u043e\\u043c\\u0438\\u0441\\u0441\\u0438\\u0438 \\u043f\\u0440\\u0438 \\u043f\\u0435\\u0440\\u0435\\u0432\\u043e\\u0434\\u0435 \\u0432 \\u0418\\u0411 \\u043d\\u0435 \\u0431\\u044b\\u043b\\u043e. \\u00a0\\u0423\\u0436\\u0435 \\u043f\\u0440\\u0438 \\u043b\\u0438\\u0447\\u043d\\u043e\\u043c \\u043e\\u0431\\u0440\\u0430\\u0449\\u0435\\u043d\\u0438\\u0438 \\u0432 \\u043e\\u0444\\u0438\\u0441 \\\"\\u041a\\u0440\\u0430\\u0441\\u043d\\u043e\\u0430\\u0440\\u043c\\u0435\\u0439\\u0441\\u043a\\u0438\\u0439\\\" \\u041e\\u041a\\u0410\\u0417\\u0410\\u041b\\u041e\\u0421\\u042c, \\u0447\\u0442\\u043e \\u0434\\u043b\\u044f \\u0444\\u0438\\u0437\\u0438\\u043a\\u043e\\u0432 \\u0432\\u043d\\u0443\\u0442\\u0440\\u0438\\u0431\\u0430\\u043d\\u043a\\u043e\\u0432\\u0441\\u043a\\u0438\\u0439 \\u043f\\u0435\\u0440\\u0435\\u0432\\u043e\\u0434 \\u043c\\u0435\\u0436\\u0434\\u0443 \\u0441\\u0432\\u043e\\u0438\\u043c\\u0438 \\u0436\\u0435 \\u0444\\u0438\\u043b\\u0438\\u0430\\u043b\\u0430\\u043c\\u0438 \\u043e\\u0431\\u043b\\u0430\\u0433\\u0430\\u0435\\u0442\\u0441\\u044f \\u043a\\u043e\\u043c\\u0438\\u0441\\u0441\\u0438\\u0435\\u0439 (\\u043f\\u043e-\\u043c\\u043e\\u0435\\u043c\\u0443 1,5 %, \\u043d\\u043e \\u0442\\u043e\\u0447\\u043d\\u043e \\u043c\\u0430\\u043a\\u0441 2000 \\u0440\\u0443\\u0431\\u043b\\u0435\\u0439). \\u0420\\u0435\\u0431\\u044f\\u0442\\u0430, \\u043d\\u0430 \\u0434\\u0432\\u043e\\u0440\\u0435 \\u0441\\u043a\\u043e\\u0440\\u043e 2019 \\u0433\\u043e\\u0434!!!!\\u00a0\\u0418 \\u0442\\u043e\\u043b\\u044c\\u043a\\u043e \\u0431\\u043b\\u0430\\u0433\\u043e\\u0434\\u0430\\u0440\\u044f \\u043d\\u0435\\u043a\\u043e\\u0442\\u043e\\u0440\\u044b\\u043c \\u0441\\u043e\\u0442\\u0440\\u0443\\u0434\\u043d\\u0438\\u043a\\u0430\\u043c \\u0431\\u0430\\u043d\\u043a\\u0430 \\u0438 \\u043f\\u043e\\u0442\\u0440\\u0430\\u0447\\u0435\\u043d\\u043d\\u044b\\u043c 1,5 \\u0447\\u0430\\u0441\\u0430\\u043c \\u0432\\u0440\\u0435\\u043c\\u0435\\u043d\\u0438 \\u0443\\u0434\\u0430\\u043b\\u043e\\u0441\\u044c \\u0432\\u0441\\u0435 \\u0436\\u0435 \\u043e\\u0442\\u043f\\u0440\\u0430\\u0432\\u0438\\u0442\\u044c \\u0434\\u0435\\u043d\\u044c\\u0433\\u0438 \\u043d\\u0430 \\u0441\\u0447\\u0435\\u0442 \\u0431\\u0435\\u0437 %. \\u00a0\\u0421\\u043e\\u0442\\u0440\\u0443\\u0434\\u043d\\u0438\\u043a\\u0430\\u043c \\u0441\\u043f\\u0430\\u0441\\u0438\\u0431\\u043e \\u0437\\u0430 \\u0440\\u0435\\u0448\\u0435\\u043d\\u0438\\u0435 \\u043f\\u0440\\u043e\\u0431\\u043b\\u0435\\u043c\\u044b. \\u0410 \\u0440\\u0443\\u043a\\u043e\\u0432\\u043e\\u0434\\u0441\\u0442\\u0432\\u0443 \\u041e\\u0442\\u043a\\u0440\\u044b\\u0442\\u0438\\u044f \\u043f\\u043e\\u0441\\u043e\\u0432\\u0435\\u0442\\u043e\\u0432\\u0430\\u043b \\u0431\\u044b \\u0432\\u0441\\u0435 \\u0436\\u0435 \\u043f\\u043e\\u0432\\u044b\\u0448\\u0430\\u0442\\u044c \\u041a\\u041f\\u0414 \\u0431\\u0430\\u043d\\u043a\\u0430 - \\u043d\\u0435 \\u0436\\u0430\\u043b\\u043a\\u043e \\u0442\\u0440\\u0430\\u0442\\u0438\\u0442\\u044c \\u00a01,5 \\u0447\\u0430\\u0441\\u0430 \\u0440\\u0430\\u0431\\u043e\\u0447\\u0435\\u0433\\u043e \\u0432\\u0440\\u0435\\u043c\\u0435\\u043d\\u0438 \\u0441\\u043e\\u0442\\u0440\\u0443\\u0434\\u043d\\u0438\\u043a\\u043e\\u0432 \\u0441\\u0432\\u043e\\u0435\\u0433\\u043e \\u0431\\u0430\\u043d\\u043a\\u0430 \\u043d\\u0430 \\u043f\\u0440\\u043e\\u0441\\u0442\\u0435\\u0439\\u0448\\u0438\\u0439 \\u043f\\u0435\\u0440\\u0435\\u0432\\u043e\\u0434 \\u043c\\u0435\\u0436\\u0434\\u0443 \\u0441\\u0447\\u0435\\u0442\\u0430\\u043c\\u0438???\\n\\t\",\n          \"\\n\\t\\t\\u0412 2017 \\u0433\\u043e\\u0434\\u0443 \\u0437\\u0430\\u043a\\u0440\\u044b\\u043b \\u043a\\u0440\\u0435\\u0434\\u0438\\u0442\\u043d\\u0443\\u044e \\u043a\\u0430\\u0440\\u0442\\u0443 \\u0432 \\u043e\\u0442\\u0434\\u0435\\u043b\\u0435\\u043d\\u0438\\u0438 \\u0431\\u0430\\u043d\\u043a\\u0430 \\\"\\u0412\\u0430\\u0440\\u0448\\u0430\\u0432\\u0441\\u043a\\u0438\\u0439\\\", \\u0433.\\u041c\\u043e\\u0441\\u043a\\u0432\\u0430.\\u0412 2018-\\u0433\\u043e\\u0434\\u0443 \\u043e\\u0431\\u043d\\u0430\\u0440\\u0443\\u0436\\u0438\\u043b \\u0432 \\u043e\\u0442\\u0447\\u0435\\u0442\\u0435 \\u0438\\u0437 \\u0411\\u041a\\u0418 - \\u0437\\u0430\\u043f\\u0438\\u0441\\u044c \\u043e\\u0431 \\u044d\\u0442\\u043e\\u0439 \\u043a\\u0430\\u0440\\u0442\\u0435 \\u0438 \\u043d\\u0430\\u043b\\u0438\\u0447\\u0438\\u0438 \\u0434\\u043e\\u043b\\u0433\\u0430 \\u0438\\u00a0 \\u043f\\u0440\\u043e\\u0441\\u0440\\u043e\\u0447\\u043a\\u0438 \\u0431\\u043e\\u043b\\u0435\\u0435 120 \\u0434\\u043d\\u0435\\u0439, \\u043e\\u0431\\u0440\\u0430\\u0442\\u0438\\u043b\\u0441\\u044f \\u0432 \\u043e\\u0444\\u0438\\u0441 \\u00a0\\\"\\u0412\\u0430\\u0440\\u0448\\u0430\\u0432\\u0441\\u043a\\u0438\\u0439\\\", \\u0433.\\u041c\\u043e\\u0441\\u043a\\u0432\\u0430 -\\u00a0\\u0440\\u0430\\u0437\\u0432\\u0435\\u043b\\u0438 \\u0440\\u0443\\u043a\\u0430\\u043c\\u0438, \\u0441\\u043a\\u0430\\u0437\\u0430\\u043b\\u0438 \\u0447\\u0442\\u043e \\u043d\\u0435 \\u0432 \\u043a\\u0443\\u0440\\u0441\\u0435 \\u0438 \\u043d\\u0438\\u0447\\u0435\\u0433\\u043e \\u0441\\u0434\\u0435\\u043b\\u0430\\u0442\\u044c \\u043d\\u0435 \\u043c\\u043e\\u0433\\u0443\\u0442. \\u041f\\u043e\\u0440\\u0435\\u043a\\u043e\\u043c\\u0435\\u043d\\u0434\\u043e\\u0432\\u0430\\u043b\\u0438 \\u043e\\u0431\\u0440\\u0430\\u0442\\u0438\\u0442\\u044c\\u0441\\u044f \\u0432 \\u0411\\u041a\\u0418 \\u043c\\u043d\\u0435 \\u0441\\u0430\\u043c\\u043e\\u0441\\u0442\\u043e\\u044f\\u0442\\u0435\\u043b\\u044c\\u043d\\u043e \\u0438 \\u0432\\u044b\\u0434\\u0430\\u043b\\u0438 \\u043d\\u0430 \\u0432\\u0441\\u044f\\u043a\\u0438\\u0439 \\u0441\\u043b\\u0443\\u0447\\u0430\\u0439 \\u0441\\u043f\\u0440\\u0430\\u0432\\u043e\\u0447\\u043a\\u0438 \\u043e \\u0437\\u0430\\u043a\\u0440\\u044b\\u0442\\u0438\\u0438 \\u0441\\u0447\\u0435\\u0442\\u043e\\u0432.\\u00a0\\u041e\\u0442\\u043f\\u0440\\u0430\\u0432\\u0438\\u043b \\u0441\\u043f\\u0440\\u0430\\u0432\\u043e\\u0447\\u043a\\u0438 \\u0432 \\u0411\\u041a\\u0418, \\u0441\\u043f\\u0440\\u0430\\u0432\\u043a\\u0438 \\u043f\\u0440\\u0438\\u043d\\u044f\\u043b\\u0438, \\u043d\\u043e \\u0438\\u043d\\u0444\\u043e\\u0440\\u043c\\u0430\\u0446\\u0438\\u044f \\u0438\\u0437 \\u043a\\u0440\\u0435\\u0434\\u0438\\u0442\\u043d\\u043e\\u0439 \\u0438\\u0441\\u0442\\u043e\\u0440\\u0438\\u0438 \\u043d\\u0435 \\u043f\\u0440\\u043e\\u043f\\u0430\\u043b\\u0430. \\u0412 \\u0411\\u041a\\u0418 \\u0441\\u043a\\u0430\\u0437\\u0430\\u043b\\u0438 \\u0447\\u0442\\u043e \\u0442\\u0430\\u043a\\u0438\\u0435 \\u0434\\u0430\\u043d\\u043d\\u044b\\u0435 \\u0438\\u043c \\u043f\\u0435\\u0440\\u0435\\u0434\\u0430\\u0435\\u0442 \\u0431\\u0430\\u043d\\u043a.\\u041f\\u0440\\u043e\\u0448\\u0435\\u043b \\u0435\\u0449\\u0435 \\u0433\\u043e\\u0434.\\u0412 2019-\\u0433\\u043e\\u0434\\u0443 \\u0432 \\u043e\\u0442\\u0447\\u0435\\u0442\\u0435 \\u0438\\u0437 \\u0411\\u041a\\u0418 - \\u0432\\u0441\\u0435 \\u0442\\u0430 \\u0436\\u0435 \\u0437\\u0430\\u043f\\u0438\\u0441\\u044c \\u043e \\u043d\\u0430\\u043b\\u0438\\u0447\\u0438\\u0438 \\u0434\\u043e\\u043b\\u0433\\u0430 \\u043f\\u043e \\u043a\\u0440\\u0435\\u0434\\u0438\\u0442\\u043d\\u043e\\u0439 \\u043a\\u0430\\u0440\\u0442\\u0435 \\u0438 \\u043f\\u0440\\u043e\\u0441\\u0440\\u043e\\u0447\\u043a\\u0435.\\u00a0\\u041d\\u0443\\u0436\\u043d\\u043e \\u043b\\u0438 \\u0433\\u043e\\u0432\\u043e\\u0440\\u0438\\u0442\\u044c \\u043e \\u0442\\u043e\\u043c, \\u0447\\u0442\\u043e \\u044d\\u0442\\u043e \\u0435\\u0434\\u0438\\u043d\\u0441\\u0442\\u0432\\u0435\\u043d\\u043d\\u0430\\u044f \\u043f\\u0430\\u0440\\u0448\\u0438\\u0432\\u0430\\u044f \\u0437\\u0430\\u043f\\u0438\\u0441\\u044c \\u0432 \\u043c\\u043e\\u0435\\u0439 \\u0431\\u0435\\u0437\\u043e\\u0431\\u043b\\u0430\\u0447\\u043d\\u043e\\u0439 \\u043a\\u0440\\u0435\\u0434\\u0438\\u0442\\u043d\\u043e\\u0439 \\u0438\\u0441\\u0442\\u043e\\u0440\\u0438\\u0438 - \\u0438 \\u0438\\u0437 \\u0437\\u0430 \\u043d\\u0435\\u0435 \\u044f \\u043b\\u0438\\u0448\\u0430\\u044e\\u0441\\u044c \\u0432\\u043e\\u0437\\u043c\\u043e\\u0436\\u043d\\u043e\\u0441\\u0442\\u0438 \\u043f\\u043e\\u043b\\u044c\\u0437\\u043e\\u0432\\u0430\\u0442\\u044c\\u0441\\u044f \\u0432\\u044b\\u0433\\u043e\\u0434\\u043d\\u044b\\u043c\\u0438 \\u043a\\u0440\\u0435\\u0434\\u0438\\u0442\\u043d\\u044b\\u043c\\u0438 \\u043f\\u0440\\u043e\\u0434\\u0443\\u043a\\u0442\\u0430\\u043c\\u0438 \\u0434\\u0440\\u0443\\u0433\\u0438\\u0445 \\u0431\\u0430\\u043d\\u043a\\u043e\\u0432?\\u0421\\u0430\\u043c\\u0438 \\u0448\\u0435\\u0432\\u0435\\u043b\\u0438\\u0442\\u044c\\u0441\\u044f \\u043d\\u0435 \\u0445\\u043e\\u0442\\u044f\\u0442\\u00a0 - \\u043f\\u043e\\u0441\\u043b\\u0430\\u0442\\u044c \\u043a\\u043b\\u0438\\u0435\\u043d\\u0442\\u0430 \\u0432 \\u0411\\u041a\\u0418 \\u0441\\u0430\\u043c\\u043e\\u0441\\u0442\\u043e\\u044f\\u0442\\u0435\\u043b\\u044c\\u043d\\u043e \\u0438\\u0441\\u043f\\u0440\\u0430\\u0432\\u043b\\u044f\\u0442\\u044c \\u0438\\u0445 \\u043e\\u0448\\u0438\\u0431\\u043a\\u0438 - \\u044d\\u0442\\u043e \\u043a\\u043e\\u043d\\u0435\\u0447\\u043d\\u043e \\u0432\\u044b\\u0441\\u0448\\u0438\\u0439 \\u043a\\u043b\\u0430\\u0441\\u0441.\\n\\t\"\n        ],\n        \"semantic_type\": \"\",\n        \"description\": \"\"\n      }\n    },\n    {\n      \"column\": \"bank_name\",\n      \"properties\": {\n        \"dtype\": \"category\",\n        \"num_unique_values\": 475,\n        \"samples\": [\n          \"\\u0431\\u0430\\u043d\\u043a \\u0442\\u0430\\u0432\\u0440\\u0438\\u0447\\u0435\\u0441\\u043a\\u0438\\u0439\",\n          \"\\u043b\\u0435\\u043d\\u043e\\u0431\\u043b\\u0431\\u0430\\u043d\\u043a\",\n          \"\\u0440\\u0443\\u0441\\u0444\\u0438\\u043d\\u0430\\u043d\\u0441 \\u0431\\u0430\\u043d\\u043a\"\n        ],\n        \"semantic_type\": \"\",\n        \"description\": \"\"\n      }\n    },\n    {\n      \"column\": \"site\",\n      \"properties\": {\n        \"dtype\": \"category\",\n        \"num_unique_values\": 3,\n        \"samples\": [\n          \"http://bankireview.ru\",\n          \"http://banki.ru\",\n          \"https://www.sravni.ru\"\n        ],\n        \"semantic_type\": \"\",\n        \"description\": \"\"\n      }\n    },\n    {\n      \"column\": \"date\",\n      \"properties\": {\n        \"dtype\": \"category\",\n        \"num_unique_values\": 11027,\n        \"samples\": [\n          \"29.01.2019 20:04\",\n          \"16.01.2019 18:07\",\n          \"15.01.2019 0:03\"\n        ],\n        \"semantic_type\": \"\",\n        \"description\": \"\"\n      }\n    },\n    {\n      \"column\": \"message_href\",\n      \"properties\": {\n        \"dtype\": \"category\",\n        \"num_unique_values\": 7673,\n        \"samples\": [\n          \"/bank/tatfondbank/otzyv/185768/?page\",\n          \"/bank/russkij-standart/otzyv/175724/?page\",\n          \"/bank/khanty-mansijskij-bank-otkrytie/otzyv/192725/?page\"\n        ],\n        \"semantic_type\": \"\",\n        \"description\": \"\"\n      }\n    },\n    {\n      \"column\": \"score\",\n      \"properties\": {\n        \"dtype\": \"category\",\n        \"num_unique_values\": 6,\n        \"samples\": [\n          \"\\u0411\\u0435\\u0437 \\u043e\\u0446\\u0435\\u043d\\u043a\\u0438\",\n          \"1\",\n          \"4\"\n        ],\n        \"semantic_type\": \"\",\n        \"description\": \"\"\n      }\n    },\n    {\n      \"column\": \"status\",\n      \"properties\": {\n        \"dtype\": \"category\",\n        \"num_unique_values\": 1157,\n        \"samples\": [\n          \"=message_href =/services/responses/bank/response/10224330/\",\n          \"=message_href =/services/responses/bank/response/10224139/\",\n          \"=message_href =/services/responses/bank/response/10233063/\"\n        ],\n        \"semantic_type\": \"\",\n        \"description\": \"\"\n      }\n    },\n    {\n      \"column\": \"user_href\",\n      \"properties\": {\n        \"dtype\": \"category\",\n        \"num_unique_values\": 10347,\n        \"samples\": [\n          \"/profile/?UID=135067\",\n          \"/profile/?UID=1599446\",\n          \"/profile/?UID=963445\"\n        ],\n        \"semantic_type\": \"\",\n        \"description\": \"\"\n      }\n    }\n  ]\n}"
            }
          },
          "metadata": {},
          "execution_count": 2
        }
      ],
      "source": [
        "data = pd.read_csv('/content/financial_review.csv')\n",
        "data.head()"
      ]
    },
    {
      "cell_type": "markdown",
      "metadata": {
        "id": "dx1hLl2y-oqJ"
      },
      "source": [
        "#### Выберите один из банков (поле “bank_name”), отфильтуйте отзывы только для рассматриваемого банка."
      ]
    },
    {
      "cell_type": "code",
      "execution_count": null,
      "metadata": {
        "colab": {
          "base_uri": "https://localhost:8080/"
        },
        "id": "RcDFfm-M_FUo",
        "outputId": "36de258f-cf85-40d4-d96a-9766fd19153f"
      },
      "outputs": [
        {
          "output_type": "execute_result",
          "data": {
            "text/plain": [
              "втб                             2603\n",
              "сбербанк                        2481\n",
              "тинькофф банк                   1476\n",
              "почта банк                      1264\n",
              "альфа-банк                      1260\n",
              "                                ... \n",
              "национальный банк сбережений       1\n",
              "электронный платежный сервис       1\n",
              "внешфинбанк                        1\n",
              "металлург                          1\n",
              "банк развитие-столица              1\n",
              "Name: bank_name, Length: 475, dtype: int64"
            ]
          },
          "metadata": {},
          "execution_count": 3
        }
      ],
      "source": [
        "data['bank_name'].value_counts()"
      ]
    },
    {
      "cell_type": "code",
      "execution_count": null,
      "metadata": {
        "colab": {
          "base_uri": "https://localhost:8080/",
          "height": 556
        },
        "id": "Oh6vKHgT_Fsm",
        "outputId": "b0f1429a-6bbd-435a-ee44-d30604012b7c"
      },
      "outputs": [
        {
          "output_type": "execute_result",
          "data": {
            "text/plain": [
              "                            bank_href login  \\\n",
              "2487  /tinkoff-kreditnye-sistemy.html   NaN   \n",
              "2488  /tinkoff-kreditnye-sistemy.html   NaN   \n",
              "2489  /tinkoff-kreditnye-sistemy.html   NaN   \n",
              "2490  /tinkoff-kreditnye-sistemy.html   NaN   \n",
              "2491  /tinkoff-kreditnye-sistemy.html   NaN   \n",
              "\n",
              "                                                 review      bank_name  \\\n",
              "2487  С финансами было все не плохо,была работа у му...  тинькофф банк   \n",
              "2488  Вчера закрывал задолженность по карте Тинькофф...  тинькофф банк   \n",
              "2489  Вот так! Я клиент банка уже почти год, имею и ...  тинькофф банк   \n",
              "2490  Хороший надежный Банк, клиентом которого я явл...  тинькофф банк   \n",
              "2491  19.11.2016 у меня были украдены деньги с карты...  тинькофф банк   \n",
              "\n",
              "                       site date message_href score status user_href  \n",
              "2487  http://bankireview.ru  NaN          NaN   NaN    NaN       NaN  \n",
              "2488  http://bankireview.ru  NaN          NaN   NaN    NaN       NaN  \n",
              "2489  http://bankireview.ru  NaN          NaN   NaN    NaN       NaN  \n",
              "2490  http://bankireview.ru  NaN          NaN   NaN    NaN       NaN  \n",
              "2491  http://bankireview.ru  NaN          NaN   NaN    NaN       NaN  "
            ],
            "text/html": [
              "\n",
              "  <div id=\"df-ccd64bee-a4f8-4533-959b-c1a0371e860e\" class=\"colab-df-container\">\n",
              "    <div>\n",
              "<style scoped>\n",
              "    .dataframe tbody tr th:only-of-type {\n",
              "        vertical-align: middle;\n",
              "    }\n",
              "\n",
              "    .dataframe tbody tr th {\n",
              "        vertical-align: top;\n",
              "    }\n",
              "\n",
              "    .dataframe thead th {\n",
              "        text-align: right;\n",
              "    }\n",
              "</style>\n",
              "<table border=\"1\" class=\"dataframe\">\n",
              "  <thead>\n",
              "    <tr style=\"text-align: right;\">\n",
              "      <th></th>\n",
              "      <th>bank_href</th>\n",
              "      <th>login</th>\n",
              "      <th>review</th>\n",
              "      <th>bank_name</th>\n",
              "      <th>site</th>\n",
              "      <th>date</th>\n",
              "      <th>message_href</th>\n",
              "      <th>score</th>\n",
              "      <th>status</th>\n",
              "      <th>user_href</th>\n",
              "    </tr>\n",
              "  </thead>\n",
              "  <tbody>\n",
              "    <tr>\n",
              "      <th>2487</th>\n",
              "      <td>/tinkoff-kreditnye-sistemy.html</td>\n",
              "      <td>NaN</td>\n",
              "      <td>С финансами было все не плохо,была работа у му...</td>\n",
              "      <td>тинькофф банк</td>\n",
              "      <td>http://bankireview.ru</td>\n",
              "      <td>NaN</td>\n",
              "      <td>NaN</td>\n",
              "      <td>NaN</td>\n",
              "      <td>NaN</td>\n",
              "      <td>NaN</td>\n",
              "    </tr>\n",
              "    <tr>\n",
              "      <th>2488</th>\n",
              "      <td>/tinkoff-kreditnye-sistemy.html</td>\n",
              "      <td>NaN</td>\n",
              "      <td>Вчера закрывал задолженность по карте Тинькофф...</td>\n",
              "      <td>тинькофф банк</td>\n",
              "      <td>http://bankireview.ru</td>\n",
              "      <td>NaN</td>\n",
              "      <td>NaN</td>\n",
              "      <td>NaN</td>\n",
              "      <td>NaN</td>\n",
              "      <td>NaN</td>\n",
              "    </tr>\n",
              "    <tr>\n",
              "      <th>2489</th>\n",
              "      <td>/tinkoff-kreditnye-sistemy.html</td>\n",
              "      <td>NaN</td>\n",
              "      <td>Вот так! Я клиент банка уже почти год, имею и ...</td>\n",
              "      <td>тинькофф банк</td>\n",
              "      <td>http://bankireview.ru</td>\n",
              "      <td>NaN</td>\n",
              "      <td>NaN</td>\n",
              "      <td>NaN</td>\n",
              "      <td>NaN</td>\n",
              "      <td>NaN</td>\n",
              "    </tr>\n",
              "    <tr>\n",
              "      <th>2490</th>\n",
              "      <td>/tinkoff-kreditnye-sistemy.html</td>\n",
              "      <td>NaN</td>\n",
              "      <td>Хороший надежный Банк, клиентом которого я явл...</td>\n",
              "      <td>тинькофф банк</td>\n",
              "      <td>http://bankireview.ru</td>\n",
              "      <td>NaN</td>\n",
              "      <td>NaN</td>\n",
              "      <td>NaN</td>\n",
              "      <td>NaN</td>\n",
              "      <td>NaN</td>\n",
              "    </tr>\n",
              "    <tr>\n",
              "      <th>2491</th>\n",
              "      <td>/tinkoff-kreditnye-sistemy.html</td>\n",
              "      <td>NaN</td>\n",
              "      <td>19.11.2016 у меня были украдены деньги с карты...</td>\n",
              "      <td>тинькофф банк</td>\n",
              "      <td>http://bankireview.ru</td>\n",
              "      <td>NaN</td>\n",
              "      <td>NaN</td>\n",
              "      <td>NaN</td>\n",
              "      <td>NaN</td>\n",
              "      <td>NaN</td>\n",
              "    </tr>\n",
              "  </tbody>\n",
              "</table>\n",
              "</div>\n",
              "    <div class=\"colab-df-buttons\">\n",
              "\n",
              "  <div class=\"colab-df-container\">\n",
              "    <button class=\"colab-df-convert\" onclick=\"convertToInteractive('df-ccd64bee-a4f8-4533-959b-c1a0371e860e')\"\n",
              "            title=\"Convert this dataframe to an interactive table.\"\n",
              "            style=\"display:none;\">\n",
              "\n",
              "  <svg xmlns=\"http://www.w3.org/2000/svg\" height=\"24px\" viewBox=\"0 -960 960 960\">\n",
              "    <path d=\"M120-120v-720h720v720H120Zm60-500h600v-160H180v160Zm220 220h160v-160H400v160Zm0 220h160v-160H400v160ZM180-400h160v-160H180v160Zm440 0h160v-160H620v160ZM180-180h160v-160H180v160Zm440 0h160v-160H620v160Z\"/>\n",
              "  </svg>\n",
              "    </button>\n",
              "\n",
              "  <style>\n",
              "    .colab-df-container {\n",
              "      display:flex;\n",
              "      gap: 12px;\n",
              "    }\n",
              "\n",
              "    .colab-df-convert {\n",
              "      background-color: #E8F0FE;\n",
              "      border: none;\n",
              "      border-radius: 50%;\n",
              "      cursor: pointer;\n",
              "      display: none;\n",
              "      fill: #1967D2;\n",
              "      height: 32px;\n",
              "      padding: 0 0 0 0;\n",
              "      width: 32px;\n",
              "    }\n",
              "\n",
              "    .colab-df-convert:hover {\n",
              "      background-color: #E2EBFA;\n",
              "      box-shadow: 0px 1px 2px rgba(60, 64, 67, 0.3), 0px 1px 3px 1px rgba(60, 64, 67, 0.15);\n",
              "      fill: #174EA6;\n",
              "    }\n",
              "\n",
              "    .colab-df-buttons div {\n",
              "      margin-bottom: 4px;\n",
              "    }\n",
              "\n",
              "    [theme=dark] .colab-df-convert {\n",
              "      background-color: #3B4455;\n",
              "      fill: #D2E3FC;\n",
              "    }\n",
              "\n",
              "    [theme=dark] .colab-df-convert:hover {\n",
              "      background-color: #434B5C;\n",
              "      box-shadow: 0px 1px 3px 1px rgba(0, 0, 0, 0.15);\n",
              "      filter: drop-shadow(0px 1px 2px rgba(0, 0, 0, 0.3));\n",
              "      fill: #FFFFFF;\n",
              "    }\n",
              "  </style>\n",
              "\n",
              "    <script>\n",
              "      const buttonEl =\n",
              "        document.querySelector('#df-ccd64bee-a4f8-4533-959b-c1a0371e860e button.colab-df-convert');\n",
              "      buttonEl.style.display =\n",
              "        google.colab.kernel.accessAllowed ? 'block' : 'none';\n",
              "\n",
              "      async function convertToInteractive(key) {\n",
              "        const element = document.querySelector('#df-ccd64bee-a4f8-4533-959b-c1a0371e860e');\n",
              "        const dataTable =\n",
              "          await google.colab.kernel.invokeFunction('convertToInteractive',\n",
              "                                                    [key], {});\n",
              "        if (!dataTable) return;\n",
              "\n",
              "        const docLinkHtml = 'Like what you see? Visit the ' +\n",
              "          '<a target=\"_blank\" href=https://colab.research.google.com/notebooks/data_table.ipynb>data table notebook</a>'\n",
              "          + ' to learn more about interactive tables.';\n",
              "        element.innerHTML = '';\n",
              "        dataTable['output_type'] = 'display_data';\n",
              "        await google.colab.output.renderOutput(dataTable, element);\n",
              "        const docLink = document.createElement('div');\n",
              "        docLink.innerHTML = docLinkHtml;\n",
              "        element.appendChild(docLink);\n",
              "      }\n",
              "    </script>\n",
              "  </div>\n",
              "\n",
              "\n",
              "<div id=\"df-092617ee-1c02-4b63-9585-d35db60980cb\">\n",
              "  <button class=\"colab-df-quickchart\" onclick=\"quickchart('df-092617ee-1c02-4b63-9585-d35db60980cb')\"\n",
              "            title=\"Suggest charts\"\n",
              "            style=\"display:none;\">\n",
              "\n",
              "<svg xmlns=\"http://www.w3.org/2000/svg\" height=\"24px\"viewBox=\"0 0 24 24\"\n",
              "     width=\"24px\">\n",
              "    <g>\n",
              "        <path d=\"M19 3H5c-1.1 0-2 .9-2 2v14c0 1.1.9 2 2 2h14c1.1 0 2-.9 2-2V5c0-1.1-.9-2-2-2zM9 17H7v-7h2v7zm4 0h-2V7h2v10zm4 0h-2v-4h2v4z\"/>\n",
              "    </g>\n",
              "</svg>\n",
              "  </button>\n",
              "\n",
              "<style>\n",
              "  .colab-df-quickchart {\n",
              "      --bg-color: #E8F0FE;\n",
              "      --fill-color: #1967D2;\n",
              "      --hover-bg-color: #E2EBFA;\n",
              "      --hover-fill-color: #174EA6;\n",
              "      --disabled-fill-color: #AAA;\n",
              "      --disabled-bg-color: #DDD;\n",
              "  }\n",
              "\n",
              "  [theme=dark] .colab-df-quickchart {\n",
              "      --bg-color: #3B4455;\n",
              "      --fill-color: #D2E3FC;\n",
              "      --hover-bg-color: #434B5C;\n",
              "      --hover-fill-color: #FFFFFF;\n",
              "      --disabled-bg-color: #3B4455;\n",
              "      --disabled-fill-color: #666;\n",
              "  }\n",
              "\n",
              "  .colab-df-quickchart {\n",
              "    background-color: var(--bg-color);\n",
              "    border: none;\n",
              "    border-radius: 50%;\n",
              "    cursor: pointer;\n",
              "    display: none;\n",
              "    fill: var(--fill-color);\n",
              "    height: 32px;\n",
              "    padding: 0;\n",
              "    width: 32px;\n",
              "  }\n",
              "\n",
              "  .colab-df-quickchart:hover {\n",
              "    background-color: var(--hover-bg-color);\n",
              "    box-shadow: 0 1px 2px rgba(60, 64, 67, 0.3), 0 1px 3px 1px rgba(60, 64, 67, 0.15);\n",
              "    fill: var(--button-hover-fill-color);\n",
              "  }\n",
              "\n",
              "  .colab-df-quickchart-complete:disabled,\n",
              "  .colab-df-quickchart-complete:disabled:hover {\n",
              "    background-color: var(--disabled-bg-color);\n",
              "    fill: var(--disabled-fill-color);\n",
              "    box-shadow: none;\n",
              "  }\n",
              "\n",
              "  .colab-df-spinner {\n",
              "    border: 2px solid var(--fill-color);\n",
              "    border-color: transparent;\n",
              "    border-bottom-color: var(--fill-color);\n",
              "    animation:\n",
              "      spin 1s steps(1) infinite;\n",
              "  }\n",
              "\n",
              "  @keyframes spin {\n",
              "    0% {\n",
              "      border-color: transparent;\n",
              "      border-bottom-color: var(--fill-color);\n",
              "      border-left-color: var(--fill-color);\n",
              "    }\n",
              "    20% {\n",
              "      border-color: transparent;\n",
              "      border-left-color: var(--fill-color);\n",
              "      border-top-color: var(--fill-color);\n",
              "    }\n",
              "    30% {\n",
              "      border-color: transparent;\n",
              "      border-left-color: var(--fill-color);\n",
              "      border-top-color: var(--fill-color);\n",
              "      border-right-color: var(--fill-color);\n",
              "    }\n",
              "    40% {\n",
              "      border-color: transparent;\n",
              "      border-right-color: var(--fill-color);\n",
              "      border-top-color: var(--fill-color);\n",
              "    }\n",
              "    60% {\n",
              "      border-color: transparent;\n",
              "      border-right-color: var(--fill-color);\n",
              "    }\n",
              "    80% {\n",
              "      border-color: transparent;\n",
              "      border-right-color: var(--fill-color);\n",
              "      border-bottom-color: var(--fill-color);\n",
              "    }\n",
              "    90% {\n",
              "      border-color: transparent;\n",
              "      border-bottom-color: var(--fill-color);\n",
              "    }\n",
              "  }\n",
              "</style>\n",
              "\n",
              "  <script>\n",
              "    async function quickchart(key) {\n",
              "      const quickchartButtonEl =\n",
              "        document.querySelector('#' + key + ' button');\n",
              "      quickchartButtonEl.disabled = true;  // To prevent multiple clicks.\n",
              "      quickchartButtonEl.classList.add('colab-df-spinner');\n",
              "      try {\n",
              "        const charts = await google.colab.kernel.invokeFunction(\n",
              "            'suggestCharts', [key], {});\n",
              "      } catch (error) {\n",
              "        console.error('Error during call to suggestCharts:', error);\n",
              "      }\n",
              "      quickchartButtonEl.classList.remove('colab-df-spinner');\n",
              "      quickchartButtonEl.classList.add('colab-df-quickchart-complete');\n",
              "    }\n",
              "    (() => {\n",
              "      let quickchartButtonEl =\n",
              "        document.querySelector('#df-092617ee-1c02-4b63-9585-d35db60980cb button');\n",
              "      quickchartButtonEl.style.display =\n",
              "        google.colab.kernel.accessAllowed ? 'block' : 'none';\n",
              "    })();\n",
              "  </script>\n",
              "</div>\n",
              "    </div>\n",
              "  </div>\n"
            ],
            "application/vnd.google.colaboratory.intrinsic+json": {
              "type": "dataframe",
              "variable_name": "data_bank",
              "summary": "{\n  \"name\": \"data_bank\",\n  \"rows\": 1476,\n  \"fields\": [\n    {\n      \"column\": \"bank_href\",\n      \"properties\": {\n        \"dtype\": \"category\",\n        \"num_unique_values\": 3,\n        \"samples\": [\n          \"/tinkoff-kreditnye-sistemy.html\",\n          \"/services/responses/bank/tcs/\",\n          \"/bank/tinkoff-bank/\"\n        ],\n        \"semantic_type\": \"\",\n        \"description\": \"\"\n      }\n    },\n    {\n      \"column\": \"login\",\n      \"properties\": {\n        \"dtype\": \"string\",\n        \"num_unique_values\": 1120,\n        \"samples\": [\n          \"9*******@gmail.com\",\n          \"elena0712\",\n          \"\\u0414\\u043c\\u0438\\u0442\\u0440\\u0438\\u0439, \"\n        ],\n        \"semantic_type\": \"\",\n        \"description\": \"\"\n      }\n    },\n    {\n      \"column\": \"review\",\n      \"properties\": {\n        \"dtype\": \"string\",\n        \"num_unique_values\": 1476,\n        \"samples\": [\n          \"\\n\\t\\t\\u0412 \\u043f\\u044f\\u0442\\u043d\\u0438\\u0446\\u0443 \\u0432\\u0435\\u0447\\u0435\\u0440\\u043e\\u043c \\u043e\\u0441\\u0442\\u0430\\u043b\\u0441\\u044f \\u0431\\u0435\\u0437 \\u043d\\u0430\\u043b\\u0438\\u0447\\u043d\\u044b\\u0445 \\u0434\\u0435\\u043d\\u0435\\u0433 \\u0438 \\u0432\\u044b\\u0440\\u0443\\u0447\\u0430\\u044e\\u0449\\u0435\\u0439 \\u0432 \\u0442\\u0440\\u0443\\u0434\\u043d\\u044b\\u0435 \\u043c\\u0438\\u043d\\u0443\\u0442\\u044b \\u043a\\u0440\\u0435\\u0434\\u0438\\u0442\\u043d\\u043e\\u0439 \\u043a\\u0430\\u0440\\u0442\\u044b (\\u043e\\u043d\\u0430 \\u0431\\u044b\\u043b\\u0430 \\u0432 \\u0444\\u0430\\u0437\\u0435 \\u043f\\u0435\\u0440\\u0435\\u0432\\u044b\\u043f\\u0443\\u0441\\u043a\\u0430, \\u0430 \\u0434\\u043e\\u0441\\u0442\\u0430\\u0432\\u043a\\u0443 \\u044f \\u043e\\u0436\\u0438\\u0434\\u0430\\u043b \\u0442\\u043e\\u043b\\u044c\\u043a\\u043e \\u0432 \\u043f\\u043e\\u043d\\u0435\\u0434\\u0435\\u043b\\u044c\\u043d\\u0438\\u043a). \\u041f\\u043e\\u0437\\u0432\\u043e\\u043d\\u0438\\u0432 \\u043d\\u0430 \\u0433\\u043e\\u0440\\u044f\\u0447\\u0443\\u044e \\u043b\\u0438\\u043d\\u0438\\u044e \\u0438 \\u0432\\u044b\\u044f\\u0441\\u043d\\u0438\\u0432 \\u043d\\u0430\\u0441\\u043a\\u043e\\u043b\\u044c\\u043a\\u043e \\u043f\\u0435\\u0447\\u0430\\u043b\\u044c\\u043d\\u0430 \\u043c\\u043e\\u044f \\u0441\\u0438\\u0442\\u0443\\u0430\\u0446\\u0438\\u044f, \\u044f \\u043d\\u0430\\u0447\\u0430\\u043b \\u0443\\u043d\\u044b\\u043b\\u043e \\u043f\\u0440\\u043e\\u0449\\u0430\\u0442\\u044c\\u0441\\u044f \\u0441 \\u0410\\u043b\\u0435\\u043a\\u0441\\u0430\\u043d\\u0434\\u0440\\u043e\\u043c (\\u0442\\u0430\\u043a \\u0437\\u0432\\u0430\\u043b\\u0438 \\u0441\\u043e\\u0442\\u0440\\u0443\\u0434\\u043d\\u0438\\u043a\\u0430), \\u043d\\u043e \\u043d\\u0435 \\u0442\\u0443\\u0442-\\u0442\\u043e \\u0431\\u044b\\u043b\\u043e!\\\"\\u042d\\u0442\\u043e \\u043d\\u0435 \\u0431\\u0435\\u0434\\u0430\\\", \\u0441\\u043a\\u0430\\u0437\\u0430\\u043b \\u043e\\u043d \\u0438 \\u043f\\u0440\\u0435\\u0434\\u043b\\u043e\\u0436\\u0438\\u043b \\u0432\\u044b\\u043f\\u0443\\u0441\\u0442\\u0438\\u0442\\u044c \\u0434\\u043e\\u043f\\u043e\\u043b\\u043d\\u0438\\u0442\\u0435\\u043b\\u044c\\u043d\\u0443\\u044e \\u0432\\u0438\\u0440\\u0442\\u0443\\u0430\\u043b\\u044c\\u043d\\u0443\\u044e \\u043a\\u0430\\u0440\\u0442\\u0443 \\u0434\\u043b\\u044f \\u043e\\u043f\\u043b\\u0430\\u0442\\u044b \\u043f\\u043e\\u043a\\u0443\\u043f\\u043e\\u043a \\u0447\\u0435\\u0440\\u0435\\u0437 \\u0442\\u0435\\u0440\\u043c\\u0438\\u043d\\u0430\\u043b. \\u041f\\u043e\\u0434 \\u0435\\u0433\\u043e \\u0447\\u0443\\u0442\\u043a\\u0438\\u043c \\u0440\\u0443\\u043a\\u043e\\u0432\\u043e\\u0434\\u0441\\u0442\\u0432\\u043e\\u043c \\u044f \\u0441\\u043f\\u0440\\u0430\\u0432\\u0438\\u043b\\u0441\\u044f \\u0441 \\u043f\\u043e\\u0441\\u0442\\u0430\\u0432\\u043b\\u0435\\u043d\\u043d\\u043e\\u0439 \\u0437\\u0430\\u0434\\u0430\\u0447\\u0435\\u0439 \\u0437\\u0430 \\u043f\\u0430\\u0440\\u0443 \\u043c\\u0438\\u043d\\u0443\\u0442 \\u0438 \\u0432\\u043e\\u0442 \\u043c\\u043e\\u0439 \\u0432\\u0435\\u0447\\u0435\\u0440 \\u0441\\u043f\\u0430\\u0441\\u0435\\u043d.\\u0425\\u043e\\u0447\\u0443 \\u043f\\u043e\\u0434\\u0447\\u0435\\u0440\\u043a\\u043d\\u0443\\u0442\\u044c, \\u0447\\u0442\\u043e \\u0410\\u043b\\u0435\\u043a\\u0441\\u0430\\u043d\\u0434\\u0440 \\u0435\\u0449\\u0435 \\u0434\\u0432\\u0430\\u0436\\u0434\\u044b \\u043f\\u0435\\u0440\\u0435\\u0437\\u0432\\u0430\\u043d\\u0438\\u0432\\u0430\\u043b, \\u0447\\u0442\\u043e\\u0431\\u044b \\u043f\\u043e\\u043c\\u043e\\u0447\\u044c \\u043c\\u043d\\u0435 \\u0434\\u0435\\u0442\\u0430\\u043b\\u044c\\u043d\\u043e \\u0440\\u0430\\u0437\\u043e\\u0431\\u0440\\u0430\\u0442\\u044c\\u0441\\u044f \\u0432 \\u0441\\u0438\\u0442\\u0443\\u0430\\u0446\\u0438\\u0438. \\u041d\\u0435 \\u043f\\u043e\\u043c\\u043d\\u044e, \\u0447\\u0442\\u043e\\u0431\\u044b \\u0434\\u0440\\u0443\\u0433\\u0438\\u0435 \\u0431\\u0430\\u043d\\u043a\\u0438 \\u0432\\u043e\\u0434\\u0438\\u043b\\u0438 \\u0441\\u043e \\u043c\\u043d\\u043e\\u0439 \\u0442\\u0430\\u043a\\u0438\\u0435 \\u0445\\u043e\\u0440\\u043e\\u0432\\u043e\\u0434\\u044b. \\u0421\\u043f\\u0430\\u0441\\u0438\\u0431\\u043e \\u043b\\u0438\\u0447\\u043d\\u043e \\u0410\\u043b\\u0435\\u043a\\u0441\\u0430\\u043d\\u0434\\u0440\\u0443 \\u0438 \\u043a\\u043e\\u043c\\u0430\\u043d\\u0434\\u0435 \\u0422\\u0438\\u043d\\u044c\\u043a\\u043e\\u0444\\u0444 \\u0437\\u0430 \\u0441\\u043f\\u0430\\u0441\\u0435\\u043d\\u043d\\u044b\\u0439 \\u0432\\u0435\\u0447\\u0435\\u0440! \\u0412\\u043e\\u043b\\u0448\\u0435\\u0431\\u043d\\u0438\\u043a\\u0438=)\\n\\t\",\n          \"\\n\\t\\t\\u0421\\u043f\\u0430\\u0441\\u0438\\u0431\\u043e \\u0440\\u0430\\u0431\\u043e\\u0442\\u043d\\u0438\\u043a\\u0430\\u043c \\u0438 \\u0441\\u043e\\u0442\\u0440\\u0443\\u0434\\u043d\\u0438\\u043a\\u0430\\u043c \\u0431\\u0430\\u043d\\u043a\\u0430 \\u0437\\u0430 \\u043e\\u043f\\u0435\\u0440\\u0430\\u0442\\u0438\\u0432\\u043d\\u043e\\u0435 \\u0438 \\u0431\\u0435\\u0437\\u043e\\u0433\\u043e\\u0432\\u043e\\u0440\\u043e\\u0447\\u043d\\u043e\\u0435 \\u0440\\u0435\\u0448\\u0435\\u043d\\u0438\\u0435 \\u0432\\u043e\\u043f\\u0440\\u043e\\u0441\\u0430 \\u043f\\u043e \\u0432\\u043e\\u0437\\u0432\\u0440\\u0430\\u0442\\u0443 \\u0434\\u0435\\u043d\\u0435\\u0436\\u043d\\u044b\\u0445 \\u0441\\u0440\\u0435\\u0434\\u0441\\u0442\\u0432 \\u043d\\u0430 \\u0434\\u0435\\u0431\\u0435\\u0442\\u043e\\u0432\\u0443\\u044e \\u043a\\u0430\\u0440\\u0442\\u0443 ****8936\\u00a0Tinkoff Black! \\u0411\\u043b\\u0430\\u0433\\u043e\\u0434\\u0430\\u0440\\u044e \\u0437\\u0430 \\u0441\\u043e\\u0442\\u0440\\u0443\\u0434\\u043d\\u0438\\u0447\\u0435\\u0441\\u0442\\u0432\\u043e \\u0438 \\u043f\\u0430\\u0440\\u0442\\u043d\\u0435\\u0440\\u0441\\u0442\\u0432\\u043e! \\u0423\\u043c\\u043d\\u044b\\u0439 \\u043e\\u043d\\u043b\\u0430\\u0439\\u043d \\u0431\\u0430\\u043d\\u043a \\u0432\\u0441\\u0435\\u0433\\u0434\\u0430 \\u043f\\u043e\\u0434 \\u0440\\u0443\\u043a\\u043e\\u0439:\\u00a0- \\u043f\\u043e\\u043c\\u043e\\u0433\\u0430\\u0435\\u0442, \\u0441\\u043e\\u0432\\u0435\\u0442\\u0443\\u0435\\u0442 \\u0438 \\u0440\\u0430\\u0431\\u043e\\u0442\\u0430\\u0435\\u0442 \\u0437\\u0430 \\u0432\\u0430\\u0441!\\n\\t\",\n          \"\\u0412 \\u0430\\u0432\\u0433\\u0443\\u0441\\u0442\\u0435 2014\\u0433 \\u043f\\u043e\\u0434\\u0430\\u043b\\u0430 \\u0437\\u0430\\u044f\\u0432\\u043a\\u0443 \\u043d\\u0430 \\u0440\\u0430\\u0441\\u0442\\u043e\\u0440\\u0436\\u0435\\u043d\\u0438\\u0435 \\u0434\\u043e\\u0433\\u043e\\u0432\\u043e\\u0440\\u0430 \\u043f\\u043e \\u0442\\u0435\\u043b\\u0435\\u0444\\u043e\\u043d\\u0443, \\u0430 \\u043f\\u0440\\u043e \\u044d\\u0442\\u043e \\u0431\\u0430\\u043d\\u043a \\u0443\\u0441\\u043f\\u0435\\u0448\\u043d\\u043e \\u0437\\u0430\\u0431\\u044b\\u043b.\\u0410 \\u0441\\u0435\\u0439\\u0447\\u0430\\u0441 \\u0442\\u0440\\u0435\\u0431\\u0443\\u0435\\u0442 \\u043e\\u043f\\u043b\\u0430\\u0442\\u0438\\u0442\\u044c \\u0435\\u0449\\u0435 \\u043d\\u0430 \\u0433\\u043e\\u0434 \\u043e\\u0431\\u0441\\u043b\\u0443\\u0436\\u0438\\u0432\\u0430\\u043d\\u0438\\u0435 \\u043a\\u0430\\u0440\\u0442\\u044b, \\u0434\\u0430 \\u0435\\u0449\\u0435 \\u0438 \\u0441\\u043e \\u0448\\u0442\\u0440\\u0430\\u0444\\u043e\\u043c! \\u041f\\u043e\\u0437\\u043e\\u0440!\\u0412 \\u0430\\u0432\\u0433\\u0443\\u0441\\u0442\\u0435 2014\\u0433 \\u043f\\u043e\\u0434\\u0430\\u043b\\u0430 \\u0437\\u0430\\u044f\\u0432\\u043a\\u0443 \\u043d\\u0430 \\u0440\\u0430\\u0441\\u0442\\u043e\\u0440\\u0436\\u0435\\u043d\\u0438\\u0435 \\u0434\\u043e\\u0433\\u043e\\u0432\\u043e\\u0440\\u0430 \\u043f\\u043e \\u0442\\u0435\\u043b\\u0435\\u0444\\u043e\\u043d\\u0443, \\u0430 \\u043f\\u0440\\u043e \\u044d\\u0442\\u043e \\u0431\\u0430\\u043d\\u043a \\u0443\\u0441\\u043f\\u0435\\u0448\\u043d\\u043e \\u0437\\u0430\\u0431\\u044b\\u043b.\\u0410 \\u0441\\u0435\\u0439\\u0447\\u0430\\u0441 \\u0442\\u0440\\u0435\\u0431\\u0443\\u0435\\u0442 \\u043e\\u043f\\u043b\\u0430\\u0442\\u0438\\u0442\\u044c \\u0435\\u0449\\u0435 \\u043d\\u0430 \\u0433\\u043e\\u0434 \\u043e\\u0431\\u0441\\u043b\\u0443\\u0436\\u0438\\u0432\\u0430\\u043d\\u0438\\u0435 \\u043a\\u0430\\u0440\\u0442\\u044b, \\u0434\\u0430 \\u0435\\u0449\\u0435 \\u0438 \\u0441\\u043e \\u0448\\u0442\\u0440\\u0430\\u0444\\u043e\\u043c! \\u041f\\u043e\\u0437\\u043e\\u0440!\"\n        ],\n        \"semantic_type\": \"\",\n        \"description\": \"\"\n      }\n    },\n    {\n      \"column\": \"bank_name\",\n      \"properties\": {\n        \"dtype\": \"category\",\n        \"num_unique_values\": 1,\n        \"samples\": [\n          \"\\u0442\\u0438\\u043d\\u044c\\u043a\\u043e\\u0444\\u0444 \\u0431\\u0430\\u043d\\u043a\"\n        ],\n        \"semantic_type\": \"\",\n        \"description\": \"\"\n      }\n    },\n    {\n      \"column\": \"site\",\n      \"properties\": {\n        \"dtype\": \"category\",\n        \"num_unique_values\": 3,\n        \"samples\": [\n          \"http://bankireview.ru\"\n        ],\n        \"semantic_type\": \"\",\n        \"description\": \"\"\n      }\n    },\n    {\n      \"column\": \"date\",\n      \"properties\": {\n        \"dtype\": \"string\",\n        \"num_unique_values\": 1298,\n        \"samples\": [\n          \"01.02.2019 13:30\"\n        ],\n        \"semantic_type\": \"\",\n        \"description\": \"\"\n      }\n    },\n    {\n      \"column\": \"message_href\",\n      \"properties\": {\n        \"dtype\": \"category\",\n        \"num_unique_values\": 326,\n        \"samples\": [\n          \"/bank/tinkoff-bank/otzyv/210217/?page\"\n        ],\n        \"semantic_type\": \"\",\n        \"description\": \"\"\n      }\n    },\n    {\n      \"column\": \"score\",\n      \"properties\": {\n        \"dtype\": \"category\",\n        \"num_unique_values\": 6,\n        \"samples\": [\n          \"5\"\n        ],\n        \"semantic_type\": \"\",\n        \"description\": \"\"\n      }\n    },\n    {\n      \"column\": \"status\",\n      \"properties\": {\n        \"dtype\": \"category\",\n        \"num_unique_values\": 75,\n        \"samples\": [\n          \"=message_href =/services/responses/bank/response/10236651/\"\n        ],\n        \"semantic_type\": \"\",\n        \"description\": \"\"\n      }\n    },\n    {\n      \"column\": \"user_href\",\n      \"properties\": {\n        \"dtype\": \"string\",\n        \"num_unique_values\": 1012,\n        \"samples\": [\n          \"/profile/?UID=1518680\"\n        ],\n        \"semantic_type\": \"\",\n        \"description\": \"\"\n      }\n    }\n  ]\n}"
            }
          },
          "metadata": {},
          "execution_count": 4
        }
      ],
      "source": [
        "data_bank = data.loc[data['bank_name'] == 'тинькофф банк']\n",
        "data_bank.head()"
      ]
    },
    {
      "cell_type": "markdown",
      "metadata": {
        "id": "aZk09qz--ydo"
      },
      "source": [
        "#### Выполните всю необходимую предварительную обработку текста (удаление лишних символов, стемминг/лемматизация, токенизация и т.д.)."
      ]
    },
    {
      "cell_type": "code",
      "source": [
        "import pymorphy2\n",
        "import nltk\n",
        "from nltk.tokenize import word_tokenize\n",
        "nltk.download('punkt')\n",
        "from nltk.corpus import stopwords\n",
        "import re\n",
        "from nltk.stem.snowball import SnowballStemmer"
      ],
      "metadata": {
        "colab": {
          "base_uri": "https://localhost:8080/"
        },
        "id": "CyIQVdxY67u2",
        "outputId": "6bbdec0c-a0c7-4ee2-b518-a5315bb3d180"
      },
      "execution_count": null,
      "outputs": [
        {
          "output_type": "stream",
          "name": "stderr",
          "text": [
            "[nltk_data] Downloading package punkt to /root/nltk_data...\n",
            "[nltk_data]   Package punkt is already up-to-date!\n"
          ]
        }
      ]
    },
    {
      "cell_type": "markdown",
      "source": [
        "##### STEMMING"
      ],
      "metadata": {
        "id": "mLrkkl8scPYD"
      }
    },
    {
      "cell_type": "code",
      "source": [
        "stemmer = SnowballStemmer('russian')\n",
        "nltk.download('stopwords')\n",
        "stopwords = set(stopwords.words('russian'))\n",
        "\n",
        "def preprocess(text):\n",
        "    text = re.sub(r'[^\\w\\s]', '', text)\n",
        "    text = text.lower()\n",
        "    text = word_tokenize(text)\n",
        "    filtered_tokens = [token for token in text if not token in stopwords]\n",
        "    text = [stemmer.stem(word) for word in filtered_tokens]\n",
        "\n",
        "    return text"
      ],
      "metadata": {
        "colab": {
          "base_uri": "https://localhost:8080/"
        },
        "id": "Yi3Xy_Hobar5",
        "outputId": "1f0d9192-c005-45e2-c252-46607601c088"
      },
      "execution_count": null,
      "outputs": [
        {
          "output_type": "stream",
          "name": "stderr",
          "text": [
            "[nltk_data] Downloading package stopwords to /root/nltk_data...\n",
            "[nltk_data]   Package stopwords is already up-to-date!\n"
          ]
        }
      ]
    },
    {
      "cell_type": "code",
      "source": [
        "data_bank_tokenized = data_bank.copy()\n",
        "data_bank_tokenized['review'] = data_bank_tokenized['review'].apply(preprocess)\n",
        "\n",
        "data_bank_tokenized['review']"
      ],
      "metadata": {
        "colab": {
          "base_uri": "https://localhost:8080/"
        },
        "id": "kY0i6JywbavS",
        "outputId": "fd4292e5-ee37-4c30-9964-15d006ffc5fc"
      },
      "execution_count": null,
      "outputs": [
        {
          "output_type": "execute_result",
          "data": {
            "text/plain": [
              "2487     [финанс, плохоб, работ, муж, постоя, доход, бо...\n",
              "2488     [вчер, закрыва, задолжен, карт, тинькофф, откр...\n",
              "2489     [клиент, банк, год, им, дебетов, кредитн, карт...\n",
              "2490     [хорош, надежн, банк, клиент, котор, явля, пер...\n",
              "2491     [19112016, украд, деньг, карт, пиш, коротк, ср...\n",
              "                               ...                        \n",
              "19920    [довольн, клиент, банкаокол, 5ти, лет, явля, к...\n",
              "19921    [кредитн, карт, tinkoff, bank, платинумпольз, ...\n",
              "19922    [итак, договор, расторг, 14, ма, 2015, лиш, 2,...\n",
              "19923    [хамск, отношен, сотрудник, доведен, пожил, че...\n",
              "19924    [здравствуйтеуважа, сотрудник, банкакт, сможет...\n",
              "Name: review, Length: 1476, dtype: object"
            ]
          },
          "metadata": {},
          "execution_count": 38
        }
      ]
    },
    {
      "cell_type": "markdown",
      "source": [
        "##### LEMMA"
      ],
      "metadata": {
        "id": "2407don6cVM_"
      }
    },
    {
      "cell_type": "markdown",
      "source": [
        "Для лемматизации будет использоваться морфологический анализатор для русского языка pymorphy2"
      ],
      "metadata": {
        "id": "GoQiJBgpd1xQ"
      }
    },
    {
      "cell_type": "code",
      "source": [
        "morph = pymorphy2.MorphAnalyzer()"
      ],
      "metadata": {
        "id": "gttqVrpB67wn"
      },
      "execution_count": null,
      "outputs": []
    },
    {
      "cell_type": "code",
      "source": [
        "nltk.download('stopwords')\n",
        "stop_words = set(stopwords.words('russian'))"
      ],
      "metadata": {
        "colab": {
          "base_uri": "https://localhost:8080/"
        },
        "id": "gF-sLsg784N0",
        "outputId": "f3e58ab6-e2f5-47a1-d95f-53887dadafdc"
      },
      "execution_count": null,
      "outputs": [
        {
          "output_type": "stream",
          "name": "stderr",
          "text": [
            "[nltk_data] Downloading package stopwords to /root/nltk_data...\n",
            "[nltk_data]   Package stopwords is already up-to-date!\n"
          ]
        }
      ]
    },
    {
      "cell_type": "code",
      "source": [
        "def lemmatize_tokenize_text(text):\n",
        "    text = re.sub(r'[^\\w\\s]', '', text)\n",
        "    tokens = word_tokenize(text)\n",
        "    tokens = [token.lower() for token in tokens if token.isalnum() and token.lower() not in stop_words]\n",
        "    lemmatized_tokens = [morph.parse(token)[0].normal_form for token in tokens]\n",
        "\n",
        "    return lemmatized_tokens"
      ],
      "metadata": {
        "id": "MxiddWhm67y1"
      },
      "execution_count": null,
      "outputs": []
    },
    {
      "cell_type": "code",
      "source": [
        "data_bank_lemma = data_bank.copy()\n",
        "data_bank_lemma['review'] = data_bank_lemma['review'].apply(\n",
        "    lambda x: lemmatize_tokenize_text(x))\n",
        "\n",
        "data_bank_lemma['review']"
      ],
      "metadata": {
        "colab": {
          "base_uri": "https://localhost:8080/"
        },
        "id": "M-VDTyzE6708",
        "outputId": "4f25d321-2c0e-4f1c-a99d-fc8e9865f129"
      },
      "execution_count": null,
      "outputs": [
        {
          "output_type": "execute_result",
          "data": {
            "text/plain": [
              "2487     [финансы, плохобыть, работа, муж, постоянный, ...\n",
              "2488     [вчера, закрывать, задолженность, карта, тиньк...\n",
              "2489     [клиент, банк, год, иметь, дебетовый, кредитны...\n",
              "2490     [хороший, надёжный, банк, клиент, который, явл...\n",
              "2491     [19112016, украсть, деньга, карта, писать, кор...\n",
              "                               ...                        \n",
              "19920    [довольный, клиент, банкаоколо, 5ти, год, явля...\n",
              "19921    [кредитный, карта, tinkoff, bank, platinumполь...\n",
              "19922    [итак, договор, расторгнуть, 14, май, 2015, ли...\n",
              "19923    [хамский, отношение, сотрудник, доведение, пож...\n",
              "19924    [здравствуйтеуважать, сотрудник, банкакто, смо...\n",
              "Name: review, Length: 1476, dtype: object"
            ]
          },
          "metadata": {},
          "execution_count": 11
        }
      ]
    },
    {
      "cell_type": "markdown",
      "source": [
        "Стемминг в данном случае не показывает хороших результатов по приведению слов к одной форме из-за морфологической структуры русского языка. Поэтому далее в лабораторной будут использоваться результаты, полученные с помощью лемматизации."
      ],
      "metadata": {
        "id": "R3LcaSgacxf8"
      }
    },
    {
      "cell_type": "markdown",
      "metadata": {
        "id": "KYGYwgn0-3fH"
      },
      "source": [
        "#### Найдите Топ-10 наиболее часто используемых слов в отзывах."
      ]
    },
    {
      "cell_type": "code",
      "execution_count": null,
      "metadata": {
        "id": "mL8HSrN7_GUV"
      },
      "outputs": [],
      "source": [
        "from nltk import FreqDist"
      ]
    },
    {
      "cell_type": "code",
      "source": [
        "all_words = [word for sublist in data_bank_lemma['review'] for word in sublist]\n",
        "freq_dist = FreqDist(all_words)\n",
        "top_words = freq_dist.most_common(10)\n",
        "\n",
        "print(\"Топ-10 наиболее часто используемых слов в столбце 'review' в датафрейме:\")\n",
        "for word, count in top_words: print(f\"{word}: {count}\")"
      ],
      "metadata": {
        "colab": {
          "base_uri": "https://localhost:8080/"
        },
        "id": "0vCBzebJ9sSq",
        "outputId": "70c6530a-21ad-4041-a77e-062ebfeb5ba4"
      },
      "execution_count": null,
      "outputs": [
        {
          "output_type": "stream",
          "name": "stdout",
          "text": [
            "Топ-10 наиболее часто используемых слов в столбце 'review' в датафрейме:\n",
            "банк: 4630\n",
            "карта: 2153\n",
            "тинькофф: 1342\n",
            "это: 1270\n",
            "счёт: 1049\n",
            "мой: 902\n",
            "день: 890\n",
            "который: 880\n",
            "очень: 814\n",
            "клиент: 791\n"
          ]
        }
      ]
    },
    {
      "cell_type": "markdown",
      "metadata": {
        "id": "I6A9DTZN-6J7"
      },
      "source": [
        "#### Разделите отзывы на положительные и отрицательные с использованием значения в поле «score» (например, 1,2- негативные, 4,5-позитивные)."
      ]
    },
    {
      "cell_type": "code",
      "source": [
        "data_bank_neg_pos = data_bank_lemma.copy()"
      ],
      "metadata": {
        "id": "j10D19MxEYJg"
      },
      "execution_count": null,
      "outputs": []
    },
    {
      "cell_type": "code",
      "source": [
        "positive_reviews = data_bank_neg_pos[(data_bank_neg_pos['score'] == '4') | (data_bank_neg_pos['score'] == '5')]\n",
        "negative_reviews = data_bank_neg_pos[(data_bank_neg_pos['score'] == '1') | (data_bank_neg_pos['score'] == '2')]\n",
        "\n",
        "print(f\"Количество положительных отзывов: {positive_reviews.shape[0]}\")\n",
        "print(f\"Количество отрицательных отзывов: {negative_reviews.shape[0]}\")"
      ],
      "metadata": {
        "colab": {
          "base_uri": "https://localhost:8080/"
        },
        "id": "0vOwfW8-DDkf",
        "outputId": "995a3516-bee1-4252-d4a8-eab27dd040ee"
      },
      "execution_count": null,
      "outputs": [
        {
          "output_type": "stream",
          "name": "stdout",
          "text": [
            "Количество положительных отзывов: 765\n",
            "Количество отрицательных отзывов: 331\n"
          ]
        }
      ]
    },
    {
      "cell_type": "markdown",
      "metadata": {
        "id": "55Tfrzbs-nfc"
      },
      "source": [
        "#### Найдите Топ-10 наиболее часто используемых прилагательных, используемых со словом банк для положительных/отрицательных отзывов.\n"
      ]
    },
    {
      "cell_type": "code",
      "source": [
        "from collections import Counter"
      ],
      "metadata": {
        "id": "2UTve_TiZ_5h"
      },
      "execution_count": null,
      "outputs": []
    },
    {
      "cell_type": "code",
      "source": [
        "def extract_adjectives_from_reviews(df):\n",
        "    adjectives = []\n",
        "    for review_list in df:\n",
        "      analyzed = morph.parse(review_list)[0].tag\n",
        "      if 'ADJF' in analyzed:\n",
        "        adjectives.append(review_list)\n",
        "\n",
        "    return adjectives"
      ],
      "metadata": {
        "id": "ArBU95zuOaYl"
      },
      "execution_count": null,
      "outputs": []
    },
    {
      "cell_type": "code",
      "source": [
        "positive_adjectives = []\n",
        "negative_adjectives = []\n",
        "sub_pos = []\n",
        "sub_neg = []\n",
        "\n",
        "for review in positive_reviews['review']:\n",
        "    if 'банк' in review:\n",
        "      positive_adjectives.append(extract_adjectives_from_reviews(review))\n",
        "\n",
        "for ls in positive_adjectives:\n",
        "  for sub in ls:\n",
        "    sub_pos.append(sub)\n",
        "\n",
        "top_positive_adjectives = Counter(sub_pos).most_common(10)\n",
        "\n",
        "for review in negative_reviews['review']:\n",
        "    if 'банк' in review:\n",
        "      negative_adjectives.append(extract_adjectives_from_reviews(review))\n",
        "\n",
        "for ls in negative_adjectives:\n",
        "  for sub in ls:\n",
        "    sub_neg.append(sub)\n",
        "\n",
        "top_negative_adjectives = Counter(sub_neg).most_common(10)"
      ],
      "metadata": {
        "id": "oFRZfNjXOR3v"
      },
      "execution_count": null,
      "outputs": []
    },
    {
      "cell_type": "code",
      "source": [
        "print(\"Топ-10 позитивных прилагательных:\")\n",
        "for word, count in top_positive_adjectives: print(f\"{word}: {count}\")\n",
        "\n",
        "print(\"\\n\" + \"Топ-10 негативных прилагательных:\")\n",
        "for word, count in top_negative_adjectives: print(f\"{word}: {count}\")"
      ],
      "metadata": {
        "colab": {
          "base_uri": "https://localhost:8080/"
        },
        "id": "vKo_3uidQXVJ",
        "outputId": "fef66138-6349-479e-f7dc-019ef0064515"
      },
      "execution_count": null,
      "outputs": [
        {
          "output_type": "stream",
          "name": "stdout",
          "text": [
            "Топ-10 позитивных прилагательных:\n",
            "который: 335\n",
            "мой: 292\n",
            "свой: 259\n",
            "хороший: 209\n",
            "весь: 190\n",
            "кредитный: 178\n",
            "такой: 172\n",
            "другой: 172\n",
            "любой: 162\n",
            "удобный: 150\n",
            "\n",
            "Топ-10 негативных прилагательных:\n",
            "мой: 211\n",
            "который: 185\n",
            "кредитный: 170\n",
            "такой: 148\n",
            "свой: 144\n",
            "ваш: 112\n",
            "какой: 89\n",
            "один: 87\n",
            "другой: 82\n",
            "должный: 65\n"
          ]
        }
      ]
    },
    {
      "cell_type": "code",
      "source": [],
      "metadata": {
        "id": "YvnUdljCaggA"
      },
      "execution_count": null,
      "outputs": []
    }
  ],
  "metadata": {
    "colab": {
      "provenance": []
    },
    "kernelspec": {
      "display_name": "Python 3",
      "name": "python3"
    },
    "language_info": {
      "name": "python"
    }
  },
  "nbformat": 4,
  "nbformat_minor": 0
}